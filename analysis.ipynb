{
 "cells": [
  {
   "cell_type": "markdown",
   "id": "b1d946cc-2b93-49e5-b104-9aa653e1a989",
   "metadata": {},
   "source": [
    "# 1. Imports"
   ]
  },
  {
   "cell_type": "code",
   "execution_count": 1,
   "id": "95702951-b22f-467b-b788-8b4d83241161",
   "metadata": {},
   "outputs": [],
   "source": [
    "import pandas as pd\n",
    "import numpy as np\n",
    "import re\n",
    "import matplotlib.pyplot as plt\n",
    "from bs4 import BeautifulSoup \n",
    "from datetime import datetime\n",
    "from vaderSentiment.vaderSentiment import SentimentIntensityAnalyzer\n",
    "import plotly.express as px\n"
   ]
  },
  {
   "cell_type": "code",
   "execution_count": null,
   "id": "ee5bc0cc-b0ad-4904-8a13-5dad3a015588",
   "metadata": {},
   "outputs": [],
   "source": [
    "folder = \"generated/\"\n",
    "\n",
    "df_events=pd.read_csv(folder + \"usa_historical_events\")\n",
    "df_movies=pd.read_csv(folder + \"cleaned_data\")"
   ]
  },
  {
   "cell_type": "code",
   "execution_count": null,
   "id": "1c25ea53-53de-4a9e-ba43-013f67621a3f",
   "metadata": {},
   "outputs": [],
   "source": [
    "df_events.head(5)\n",
    "df_movies.head(5)"
   ]
  },
  {
   "cell_type": "markdown",
   "id": "65f8743f-e412-489b-b264-79b93d613dfb",
   "metadata": {},
   "source": [
    "# 2. Preliminary Analysis"
   ]
  },
  {
   "cell_type": "markdown",
   "id": "7f0c5417-1b35-48d9-884b-8218045aa083",
   "metadata": {},
   "source": [
    "## 2.1 Number of movies"
   ]
  },
  {
   "cell_type": "code",
   "execution_count": null,
   "id": "0623f310-e92d-4222-92f7-d2b0711a54b3",
   "metadata": {},
   "outputs": [],
   "source": [
    "plt.figure(figsize=(10, 6))\n",
    "df_movies['Movie release year'].value_counts().sort_index().plot(kind='line')\n",
    "plt.xlabel(\"Movie Release Year\")\n",
    "plt.ylabel(\"Number of Movies\")\n",
    "plt.title(\"Number of Movies by Release Year\")\n",
    "plt.xticks(rotation=45)\n",
    "plt.show()"
   ]
  },
  {
   "cell_type": "markdown",
   "id": "89dba482-9531-4269-b7ba-883726e54c81",
   "metadata": {},
   "source": [
    "## 2.2 Box office"
   ]
  },
  {
   "cell_type": "code",
   "execution_count": null,
   "id": "8cf35b7c-403d-4824-91c7-2999654839ab",
   "metadata": {},
   "outputs": [],
   "source": [
    "df_plot = df_movies.dropna(subset=['Movie release year', 'Movie box office revenue'])\n",
    "average_revenue_stats = df_plot.groupby('Movie release year')['Movie box office revenue'].agg(['mean', 'count'])\n",
    "average_revenue_stats.columns = ['Average Revenue', 'Sample Count']\n",
    "average_revenue_stats.head(5)"
   ]
  },
  {
   "cell_type": "code",
   "execution_count": null,
   "id": "ecfe36f8-84f4-4d09-9742-322b960c7f07",
   "metadata": {},
   "outputs": [],
   "source": [
    "fig, ax1 = plt.subplots(figsize=(10, 6))\n",
    "\n",
    "ax1.set_xlabel(\"Movie Release Year\")\n",
    "ax1.set_ylabel(\"Average Box Office Revenue\", color=\"tab:blue\")\n",
    "ax1.plot(average_revenue_stats.index, average_revenue_stats['Average Revenue'], color=\"tab:blue\", label=\"Average Revenue\")\n",
    "ax1.tick_params(axis='y', labelcolor=\"tab:blue\")\n",
    "ax1.grid(True)\n",
    "\n",
    "ax2 = ax1.twinx()\n",
    "ax2.set_ylabel(\"Sample Count\", color=\"tab:orange\")\n",
    "ax2.bar(average_revenue_stats.index, average_revenue_stats['Sample Count'], color=\"tab:orange\", alpha=0.3, label=\"Sample Count\")\n",
    "ax2.tick_params(axis='y', labelcolor=\"tab:orange\")\n",
    "\n",
    "fig.suptitle(\"Average Box Office Revenue and Sample Count by Movie Release Year\")\n",
    "fig.tight_layout()\n",
    "plt.show()"
   ]
  },
  {
   "cell_type": "markdown",
   "id": "6578598f-9509-461a-b3db-6e796f85fc2b",
   "metadata": {},
   "source": [
    "## 2.3 Languages"
   ]
  },
  {
   "cell_type": "code",
   "execution_count": null,
   "id": "63b6db5d-40f2-4689-b191-6c25feb7daf5",
   "metadata": {},
   "outputs": [],
   "source": [
    "language_list = sum(df_treated['Movie languages'].tolist(), [])\n",
    "language_counts = pd.Series(language_list).value_counts()\n",
    "\n",
    "plt.figure(figsize=(10, 6))\n",
    "language_counts[:20].plot(kind='bar')\n",
    "plt.xlabel(\"Language\")\n",
    "plt.ylabel(\"Frequency\")\n",
    "plt.title(\"Frequency of Languages in Movie Data\")\n",
    "plt.xticks(rotation=45)\n",
    "plt.show()\n",
    "#empty list is like NaN\n",
    "language_counts.to_string()"
   ]
  },
  {
   "cell_type": "markdown",
   "id": "b723a252-388f-4305-8493-f3995e50ad38",
   "metadata": {},
   "source": [
    "## 2.4 Genres"
   ]
  },
  {
   "cell_type": "code",
   "execution_count": null,
   "id": "dc00a943-2a57-47bc-98a4-a935bfa17e52",
   "metadata": {},
   "outputs": [],
   "source": [
    "genres_list = sum(df_treated['Movie genres'].tolist(), [])\n",
    "\n",
    "\n",
    "genre_counts = pd.Series(genres_list).value_counts()\n",
    "\n",
    "# Plotting the value counts\n",
    "plt.figure(figsize=(10, 6))\n",
    "genre_counts[:20].plot(kind='bar')\n",
    "plt.xlabel(\"Genre\")\n",
    "plt.ylabel(\"Frequency\")\n",
    "plt.title(\"Frequency of Genres in Movie Data\")\n",
    "plt.xticks(rotation=45)\n",
    "plt.show()"
   ]
  },
  {
   "cell_type": "code",
   "execution_count": null,
   "id": "7ae65219-8ac3-4027-b5a3-6909d83fe646",
   "metadata": {},
   "outputs": [],
   "source": [
    "genre_counts.to_string()"
   ]
  },
  {
   "cell_type": "markdown",
   "id": "177453b6-f703-427b-8e79-d75139218107",
   "metadata": {},
   "source": [
    "## 2.5 Countries"
   ]
  },
  {
   "cell_type": "code",
   "execution_count": null,
   "id": "f2898c0b-2a06-4aa0-99ed-a0babddd41b2",
   "metadata": {},
   "outputs": [],
   "source": [
    "countries_list = sum(df_treated['Movie countries'].tolist(), [])\n",
    "\n",
    "\n",
    "country_counts = pd.Series(countries_list).value_counts()\n",
    "\n",
    "# Plotting the value counts\n",
    "plt.figure(figsize=(10, 6))\n",
    "country_counts[:20].plot(kind='bar')\n",
    "plt.xlabel(\"Country\")\n",
    "plt.ylabel(\"Frequency\")\n",
    "plt.title(\"Frequency of Countries in Movie Data\")\n",
    "plt.xticks(rotation=45)\n",
    "plt.show()\n",
    "#empty is nan"
   ]
  },
  {
   "cell_type": "code",
   "execution_count": null,
   "id": "c4f69af3-efc3-4ebb-82c4-2c23654718c3",
   "metadata": {},
   "outputs": [],
   "source": [
    "country_counts.to_string()"
   ]
  },
  {
   "cell_type": "markdown",
   "id": "cdc96abd-173b-48e1-a3b4-6338c3f3b063",
   "metadata": {},
   "source": [
    "## 2.6 Sentiment Score"
   ]
  },
  {
   "cell_type": "code",
   "execution_count": null,
   "id": "479313ee-48e6-4dd7-8120-b6453095a720",
   "metadata": {},
   "outputs": [],
   "source": [
    "plot_df = df_merged.dropna(subset=['Movie release year', 'Compound Score'])\n",
    "\n",
    "mean_compound_score_per_year = plot_df.groupby('Movie release year')['Compound Score'].mean()\n",
    "mean_compound_score_per_year = pd.DataFrame(mean_compound_score_per_year)\n"
   ]
  },
  {
   "cell_type": "code",
   "execution_count": null,
   "id": "bcdec0da-9e56-482d-a7d8-7eac58f039a8",
   "metadata": {},
   "outputs": [],
   "source": [
    "plt.figure(figsize=(10, 6))\n",
    "plt.plot(mean_compound_score_per_year.index, mean_compound_score_per_year['Compound Score'])\n",
    "plt.xlabel('Movie Release Year')\n",
    "plt.ylabel('Mean Compound Score')\n",
    "plt.title('Mean Compound Score per Movie Release Year')\n",
    "plt.grid(True)\n",
    "plt.show()"
   ]
  },
  {
   "cell_type": "code",
   "execution_count": null,
   "id": "874d00e6-3d44-4d55-9e70-6ec3ff5d6d9f",
   "metadata": {},
   "outputs": [],
   "source": [
    "fig = px.line(\n",
    "    mean_compound_score_per_year,\n",
    "    x=mean_compound_score_per_year.index,\n",
    "    y='Compound Score',\n",
    "    title='Mean Compound Score per Movie Release Year',\n",
    "    labels={'Movie release year': 'Year', 'Compound Score': 'Mean Compound Score'}\n",
    ")\n",
    "\n",
    "fig.update_traces(hovertemplate=\"Year: %{x}<br>Compound Score: %{y:.2f}\")\n",
    "\n",
    "fig.show()"
   ]
  },
  {
   "cell_type": "code",
   "execution_count": null,
   "id": "03823697-a14e-4095-8dee-95d308d59f41",
   "metadata": {},
   "outputs": [],
   "source": [
    "plot_df = df_merged.dropna(subset=['Movie release month', 'Compound Score'])\n",
    "\n",
    "# Group by 'Movie release year' and calculate the mean of 'Compound Score'\n",
    "mean_compound_score_per_month = plot_df.groupby('Movie release month')['Compound Score'].mean()\n",
    "mean_compound_score_per_month = pd.DataFrame(mean_compound_score_per_month)\n",
    "\n",
    "plt.figure(figsize=(10, 6))\n",
    "plt.plot(mean_compound_score_per_month.index, mean_compound_score_per_month['Compound Score'])\n",
    "plt.xlabel('Movie Release Month')\n",
    "plt.ylabel('Mean Compound Score')\n",
    "plt.title('Mean Compound Score per Movie Release Month')\n",
    "plt.grid(True)\n",
    "plt.show()"
   ]
  },
  {
   "cell_type": "code",
   "execution_count": null,
   "id": "7b2bf14d-9237-425d-9f8e-7fbc206721e9",
   "metadata": {},
   "outputs": [],
   "source": [
    "plot_df = df_merged.dropna(subset=['Movie release month', 'Compound Score'])\n",
    "\n",
    "plot_df['Decade'] = (plot_df['Movie release year'] // 10) * 10\n",
    "\n",
    "top_decades = plot_df['Decade'].value_counts().nlargest(5).index\n",
    "\n",
    "top_decades_df = plot_df[filtered_df['Decade'].isin(top_decades)]\n",
    "\n",
    "mean_compound_score_per_decade_month = top_decades_df.groupby(['Decade', 'Movie release month'])['Compound Score'].mean().unstack()\n",
    "\n",
    "plt.figure(figsize=(10, 6))\n",
    "\n",
    "for decade in mean_compound_score_per_decade_month.index:\n",
    "    plt.plot(mean_compound_score_per_decade_month.columns, mean_compound_score_per_decade_month.loc[decade], label=f'{decade}s')\n",
    "\n",
    "plt.xlabel('Movie Release Month')\n",
    "plt.ylabel('Mean Compound Score')\n",
    "plt.title('Mean Compound Score per Movie Release Month (Top 5 Decades with Most Data)')\n",
    "plt.legend(title='Decade')\n",
    "plt.grid(True)\n",
    "plt.show()\n"
   ]
  },
  {
   "cell_type": "code",
   "execution_count": null,
   "id": "af2025e7-5885-4324-be37-271fbd69248b",
   "metadata": {},
   "outputs": [],
   "source": [
    "row_means = mean_compound_score_per_decade_month.mean(axis=1)\n",
    "\n",
    "mean_compound_score_per_decade = pd.DataFrame(row_means, columns=['Mean Compound Score'])\n",
    "\n",
    "mean_compound_score_per_decade"
   ]
  },
  {
   "cell_type": "code",
   "execution_count": null,
   "id": "a5463a96-e64b-4d70-b7f4-c7c3d7bb3d26",
   "metadata": {},
   "outputs": [],
   "source": [
    "fig = px.line(\n",
    "    df_events, \n",
    "    x='Date', \n",
    "    y='Compound Score', \n",
    "    title='Compound Sentiment Score Over Time',\n",
    "    labels={'Date': 'Date', 'Compound Score': 'Compound Sentiment Score'},\n",
    ")\n",
    "\n",
    "fig.update_traces(mode='lines+markers')  \n",
    "fig.update_layout(\n",
    "    xaxis_title='Date',\n",
    "    yaxis_title='Compound Score',\n",
    "    hovermode=\"x unified\", \n",
    "    template=\"plotly_white\", \n",
    "    width=800,\n",
    "    height=500\n",
    ")\n",
    "\n",
    "fig.show()"
   ]
  }
 ],
 "metadata": {
  "kernelspec": {
   "display_name": "Python [conda env:base] *",
   "language": "python",
   "name": "conda-base-py"
  },
  "language_info": {
   "codemirror_mode": {
    "name": "ipython",
    "version": 3
   },
   "file_extension": ".py",
   "mimetype": "text/x-python",
   "name": "python",
   "nbconvert_exporter": "python",
   "pygments_lexer": "ipython3",
   "version": "3.12.3"
  }
 },
 "nbformat": 4,
 "nbformat_minor": 5
}
