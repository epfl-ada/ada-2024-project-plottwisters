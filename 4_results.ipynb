{
 "cells": [
  {
   "cell_type": "markdown",
   "id": "49c2b3c3-c7ce-47f8-8468-7e297829fe1a",
   "metadata": {},
   "source": [
    "# RESULTS"
   ]
  },
  {
   "cell_type": "markdown",
   "id": "1345b25a-1552-4341-8a87-fac38dd7ed2f",
   "metadata": {},
   "source": [
    "## Does the analysis matter?"
   ]
  },
  {
   "cell_type": "markdown",
   "id": "5a75bb77-f0fa-404b-b387-61261ee9deaf",
   "metadata": {
    "jp-MarkdownHeadingCollapsed": true
   },
   "source": [
    "![](visuals/1.png)\n",
    "\n",
    "<!-- ![](visuals/2.png) -->\n",
    "\n",
    "![](visuals/3.png)\n",
    "\n",
    "![](visuals/4.png)\n",
    "\n",
    "<!-- ![](visuals/5.png) -->"
   ]
  },
  {
   "cell_type": "markdown",
   "id": "5f62ee94-d67a-451c-a880-0a21b8a9f5f8",
   "metadata": {
    "jp-MarkdownHeadingCollapsed": true
   },
   "source": [
    "## Hypothesis 1 : higher budget movies are a higher risk and are less likely to be profitable."
   ]
  },
  {
   "cell_type": "markdown",
   "id": "2c166cec-6a74-45a9-9ec2-b0ccf0015f53",
   "metadata": {},
   "source": [
    "![](visuals/6.png)\n",
    "\n",
    "<!-- ![](visuals/7.png) -->\n",
    "\n",
    "![](visuals/8.png)\n",
    "\n",
    "![](visuals/9.png)\n",
    "\n"
   ]
  },
  {
   "cell_type": "markdown",
   "id": "1c16ef8a-585a-404e-b9d5-b12e4dbf4869",
   "metadata": {},
   "source": [
    "## Hypothesis 2: Does movie runtime influence revenue?\n",
    "assuming ticket prices are constant, people might prefer longer movies as they would get more watchtime per dollar spent. "
   ]
  },
  {
   "cell_type": "markdown",
   "id": "32a78c6d-a0bd-4e59-9f17-00e365ca70ae",
   "metadata": {},
   "source": [
    "![](visuals/10.png)\n",
    "Plot of number of movies within a certain range of runtimes. We can see that most movies are around the \n",
    "\n",
    "![](visuals/11.png)\n",
    "\n",
    "![](visuals/12.png)\n",
    "\n",
    "![](visuals/13.png)"
   ]
  },
  {
   "cell_type": "markdown",
   "id": "b208f942-d3c3-48c5-a3b8-a4c1f9edce59",
   "metadata": {},
   "source": [
    "## Hypothesis 3: what is the most profitable release period?"
   ]
  },
  {
   "cell_type": "markdown",
   "id": "427118ff-bf6d-47ba-9577-003cf0996a31",
   "metadata": {},
   "source": [
    "![](visuals/14.png)\n",
    "\n",
    "On this first plot of the third hypothesis, we compare the profitability of the films depending on their release day. The purpose there was to check if, for example, the pay day had an impact on the profit each movie make. It is an acceptable hypothesis to think that people are more inclined to go to the movie theater as the receive their pay than if it is the end of the month. But as we can observe on the plot, the result do not change that much from one day to another. Therefore, we can conclude that the day of release does not really have an impact on the profitability.\n",
    "\n",
    "![](visuals/15.png)\n",
    "\n",
    "Then, if the day of release does not have an impact on the profitability, maybe the month has. In this percpective, the second plot shows the number of movies that are released depending on the month. It is important to note that, on this plot, we took all the movies present on the dataset which have the date information and were released in the US. The result informs us that there are slightly more movies released in January, September and October. This can come from the events taking place during those months. We can for example think of the Christmas or the Halloween period which are usually ideal periods for their respective type of movies. But does it have an impact on the profitability or not ?\n",
    "\n",
    "![](visuals/16.png)\n",
    "\n",
    "On the third plot, we check this hypothesis of the movie profitability being different depending on the release month. This time, the only films taken into account are the movies that contain the information about their profitability. We see that in June, the movie profitability seem a bit higher than during the other months. This result matches the beginning of the summer vacations in the US, which can explain this small growth. But otherwise, as for the first plot, the result given seem quite constant from one month to another. The variations do not seem relevant enough to permit us to draw conclusions.\n",
    "\n",
    "<!-- ![](visuals/17.png) -->\n",
    "\n",
    "<!-- ![](visuals/18.png) -->\n",
    "\n",
    "![](visuals/19.png)\n",
    "\n",
    "On this last plot, we have comparison of the proportion of films release and profit through the decades, by months. Moreover, on the four last plots, there is a recap not in term of month, but by season. It is interesting to not that the profit data was only available from the 1930s and after. As the number of films released before this year is not really big, that information is not so relevant. On the twelve first plots, we see the fluctuation of the two curves changing quite a lot depending on the month. For example, during January, we see that the profit curve is often below the release month curve. One explanation could be that there are, in overall, more moveis released during this month. There is therefore less profitable movies compared on the number of movies released. On the other hand, if you look at June or July, the number of movies released is smaller, but the profit made by their amount is much bigger. The reason could be that the number of blockbuster during this period is much bigger than for other months. Or, as discussed previously, because of the summer vacations taking place around this time, the profit being higher is not particularly a surprise.\n",
    "\n",
    "As for the seasonal plots, we find again that, with the decades, the profit compared to the number of released movies seem higher during summer. It follows the logic of summer movies. On the other hand, there has been a real switch during the fall season, certainly due to this profit augmentation during the summer.\n",
    "\n",
    "To summarize this plot, we clearly see that, through the decades, the number of movies released and their profit has changed a lot. Adapting to the current technologies, the evolution of social events like summer vacations or other holidays.\n"
   ]
  },
  {
   "cell_type": "markdown",
   "id": "63ba865e-861c-405d-80ad-d40417ce1c15",
   "metadata": {},
   "source": [
    "## Hypothesis 4: Some genres or themes are more popular and might draw more spectators"
   ]
  },
  {
   "cell_type": "markdown",
   "id": "87de1b43-a686-4fcc-ab2e-c2c341c96896",
   "metadata": {},
   "source": [
    "<!-- ![](visuals/20.png) -->\n",
    "\n",
    "<!-- ![](visuals/21.png) -->\n",
    "\n",
    "![](visuals/22.png)\n",
    "\n",
    "![](visuals/23.png)\n",
    "\n",
    "![](visuals/24.png)\n",
    "\n",
    "<!-- ![](visuals/25.png) -->\n",
    "\n",
    "<!-- ![](visuals/26.png) -->\n",
    "\n",
    "![](visuals/27.png)\n",
    "\n",
    "![](visuals/28.png)\n",
    "\n"
   ]
  },
  {
   "cell_type": "markdown",
   "id": "1037ad5f-f7a4-4e69-bc1f-9623d9ebff6b",
   "metadata": {},
   "source": [
    "## Combined results\n",
    "# COMMENT AJOUTER UN PLOT ANIMÉ HTML?"
   ]
  },
  {
   "cell_type": "markdown",
   "id": "8ce4f88d-10f4-4d60-9665-a84847ca34e2",
   "metadata": {},
   "source": [
    "## Shortcomings of our analysis"
   ]
  },
  {
   "cell_type": "markdown",
   "id": "085f66c0-6994-4e99-a569-5366e2e2b36a",
   "metadata": {},
   "source": [
    "There are more than actual useful results :-)"
   ]
  },
  {
   "cell_type": "code",
   "execution_count": null,
   "id": "846a29f1-7da6-4655-8bc3-9826d236ee55",
   "metadata": {},
   "outputs": [],
   "source": []
  }
 ],
 "metadata": {
  "kernelspec": {
   "display_name": "ada",
   "language": "python",
   "name": "python3"
  },
  "language_info": {
   "codemirror_mode": {
    "name": "ipython",
    "version": 3
   },
   "file_extension": ".py",
   "mimetype": "text/x-python",
   "name": "python",
   "nbconvert_exporter": "python",
   "pygments_lexer": "ipython3",
   "version": "3.12.7"
  }
 },
 "nbformat": 4,
 "nbformat_minor": 5
}
