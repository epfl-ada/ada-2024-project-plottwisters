{
 "cells": [
  {
   "cell_type": "markdown",
   "id": "49c2b3c3-c7ce-47f8-8468-7e297829fe1a",
   "metadata": {},
   "source": [
    "# RESULTS"
   ]
  },
  {
   "cell_type": "markdown",
   "id": "1345b25a-1552-4341-8a87-fac38dd7ed2f",
   "metadata": {},
   "source": [
    "## Does the analysis matter?"
   ]
  },
  {
   "cell_type": "markdown",
   "id": "5a75bb77-f0fa-404b-b387-61261ee9deaf",
   "metadata": {
    "jp-MarkdownHeadingCollapsed": true
   },
   "source": [
    "![](visuals/1.png)\n",
    "\n",
    "<!-- ![](visuals/2.png) -->\n",
    "\n",
    "![](visuals/3.png)\n",
    "\n",
    "![](visuals/4.png)\n",
    "\n",
    "<!-- ![](visuals/5.png) -->"
   ]
  },
  {
   "cell_type": "markdown",
   "id": "5f62ee94-d67a-451c-a880-0a21b8a9f5f8",
   "metadata": {
    "jp-MarkdownHeadingCollapsed": true
   },
   "source": [
    "## Hypothesis 1 : higher budget movies are a higher risk and are less likely to be profitable."
   ]
  },
  {
   "cell_type": "markdown",
   "id": "2c166cec-6a74-45a9-9ec2-b0ccf0015f53",
   "metadata": {},
   "source": [
    "![](visuals/6.png)\n",
    "\n",
    "<!-- ![](visuals/7.png) -->\n",
    "\n",
    "![](visuals/8.png)\n",
    "\n",
    "![](visuals/9.png)\n",
    "\n"
   ]
  },
  {
   "cell_type": "markdown",
   "id": "1c16ef8a-585a-404e-b9d5-b12e4dbf4869",
   "metadata": {},
   "source": [
    "## Hypothesis 2: Does movie runtime influence revenue?\n",
    "assuming ticket prices are constant, people might prefer longer movies as they would get more watchtime per dollar spent. "
   ]
  },
  {
   "cell_type": "markdown",
   "id": "32a78c6d-a0bd-4e59-9f17-00e365ca70ae",
   "metadata": {},
   "source": [
    "![](visuals/10.png)\n",
    "Plot of number of movies within a certain range of runtimes. We can see that most movies are around the \n",
    "\n",
    "![](visuals/11.png)\n",
    "\n",
    "![](visuals/12.png)\n",
    "\n",
    "![](visuals/13.png)"
   ]
  },
  {
   "cell_type": "markdown",
   "id": "b208f942-d3c3-48c5-a3b8-a4c1f9edce59",
   "metadata": {},
   "source": [
    "## Hypothesis 3: what is the most profitable release period?"
   ]
  },
  {
   "cell_type": "markdown",
   "id": "427118ff-bf6d-47ba-9577-003cf0996a31",
   "metadata": {},
   "source": [
    "![](visuals/14.png)\n",
    "\n",
    "![](visuals/15.png)\n",
    "\n",
    "![](visuals/16.png)\n",
    "\n",
    "<!-- ![](visuals/17.png) -->\n",
    "\n",
    "<!-- ![](visuals/18.png) -->\n",
    "\n",
    "![](visuals/19.png)\n",
    "\n",
    "\n"
   ]
  },
  {
   "cell_type": "markdown",
   "id": "63ba865e-861c-405d-80ad-d40417ce1c15",
   "metadata": {},
   "source": [
    "## Hypothesis 4: Some genres or themes are more popular and might draw more spectators"
   ]
  },
  {
   "cell_type": "markdown",
   "id": "87de1b43-a686-4fcc-ab2e-c2c341c96896",
   "metadata": {},
   "source": [
    "<!-- ![](visuals/20.png) -->\n",
    "\n",
    "<!-- ![](visuals/21.png) -->\n",
    "\n",
    "![](visuals/22.png)\n",
    "\n",
    "![](visuals/23.png)\n",
    "\n",
    "![](visuals/24.png)\n",
    "\n",
    "<!-- ![](visuals/25.png) -->\n",
    "\n",
    "<!-- ![](visuals/26.png) -->\n",
    "\n",
    "![](visuals/27.png)\n",
    "\n",
    "![](visuals/28.png)\n",
    "\n"
   ]
  },
  {
   "cell_type": "markdown",
   "id": "1037ad5f-f7a4-4e69-bc1f-9623d9ebff6b",
   "metadata": {},
   "source": [
    "## Combined results\n",
    "# COMMENT AJOUTER UN PLOT ANIMÉ HTML?"
   ]
  },
  {
   "cell_type": "markdown",
   "id": "8ce4f88d-10f4-4d60-9665-a84847ca34e2",
   "metadata": {},
   "source": [
    "## Shortcomings of our analysis"
   ]
  },
  {
   "cell_type": "markdown",
   "id": "085f66c0-6994-4e99-a569-5366e2e2b36a",
   "metadata": {},
   "source": [
    "There are more than actual useful results :-)"
   ]
  },
  {
   "cell_type": "code",
   "execution_count": null,
   "id": "846a29f1-7da6-4655-8bc3-9826d236ee55",
   "metadata": {},
   "outputs": [],
   "source": []
  }
 ],
 "metadata": {
  "kernelspec": {
   "display_name": "Python [conda env:base] *",
   "language": "python",
   "name": "conda-base-py"
  },
  "language_info": {
   "codemirror_mode": {
    "name": "ipython",
    "version": 3
   },
   "file_extension": ".py",
   "mimetype": "text/x-python",
   "name": "python",
   "nbconvert_exporter": "python",
   "pygments_lexer": "ipython3",
   "version": "3.12.3"
  }
 },
 "nbformat": 4,
 "nbformat_minor": 5
}
