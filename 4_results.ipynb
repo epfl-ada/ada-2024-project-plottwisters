{
 "cells": [
  {
   "cell_type": "markdown",
   "id": "49c2b3c3-c7ce-47f8-8468-7e297829fe1a",
   "metadata": {},
   "source": [
    "# RESULTS"
   ]
  },
  {
   "cell_type": "markdown",
   "id": "1345b25a-1552-4341-8a87-fac38dd7ed2f",
   "metadata": {},
   "source": [
    "## Does the analysis matter?"
   ]
  },
  {
   "cell_type": "markdown",
   "id": "5a75bb77-f0fa-404b-b387-61261ee9deaf",
   "metadata": {
    "jp-MarkdownHeadingCollapsed": true
   },
   "source": [
    "![](visuals/1.png)\n",
    "\n",
    "This first plot show the number of movies per budget, profitability, movie box office revenue and per decade. \n",
    "\n",
    "Starting with the budget, we can see on the Histogram of Budgets that there exists a lot of different budget to produce a movie, and that most movies have a low budget. Indeed we can see that when the budget of the movie increase, the number of movies produce decrease, which shoe cleary that there is not a lot of movies with a high budget of production.\n",
    "\n",
    "Regarding the profitability, We can see on the Histogram of Profitability that, as the profitability of the movies increase, the number of movies decrease. Which show clearly that not all movies are profitable and that it is only a minority of movies that are highly profitable.\n",
    "\n",
    "When we look at the Histogram of Revenue, We can see that only a minority of movies have a big box office revenue. Indeed we can see that as the box office revenue increase the number of movies decrease, which show that a lot of movies have a low box office revenue and only a few of them have a big one.\n",
    "\n",
    "Finally, we can see on the fourth plot the number of released movies per decade. On this plot, we can see the variety of the datas, indeed the data contained movies released before 1920 up to after 2010. We can also see that the number of released movie as increase a lot from 1920 until the year 2000 and as then suddently drop in 2010, this is because the data stop after the year 2010. The datas between 2010 and 2020 are not available which explain this drop. This mean not that less movies are produced now. If we take apart the last decade where datas are measing, we can see that the number of movies as only be increase over the decades.\n",
    "\n",
    "<!-- ![](visuals/2.png) -->\n",
    "\n",
    "![](visuals/3.png)\n",
    "\n",
    "On the plot of the Movie Profitability over Time, we can see different feature, first the green dot line represent the limit of profitability, Indeed it is where the profitability equal 1 which mean that the movie box office revenue is exactly the same as the budget of the movie. Under this line, the movies have a lower revenue then the budget of the movie and above the line the revenue is bigger than the budget which means that the movie is profitable. \n",
    "\n",
    "The blue dot represent the median profitability for each year, every dot are above the green dot line which mean that for every year over 50% of movies are profitable. \n",
    "\n",
    "The red line represent the linear regression done on every median dot, and around the line we can see the confidence interval of this linear regression. We can see that the profitability of movies tend to decrease over the decades, this mean that, for movies produce now, it is harder to have a good profitability than a couple of decades ago.\n",
    "\n",
    "The histogram above the plot show the distribution of the samples taken to do this plot. We can see that it is almost constant which mean that the samples are well distributed for every years. \n",
    "\n",
    "Finally the histogram on the right side of the plot show the distribution of profitability. We can see that there is not a lot of movies that are highly profitable and that most of the movies tend to have a revenue between 1 to 3 time the budget of the movies.\n",
    "\n",
    "![](visuals/4.png)\n",
    "\n",
    "<!-- ![](visuals/5.png) -->\n",
    "\n",
    "On the histogram above, we can see the number of failed and successful movies by decades. We can see on the histogram that the number of successful and failed movies increase every decades, this is because, as seen before, over the year more movies were released which increased the number of successful and failed movies. This do not means that movies are more or less successful now then they were before and what is important to look at is the gap between the successful and failed movies. By comparating this gap, we can see that for every decades there are more sucessfull movies then failed ones. We can also see that up to the year 1970, there seems to me more than two time more successful movies then failed one. this gap decrease starting from the year 1980. Around 1990, there is pic of failed movies, and it come close to the number of successful movies but it is still not bigger. For the past two deacdes it seems that there is one third of failed movies for two third of successful movies.\n",
    "\n"
   ]
  },
  {
   "cell_type": "markdown",
   "id": "5f62ee94-d67a-451c-a880-0a21b8a9f5f8",
   "metadata": {
    "jp-MarkdownHeadingCollapsed": true
   },
   "source": [
    "## Hypothesis 1 : higher budget movies are a higher risk and are less likely to be profitable."
   ]
  },
  {
   "cell_type": "markdown",
   "id": "2c166cec-6a74-45a9-9ec2-b0ccf0015f53",
   "metadata": {},
   "source": [
    "![](visuals/6.png)\n",
    "\n",
    "<!-- ![](visuals/7.png) -->\n",
    "\n",
    "![](visuals/8.png)\n",
    "\n",
    "![](visuals/9.png)\n",
    "\n"
   ]
  },
  {
   "cell_type": "markdown",
   "id": "1c16ef8a-585a-404e-b9d5-b12e4dbf4869",
   "metadata": {},
   "source": [
    "## Hypothesis 2: Does movie runtime influence revenue?\n",
    "\n"
   ]
  },
  {
   "cell_type": "markdown",
   "id": "32a78c6d-a0bd-4e59-9f17-00e365ca70ae",
   "metadata": {},
   "source": [
    "![](visuals/10.png)\n",
    "\n",
    "Plot of number of movies within a certain range of runtimes. There’s a small group of much shorter films that are in the 0-30min range, which come mostly from the earlier years where technological and financial considerations limited runtimes of movies, and some that stretch well over two hours, but they’re relatively rare compared to the cluster in the middle. This suggests that “feature-length” typically centers around that hour-and-a-half sweet spot, with fewer productions choosing to deviate too far from it.\n",
    "\n",
    "![](visuals/11.png)\n",
    "\n",
    "Early films in the 1910s and 1920s tended to be shorter, but by the mid-20th century, typical runtimes settled into a stable range around 90–100 minutes. Over the decades, the median runtime hasn’t shifted dramatically, suggesting that the “feature-length” standard reached a sweet spot and stayed there. Even so, there are always outliers—exceptionally long films appear in every era—but they remain the exception rather than the rule.\n",
    "\n",
    "![](visuals/12.png)\n",
    "\n",
    "These boxplots show that movie runtimes don’t change much by release month. The medians stay around 90–100 minutes year-round, and every month has its share of short and long films. While December’s median might be a bit higher, the overall pattern is pretty steady. In other words, a film’s release month doesn’t seem to influence how long it is.\n",
    "\n",
    "![](visuals/13.png)\n",
    "\n",
    "The plot on the left suggests that across all movies, there isn’t a strong relationship between runtime and median profitability—the line’s basically flat. However, the plot on the right, focusing on the last 20 years, shows a positive trend, with longer movies tending to be more profitable on average. We can also consider that as time passed, higher budgets and marketing efforts often go to longer “event” films, which might explain their higher profitability. It’s not guaranteed that making a movie longer leads to bigger profits, but the data suggests a recent pattern where movies that run a bit longer may be benefiting from greater audience interest and investment."
   ]
  },
  {
   "cell_type": "markdown",
   "id": "b208f942-d3c3-48c5-a3b8-a4c1f9edce59",
   "metadata": {},
   "source": [
    "## Hypothesis 3: what is the most profitable release period?"
   ]
  },
  {
   "cell_type": "markdown",
   "id": "427118ff-bf6d-47ba-9577-003cf0996a31",
   "metadata": {},
   "source": [
    "![](visuals/14.png)\n",
    "\n",
    "On this first plot of the third hypothesis, we compare the profitability of the films depending on their release day. The purpose there was to check if, for example, the pay day had an impact on the profit each movie make. It is an acceptable hypothesis to think that people are more inclined to go to the movie theater as the receive their pay than if it is the end of the month. But as we can observe on the plot, the result do not change that much from one day to another. Therefore, we can conclude that the day of release does not really have an impact on the profitability.\n",
    "\n",
    "![](visuals/15.png)\n",
    "\n",
    "Then, if the day of release does not have an impact on the profitability, maybe the month has. In this percpective, the second plot shows the number of movies that are released depending on the month. It is important to note that, on this plot, we took all the movies present on the dataset which have the date information and were released in the US. The result informs us that there are slightly more movies released in January, September and October. This can come from the events taking place during those months. We can for example think of the Christmas or the Halloween period which are usually ideal periods for their respective type of movies. But does it have an impact on the profitability or not ?\n",
    "\n",
    "![](visuals/16.png)\n",
    "\n",
    "On the third plot, we check this hypothesis of the movie profitability being different depending on the release month. This time, the only films taken into account are the movies that contain the information about their profitability. We see that in June, the movie profitability seem a bit higher than during the other months. This result matches the beginning of the summer vacations in the US, which can explain this small growth. But otherwise, as for the first plot, the result given seem quite constant from one month to another. The variations do not seem relevant enough to permit us to draw conclusions.\n",
    "\n",
    "<!-- ![](visuals/17.png) -->\n",
    "\n",
    "<!-- ![](visuals/18.png) -->\n",
    "\n",
    "![](visuals/19.png)\n",
    "\n",
    "On this last plot, we have comparison of the proportion of films release and profit through the decades, by months. Moreover, on the four last plots, there is a recap not in term of month, but by season. It is interesting to not that the profit data was only available from the 1930s and after. As the number of films released before this year is not really big, that information is not so relevant. On the twelve first plots, we see the fluctuation of the two curves changing quite a lot depending on the month. For example, during January, we see that the profit curve is often below the release month curve. One explanation could be that there are, in overall, more moveis released during this month. There is therefore less profitable movies compared on the number of movies released. On the other hand, if you look at June or July, the number of movies released is smaller, but the profit made by their amount is much bigger. The reason could be that the number of blockbuster during this period is much bigger than for other months. Or, as discussed previously, because of the summer vacations taking place around this time, the profit being higher is not particularly a surprise.\n",
    "\n",
    "As for the seasonal plots, we find again that, with the decades, the profit compared to the number of released movies seem higher during summer. It follows the logic of summer movies. On the other hand, there has been a real switch during the fall season, certainly due to this profit augmentation during the summer.\n",
    "\n",
    "To summarize this plot, we clearly see that, through the decades, the number of movies released and their profit has changed a lot. Adapting to the current technologies, the evolution of social events like summer vacations or other holidays.\n"
   ]
  },
  {
   "cell_type": "markdown",
   "id": "63ba865e-861c-405d-80ad-d40417ce1c15",
   "metadata": {},
   "source": [
    "## Hypothesis 4: Some genres or themes are more popular and might draw more spectators"
   ]
  },
  {
   "cell_type": "markdown",
   "id": "87de1b43-a686-4fcc-ab2e-c2c341c96896",
   "metadata": {},
   "source": [
    "![](visuals/22.png)\n",
    "\n",
    "These plots show how certain genres have changed in both profitability and their share of the market over time. For example, “Family”, \"Action\", and “Romantic” films generally became less profitable even though their representation increased as decades passed. “War” sees a downfall of both representation and profitability, perhaps because of the world's traumatising experience with war in the last century.  “LGBT” films, on the other hand, saw both their representation and profitability tick upwards. “Superhero” genres don’t have as clear patterns, but they also show shifts. Overall, it suggests that audience tastes and industry focus move over time, giving different genres periods of growth or decline.\n",
    "\n",
    "![](visuals/23.png)\n",
    "\n",
    "Over the last two decades, \"Family\" and \"Romantic\" films, like was the trend over the last century, seem to have become slightly more profitable, even as their share of the market declined. \"War\" and \"Action\" films have seen a gradual drop in profitability without gaining much presence. \"Superhero\" genres show a mild upward trend in profitability, while also slowly gaining representation. Meanwhile, \"LGBT\" films show no clear profitability trend over time, and their representation remains fairly low and flat. Overall, the changes are subtle, but it’s clear that some genres are slowly drifting in terms of both profitability and how frequently they’re produced.\n",
    "\n",
    "![](visuals/24.png)\n",
    "\n",
    "This heatmap shows which combinations of genres and themes tend to bring in higher profits. Darker blues mark higher profitability. For example, “LGBT” movies with “Love” or “Identity” themes are very profitable, as are “Action” films touching on “Friendship”. Some of these profitable cells have few samples, so it might be luck rather than a broad trend. Overall, it suggests that certain thematic choices within a genre can pay off, but you need to be cautious when the sample size is small.\n",
    "\n",
    "![](visuals/27.png)\n",
    "\n",
    "These plots show how certain themes have evolved in both profitability and how often they appear. For “Friendship,” profitability hasn’t changed much, but these films have grown more common. Themes like “Resilience” and “Identity” started off profitable but have trended downward over time, even though their representation shifted only a bit. “Deception” and “Love” themes saw their profitability fall as their prevalence decreased. “Family” films have stayed pretty stable on both fronts. Overall, it suggests that audience tastes and industry strategies around these themes have shifted, affecting both the financial returns and how frequently filmmakers choose them.\n",
    "\n",
    "![](visuals/28.png)\n",
    "\n",
    "In the past two decades, most themes have gradually lost some profitability and become a bit less common. “Friendship” and “Deception,” for example, both saw their returns and share shrink over time. “Love” also followed this downward path in profitability. “Resilience” and “Identity” don’t show strong trends, but they aren’t notably improving either. The one standout is “Family,” which shows a mild upward trend in profitability and presence, suggesting that as other themes waned, audiences and filmmakers turned more toward family-centric stories.\n"
   ]
  },
  {
   "cell_type": "markdown",
   "id": "1037ad5f-f7a4-4e69-bc1f-9623d9ebff6b",
   "metadata": {},
   "source": [
    "<!-- ## Combined results\n",
    "# COMMENT AJOUTER UN PLOT ANIMÉ HTML? -->"
   ]
  },
  {
   "cell_type": "markdown",
   "id": "8ce4f88d-10f4-4d60-9665-a84847ca34e2",
   "metadata": {},
   "source": [
    "## Shortcomings of our analysis"
   ]
  },
  {
   "cell_type": "markdown",
   "id": "085f66c0-6994-4e99-a569-5366e2e2b36a",
   "metadata": {},
   "source": [
    "There are more than actual useful results :-)"
   ]
  },
  {
   "cell_type": "code",
   "execution_count": null,
   "id": "6bd0ecb4",
   "metadata": {},
   "outputs": [],
   "source": []
  }
 ],
 "metadata": {
  "kernelspec": {
   "display_name": "ada",
   "language": "python",
   "name": "python3"
  },
  "language_info": {
   "codemirror_mode": {
    "name": "ipython",
    "version": 3
   },
   "file_extension": ".py",
   "mimetype": "text/x-python",
   "name": "python",
   "nbconvert_exporter": "python",
   "pygments_lexer": "ipython3",
   "version": "3.12.7"
  }
 },
 "nbformat": 4,
 "nbformat_minor": 5
}
