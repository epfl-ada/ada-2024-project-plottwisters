{
 "cells": [
  {
   "cell_type": "markdown",
   "id": "49c2b3c3-c7ce-47f8-8468-7e297829fe1a",
   "metadata": {},
   "source": [
    "# RESULTS"
   ]
  },
  {
   "cell_type": "markdown",
   "id": "e2873f15-2241-496f-aad7-7887d6367c84",
   "metadata": {},
   "source": []
  },
  {
   "cell_type": "markdown",
   "id": "7ba19439-bf97-468f-8cb4-cbc47fcbc7b3",
   "metadata": {},
   "source": []
  },
  {
   "cell_type": "markdown",
   "id": "c6c51da3-29ab-477e-b93c-8ec3e114c346",
   "metadata": {},
   "source": []
  },
  {
   "cell_type": "markdown",
   "id": "8b72c42a-0e2d-4785-bd9f-c253627248da",
   "metadata": {},
   "source": []
  },
  {
   "cell_type": "markdown",
   "id": "5a75bb77-f0fa-404b-b387-61261ee9deaf",
   "metadata": {},
   "source": [
    "![](visuals/ds_1_histograms.png \"Histogram Example\")"
   ]
  },
  {
   "cell_type": "code",
   "execution_count": null,
   "id": "4e2b4774-dcbe-453e-bd0a-7d96745fb65e",
   "metadata": {},
   "outputs": [],
   "source": []
  }
 ],
 "metadata": {
  "kernelspec": {
   "display_name": "Python [conda env:base] *",
   "language": "python",
   "name": "conda-base-py"
  },
  "language_info": {
   "codemirror_mode": {
    "name": "ipython",
    "version": 3
   },
   "file_extension": ".py",
   "mimetype": "text/x-python",
   "name": "python",
   "nbconvert_exporter": "python",
   "pygments_lexer": "ipython3",
   "version": "3.12.3"
  }
 },
 "nbformat": 4,
 "nbformat_minor": 5
}
