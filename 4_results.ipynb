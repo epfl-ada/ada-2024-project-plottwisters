{
 "cells": [
  {
   "cell_type": "markdown",
   "id": "49c2b3c3-c7ce-47f8-8468-7e297829fe1a",
   "metadata": {},
   "source": [
    "# RESULTS"
   ]
  },
  {
   "cell_type": "markdown",
   "id": "1345b25a-1552-4341-8a87-fac38dd7ed2f",
   "metadata": {},
   "source": [
    "## Does the analysis matter?"
   ]
  },
  {
   "cell_type": "markdown",
   "id": "5a75bb77-f0fa-404b-b387-61261ee9deaf",
   "metadata": {
    "jp-MarkdownHeadingCollapsed": true
   },
   "source": [
    "![](visuals/1.png)\n",
    "\n",
    "This first plot show the number of movies per budget, profitavility, movie box office revenue and per decade. \n",
    "\n",
    "Starting with the budget, we can see on the Histogram of Budgets of the plot that there exist a lot of different budget to produce a movie, and that most movies have a low budget. Indeed we can see that when the budget of the movie increase, the number of movies produce decrease, which shoe cleary that there is not a lot of movies with a high budget of production.\n",
    "\n",
    "Regarding the profitability, We can see on the Histogram of Profitability that, as the profitability of the movies increase, the number of movies decrease. Which show clearly that not all movies are profitable and that it is only a minority of movies that are highly profitable.\n",
    "\n",
    "When we look at the Histogram of Revenue, We can see that only a minority of movies have a big box office revenue. Indeed we can see that as the box office revenue increase the number of movies decrease, which show that a lot of movies have a low box office revenue and only a few of them have a big one.\n",
    "\n",
    "Finally, we can see on the fourth plot the number of released movies per decade. On this plot, we can see the variety of the datas, indeed the data contained movies released before 1920 up to after 2010. We can also see that the number of released movie as increase a lot from 1920 until the year 2000 and as then suddently drop in 2010, this is because the data stop after the year 2010. The datas between 2010 and 2020 are not available which explain this drop. This mean not that less movies are produced now. If we take apart the last decade where datas are measing, we can see that the number of movies as only be increase over the decades.\n",
    "\n",
    "<!-- ![](visuals/2.png) -->\n",
    "\n",
    "![](visuals/3.png)\n",
    "\n",
    "On the plot of the Movie Profitability over Time, we can see different feature, first the green dot line represent the limit of profitability, Indeed it is where the profitability equal 1 which mean that the movie box office revenue is exactly the same as the budget of the movie. Under this line, the movies have a lower revenue then the budget of the movie and above the line the revenue is bigger than the budget which means that the movie is profitable. \n",
    "\n",
    "The blue dot represent the median profitability for each year, every dot are above the green dot line which mean that for every year over 50% of movies are profitable. \n",
    "\n",
    "The red line represent the linear regression done on every median dot, and around the line we can see the confidence interval of this linear regression. We can see that the profitability of movies tend to decrease over the decades, this mean that, for movies produce now, it is harder to have a good profitability than a couple of decades ago.\n",
    "\n",
    "The histogram above the plot show the distribution of the samples taken to do this plot. We can see that it is almost constant which mean that the samples are well distributed for every years. \n",
    "\n",
    "Finally the histogram on the right side of the plot show the distribution of profitability. We can see that there is not a lot of movies that are highly profitable and that most of the movies tend to have a revenue between 1 to 3 time the budget of the movies.\n",
    "\n",
    "![](visuals/4.png)\n",
    "\n",
    "<!-- ![](visuals/5.png) -->\n",
    "\n",
    "On the histogram above, we can see the number of failed and successful movies by decades. We can see on the histogram that the number of successful and failed movies increase every decades, this is because, as seen before, over the year more movies were released which increased the number of successful and failed movies. This do not means that movies are more or less successful now then they were before and what is important to look at is the gap between the successful and failed movies. By comparating this gap, we can see that for every decades there are more sucessfull movies then failed ones. We can also see that up to the year 1970, there seems to me more than two time more successful movies then failed one. this gap decrease starting from the year 1980. Around 1990, there is pic of failed movies, and it come close to the number of successful movies but it is still not bigger. For the past two deacdes it seems that there is one third of failed movies for two third of successful movies.\n",
    "\n"
   ]
  },
  {
   "cell_type": "markdown",
   "id": "5f62ee94-d67a-451c-a880-0a21b8a9f5f8",
   "metadata": {
    "jp-MarkdownHeadingCollapsed": true
   },
   "source": [
    "## Hypothesis 1 : higher budget movies are a higher risk and are less likely to be profitable."
   ]
  },
  {
   "cell_type": "markdown",
   "id": "2c166cec-6a74-45a9-9ec2-b0ccf0015f53",
   "metadata": {},
   "source": [
    "![](visuals/6.png)\n",
    "\n",
    "<!-- ![](visuals/7.png) -->\n",
    "\n",
    "![](visuals/8.png)\n",
    "\n",
    "![](visuals/9.png)\n",
    "\n"
   ]
  },
  {
   "cell_type": "markdown",
   "id": "1c16ef8a-585a-404e-b9d5-b12e4dbf4869",
   "metadata": {},
   "source": [
    "## Hypothesis 2: Does movie runtime influence revenue?\n",
    "assuming ticket prices are constant, people might prefer longer movies as they would get more watchtime per dollar spent. "
   ]
  },
  {
   "cell_type": "markdown",
   "id": "32a78c6d-a0bd-4e59-9f17-00e365ca70ae",
   "metadata": {},
   "source": [
    "![](visuals/10.png)\n",
    "Plot of number of movies within a certain range of runtimes. We can see that most movies are around the \n",
    "\n",
    "![](visuals/11.png)\n",
    "\n",
    "![](visuals/12.png)\n",
    "\n",
    "![](visuals/13.png)"
   ]
  },
  {
   "cell_type": "markdown",
   "id": "b208f942-d3c3-48c5-a3b8-a4c1f9edce59",
   "metadata": {},
   "source": [
    "## Hypothesis 3: what is the most profitable release period?"
   ]
  },
  {
   "cell_type": "markdown",
   "id": "427118ff-bf6d-47ba-9577-003cf0996a31",
   "metadata": {},
   "source": [
    "![](visuals/14.png)\n",
    "\n",
    "![](visuals/15.png)\n",
    "\n",
    "![](visuals/16.png)\n",
    "\n",
    "<!-- ![](visuals/17.png) -->\n",
    "\n",
    "<!-- ![](visuals/18.png) -->\n",
    "\n",
    "![](visuals/19.png)\n",
    "\n",
    "\n"
   ]
  },
  {
   "cell_type": "markdown",
   "id": "63ba865e-861c-405d-80ad-d40417ce1c15",
   "metadata": {},
   "source": [
    "## Hypothesis 4: Some genres or themes are more popular and might draw more spectators"
   ]
  },
  {
   "cell_type": "markdown",
   "id": "87de1b43-a686-4fcc-ab2e-c2c341c96896",
   "metadata": {},
   "source": [
    "<!-- ![](visuals/20.png) -->\n",
    "\n",
    "<!-- ![](visuals/21.png) -->\n",
    "\n",
    "![](visuals/22.png)\n",
    "\n",
    "![](visuals/23.png)\n",
    "\n",
    "![](visuals/24.png)\n",
    "\n",
    "<!-- ![](visuals/25.png) -->\n",
    "\n",
    "<!-- ![](visuals/26.png) -->\n",
    "\n",
    "![](visuals/27.png)\n",
    "\n",
    "![](visuals/28.png)\n",
    "\n"
   ]
  },
  {
   "cell_type": "markdown",
   "id": "1037ad5f-f7a4-4e69-bc1f-9623d9ebff6b",
   "metadata": {},
   "source": [
    "## Combined results\n",
    "# COMMENT AJOUTER UN PLOT ANIMÉ HTML?"
   ]
  },
  {
   "cell_type": "markdown",
   "id": "8ce4f88d-10f4-4d60-9665-a84847ca34e2",
   "metadata": {},
   "source": [
    "## Shortcomings of our analysis"
   ]
  },
  {
   "cell_type": "markdown",
   "id": "085f66c0-6994-4e99-a569-5366e2e2b36a",
   "metadata": {},
   "source": [
    "There are more than actual useful results :-)"
   ]
  },
  {
   "cell_type": "code",
   "execution_count": null,
   "id": "846a29f1-7da6-4655-8bc3-9826d236ee55",
   "metadata": {},
   "outputs": [],
   "source": []
  }
 ],
 "metadata": {
  "kernelspec": {
   "display_name": "ada",
   "language": "python",
   "name": "python3"
  },
  "language_info": {
   "codemirror_mode": {
    "name": "ipython",
    "version": 3
   },
   "file_extension": ".py",
   "mimetype": "text/x-python",
   "name": "python",
   "nbconvert_exporter": "python",
   "pygments_lexer": "ipython3",
   "version": "3.11.9"
  }
 },
 "nbformat": 4,
 "nbformat_minor": 5
}
