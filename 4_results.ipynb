{
 "cells": [
  {
   "cell_type": "code",
   "execution_count": 2,
   "id": "55db9ad7-221b-453d-8bec-e60cf3b114fb",
   "metadata": {},
   "outputs": [],
   "source": [
    "import pickle"
   ]
  },
  {
   "cell_type": "markdown",
   "id": "49c2b3c3-c7ce-47f8-8468-7e297829fe1a",
   "metadata": {},
   "source": [
    "# RESULTS"
   ]
  },
  {
   "cell_type": "markdown",
   "id": "1345b25a-1552-4341-8a87-fac38dd7ed2f",
   "metadata": {},
   "source": [
    "## Does the analysis matter?"
   ]
  },
  {
   "cell_type": "markdown",
   "id": "5a75bb77-f0fa-404b-b387-61261ee9deaf",
   "metadata": {
    "jp-MarkdownHeadingCollapsed": true
   },
   "source": [
    "![](visuals/1.png)\n",
    "\n",
    "<!-- ![](visuals/2.png) -->\n",
    "\n",
    "![](visuals/3.png)\n",
    "\n",
    "![](visuals/4.png)\n",
    "\n",
    "<!-- ![](visuals/5.png) -->"
   ]
  },
  {
   "cell_type": "markdown",
   "id": "5f62ee94-d67a-451c-a880-0a21b8a9f5f8",
   "metadata": {
    "jp-MarkdownHeadingCollapsed": true
   },
   "source": [
    "## Hypothesis 1 : higher budget movies are a higher risk and are less likely to be profitable."
   ]
  },
  {
   "cell_type": "markdown",
   "id": "2c166cec-6a74-45a9-9ec2-b0ccf0015f53",
   "metadata": {},
   "source": [
    "![](visuals/6.png)\n",
    "\n",
    "<!-- ![](visuals/7.png) -->\n",
    "\n",
    "![](visuals/8.png)\n",
    "\n",
    "![](visuals/9.png)\n",
    "\n"
   ]
  },
  {
   "cell_type": "markdown",
   "id": "1c16ef8a-585a-404e-b9d5-b12e4dbf4869",
   "metadata": {},
   "source": [
    "## Hypothesis 2: Does movie runtime influence revenue?\n",
    "\n"
   ]
  },
  {
   "cell_type": "markdown",
   "id": "32a78c6d-a0bd-4e59-9f17-00e365ca70ae",
   "metadata": {},
   "source": [
    "![](visuals/10.png)\n",
    "\n",
    "Plot of number of movies within a certain range of runtimes. There’s a small group of much shorter films that are in the 0-30min range, which come mostly from the earlier years where technological and financial considerations limited runtimes of movies, and some that stretch well over two hours, but they’re relatively rare compared to the cluster in the middle. This suggests that “feature-length” typically centers around that hour-and-a-half sweet spot, with fewer productions choosing to deviate too far from it.\n",
    "\n",
    "![](visuals/11.png)\n",
    "\n",
    "Early films in the 1910s and 1920s tended to be shorter, but by the mid-20th century, typical runtimes settled into a stable range around 90–100 minutes. Over the decades, the median runtime hasn’t shifted dramatically, suggesting that the “feature-length” standard reached a sweet spot and stayed there. Even so, there are always outliers—exceptionally long films appear in every era—but they remain the exception rather than the rule.\n",
    "\n",
    "![](visuals/12.png)\n",
    "\n",
    "These boxplots show that movie runtimes don’t change much by release month. The medians stay around 90–100 minutes year-round, and every month has its share of short and long films. While December’s median might be a bit higher, the overall pattern is pretty steady. In other words, a film’s release month doesn’t seem to influence how long it is.\n",
    "\n",
    "![](visuals/13.png)\n",
    "\n",
    "The plot on the left suggests that across all movies, there isn’t a strong relationship between runtime and median profitability—the line’s basically flat. However, the plot on the right, focusing on the last 20 years, shows a positive trend, with longer movies tending to be more profitable on average. We can also consider that as time passed, higher budgets and marketing efforts often go to longer “event” films, which might explain their higher profitability. It’s not guaranteed that making a movie longer leads to bigger profits, but the data suggests a recent pattern where movies that run a bit longer may be benefiting from greater audience interest and investment."
   ]
  },
  {
   "cell_type": "markdown",
   "id": "b208f942-d3c3-48c5-a3b8-a4c1f9edce59",
   "metadata": {},
   "source": [
    "## Hypothesis 3: what is the most profitable release period?"
   ]
  },
  {
   "cell_type": "markdown",
   "id": "427118ff-bf6d-47ba-9577-003cf0996a31",
   "metadata": {},
   "source": [
    "![](visuals/14.png)\n",
    "\n",
    "![](visuals/15.png)\n",
    "\n",
    "![](visuals/16.png)\n",
    "\n",
    "<!-- ![](visuals/17.png) -->\n",
    "\n",
    "<!-- ![](visuals/18.png) -->\n",
    "\n",
    "![](visuals/19.png)\n",
    "\n",
    "\n"
   ]
  },
  {
   "cell_type": "markdown",
   "id": "63ba865e-861c-405d-80ad-d40417ce1c15",
   "metadata": {},
   "source": [
    "## Hypothesis 4: Some genres or themes are more popular and might draw more spectators"
   ]
  },
  {
   "cell_type": "markdown",
   "id": "87de1b43-a686-4fcc-ab2e-c2c341c96896",
   "metadata": {},
   "source": [
    "![](visuals/22.png)\n",
    "\n",
    "These plots show how certain genres have changed in both profitability and their share of the market over time. For example, “Family”, \"Action\", and “Romantic” films generally became less profitable even though their representation increased as decades passed. “War” sees a downfall of both representation and profitability, perhaps because of the world's traumatising experience with war in the last century.  “LGBT” films, on the other hand, saw both their representation and profitability tick upwards. “Superhero” genres don’t have as clear patterns, but they also show shifts. Overall, it suggests that audience tastes and industry focus move over time, giving different genres periods of growth or decline.\n",
    "\n",
    "![](visuals/23.png)\n",
    "\n",
    "Over the last two decades, \"Family\" and \"Romantic\" films, like was the trend over the last century, seem to have become slightly more profitable, even as their share of the market declined. \"War\" and \"Action\" films have seen a gradual drop in profitability without gaining much presence. \"Superhero\" genres show a mild upward trend in profitability, while also slowly gaining representation. Meanwhile, \"LGBT\" films show no clear profitability trend over time, and their representation remains fairly low and flat. Overall, the changes are subtle, but it’s clear that some genres are slowly drifting in terms of both profitability and how frequently they’re produced.\n",
    "\n",
    "![](visuals/24.png)\n",
    "\n",
    "This heatmap shows which combinations of genres and themes tend to bring in higher profits. Darker blues mark higher profitability. For example, “LGBT” movies with “Love” or “Identity” themes are very profitable, as are “Action” films touching on “Friendship”. Some of these profitable cells have few samples, so it might be luck rather than a broad trend. Overall, it suggests that certain thematic choices within a genre can pay off, but you need to be cautious when the sample size is small.\n",
    "\n",
    "![](visuals/27.png)\n",
    "\n",
    "These plots show how certain themes have evolved in both profitability and how often they appear. For “Friendship,” profitability hasn’t changed much, but these films have grown more common. Themes like “Resilience” and “Identity” started off profitable but have trended downward over time, even though their representation shifted only a bit. “Deception” and “Love” themes saw their profitability fall as their prevalence decreased. “Family” films have stayed pretty stable on both fronts. Overall, it suggests that audience tastes and industry strategies around these themes have shifted, affecting both the financial returns and how frequently filmmakers choose them.\n",
    "\n",
    "![](visuals/28.png)\n",
    "\n",
    "In the past two decades, most themes have gradually lost some profitability and become a bit less common. “Friendship” and “Deception,” for example, both saw their returns and share shrink over time. “Love” also followed this downward path in profitability. “Resilience” and “Identity” don’t show strong trends, but they aren’t notably improving either. The one standout is “Family,” which shows a mild upward trend in profitability and presence, suggesting that as other themes waned, audiences and filmmakers turned more toward family-centric stories.\n"
   ]
  },
  {
   "cell_type": "markdown",
   "id": "1037ad5f-f7a4-4e69-bc1f-9623d9ebff6b",
   "metadata": {},
   "source": [
    "<!-- ## Combined results\n",
    "# COMMENT AJOUTER UN PLOT ANIMÉ HTML? -->"
   ]
  },
  {
   "cell_type": "markdown",
   "id": "2b6ec0bf-d6af-4983-a6f8-08f59b6cdd9a",
   "metadata": {},
   "source": [
    "## Case study: war-related movies\n",
    "In we research of dominant factors of movies commercial success over time we were interested to see the relationship of real worlds events and cultural movments with the cinema industry. \n",
    "To explore this we decided to analysis a subset of the CMU dataset composed of movies that have war-related genres and are from the USA. We also filtered out the movies for which we didn't have the box office revenue and release year data and ended up with 391 war-related movies.\n",
    "\n",
    "In the following figure we plotted the evolution of the number of war-related movies and all movie release over time.  \n",
    "\n",
    "![](visuals/war_movies_over_time.png)\n",
    "\n",
    "As we can see, the number of war-related movies' release for each year fluctuates a lot so we decided to apply a rolling average with a 3-year window in order to observe long-term trend. We further annotated the plot with the major conflicts in which the USA was involved in the last century.\n",
    "\n",
    "![](visuals/war_movies_over_time_smoothed.png)\n",
    "\n",
    "From this it seems that conflicts such as WWII, the Vietnam War or the Cold War did induce some peak of war-related movies. Furthermore when plotting the proportion of war-related movies over the years we see that in the 1940's these movies accounted for a big porcentage of the movies' release culmunating to 50% in 1943.   \n",
    "\n",
    "![](visuals/war_movies_proportion_over_time.png)\n",
    "\n",
    "For further analysis we calculated the Pearson correlation between the number of war-related movies and all movies' release per year:  "
   ]
  },
  {
   "cell_type": "code",
   "execution_count": 7,
   "id": "de62bc7e-489a-4ea8-b3fa-cd34b7fd05ea",
   "metadata": {},
   "outputs": [
    {
     "name": "stdout",
     "output_type": "stream",
     "text": [
      "Correlation: 0.617434365120252, P-value: 6.479400208508737e-10\n"
     ]
    }
   ],
   "source": [
    "# Load variables from the file\n",
    "with open('results/saved_variables.pkl', 'rb') as file:\n",
    "    data = pickle.load(file)\n",
    "\n",
    "# Access the variables\n",
    "corr = data['corr']\n",
    "p_value = data['p_value']\n",
    "\n",
    "print(f\"Correlation: {corr}, P-value: {p_value}\")"
   ]
  },
  {
   "cell_type": "markdown",
   "id": "d72d3dfb-7f83-4a41-a49a-e90fc64ec49a",
   "metadata": {},
   "source": [
    "We have a correlation coefficient of 0.62 which indicates moderate positive linear relationship between the number of war movies per year and the total number of movies per year. The P-value is nearly 0 which suggests the observed correlation is highly statistically significant. \n",
    "This implies that the variation in war-related movie's releases is greatly related to the variation that exists for all movie's releases, ie the general increase in movies production is a driving factor of the war movies production.\n",
    "\n",
    "To complement this result we also performed an OSL regression.\n",
    "\n",
    "![](visuals/OSL_war_movies.png)\n"
   ]
  },
  {
   "cell_type": "code",
   "execution_count": 10,
   "id": "694fa30a-8d29-467d-8805-03e754ae6e9d",
   "metadata": {},
   "outputs": [
    {
     "name": "stdout",
     "output_type": "stream",
     "text": [
      "                            OLS Regression Results                            \n",
      "==============================================================================\n",
      "Dep. Variable:                      y   R-squared:                       0.381\n",
      "Model:                            OLS   Adj. R-squared:                  0.373\n",
      "Method:                 Least Squares   F-statistic:                     49.29\n",
      "Date:                Fri, 20 Dec 2024   Prob (F-statistic):           6.48e-10\n",
      "Time:                        19:02:30   Log-Likelihood:                -200.13\n",
      "No. Observations:                  82   AIC:                             404.3\n",
      "Df Residuals:                      80   BIC:                             409.1\n",
      "Df Model:                           1                                         \n",
      "Covariance Type:            nonrobust                                         \n",
      "==============================================================================\n",
      "                 coef    std err          t      P>|t|      [0.025      0.975]\n",
      "------------------------------------------------------------------------------\n",
      "const          2.2988      0.469      4.899      0.000       1.365       3.233\n",
      "0              0.0250      0.004      7.021      0.000       0.018       0.032\n",
      "==============================================================================\n",
      "Omnibus:                       27.409   Durbin-Watson:                   1.156\n",
      "Prob(Omnibus):                  0.000   Jarque-Bera (JB):               44.457\n",
      "Skew:                           1.358   Prob(JB):                     2.22e-10\n",
      "Kurtosis:                       5.375   Cond. No.                         199.\n",
      "==============================================================================\n",
      "\n",
      "Notes:\n",
      "[1] Standard Errors assume that the covariance matrix of the errors is correctly specified.\n"
     ]
    }
   ],
   "source": [
    "# Load and print the OSL regression model summary\n",
    "with open('results/OSL_summary.txt', 'r') as file:\n",
    "    summary = file.read()\n",
    "\n",
    "print(summary)"
   ]
  },
  {
   "cell_type": "markdown",
   "id": "a0bba9c9-f74b-4103-91b3-6a3896b23a71",
   "metadata": {},
   "source": [
    "We have a R-squared of 0.387 wich means that 38.7% of the variance of the number of war-related movies' releases per year is explained by the total number of movies' releases per year, this suggests that other factors play a role. From the residuals plot above we can see that the relationship between the number of war movies per year and the total number of movies per year is not well explained by this linear model and confirms that some other factors, such as actual wars, influence the war-related movies' releases."
   ]
  },
  {
   "cell_type": "markdown",
   "id": "72c15e8f-7e30-4947-ad0e-d671376a86e2",
   "metadata": {},
   "source": [
    "We then explored the average box office revenue of war-related movies vs all movies and, as earlier, we smoothed the data with a 3-year window rolling average. We also computed the proportion \n",
    "\n",
    "![](visuals/war_movies_BO.png)\n",
    "\n",
    "We observe that altought it fluctuates a lot we have a big peak during the Vietnam War/Cold War and that over the last 30 years the genre performs better on average than the rest of the industry."
   ]
  },
  {
   "cell_type": "markdown",
   "id": "da37b394-f936-4b41-bbdd-0e1c4d835376",
   "metadata": {
    "jp-MarkdownHeadingCollapsed": true
   },
   "source": [
    "\n",
    "\n",
    "## Shortcomings of our analysis"
   ]
  },
  {
   "cell_type": "markdown",
   "id": "085f66c0-6994-4e99-a569-5366e2e2b36a",
   "metadata": {},
   "source": [
    "There are more than actual useful results :-)"
   ]
  },
  {
   "cell_type": "code",
   "execution_count": null,
   "id": "846a29f1-7da6-4655-8bc3-9826d236ee55",
   "metadata": {},
   "outputs": [],
   "source": []
  }
 ],
 "metadata": {
  "kernelspec": {
   "display_name": "Python 3 (ipykernel)",
   "language": "python",
   "name": "python3"
  },
  "language_info": {
   "codemirror_mode": {
    "name": "ipython",
    "version": 3
   },
   "file_extension": ".py",
   "mimetype": "text/x-python",
   "name": "python",
   "nbconvert_exporter": "python",
   "pygments_lexer": "ipython3",
   "version": "3.13.1"
  }
 },
 "nbformat": 4,
 "nbformat_minor": 5
}
