{
 "cells": [
  {
   "cell_type": "markdown",
   "id": "49c2b3c3-c7ce-47f8-8468-7e297829fe1a",
   "metadata": {},
   "source": [
    "# RESULTS"
   ]
  },
  {
   "cell_type": "markdown",
   "id": "1345b25a-1552-4341-8a87-fac38dd7ed2f",
   "metadata": {},
   "source": [
    "## Previous analysis of the aspects that are compared"
   ]
  },
  {
   "cell_type": "markdown",
   "id": "5a75bb77-f0fa-404b-b387-61261ee9deaf",
   "metadata": {
    "jp-MarkdownHeadingCollapsed": true
   },
   "source": [
    "![](visuals/nb_movie_budget_profit_BoxOffice_decade.png)\n",
    "\n",
    "This first plot shows the number of movies per budget, profitability, box office revenue, and decade.\n",
    "\n",
    "Starting with the budget, we can see in the Histogram of Budgets that there are many different budgets for producing a movie, with most movies having a low budget. Indeed, as the budget of a movie increases, the number of movies produced decreases, clearly showing that there are not many movies with a high production budget.\n",
    "\n",
    "Regarding profitability, we can see in the Histogram of Profitability that as the profitability of movies increases, the number of movies decreases. This clearly shows that not all movies are profitable, and only a minority of movies are highly profitable.\n",
    "\n",
    "When we look at the Histogram of Revenue, we see that only a minority of movies achieve high box office revenue. As box office revenue increases, the number of movies decreases, indicating that many movies have low box office revenue and only a few achieve significant earnings.\n",
    "\n",
    "Finally, in the fourth plot, we see the number of released movies per decade. This plot reveals a variety of data, encompassing movies released before 1920 up to those released after 2010. We observe that the number of released movies increased significantly from 1920 until 2000 and then suddenly dropped in 2010. This drop occurs because the data stops after 2010. The absence of data between 2010 and 2020 explains this decline; it does not indicate that fewer movies are being produced today. Excluding the last decade, where data is missing, we see that the number of movies has consistently increased over the decades.\n",
    "\n",
    "![](visuals/profit_over_time.png)\n",
    "\n",
    "In the plot of Movie Profitability Over Time, we can observe several features. First, the green dotted line represents the profitability threshold. This line corresponds to a profitability value of 1, which means the movie's box office revenue is exactly equal to its budget. Below this line, movies have a lower revenue than their budget, while above the line, the revenue exceeds the budget, indicating that the movie is profitable.\n",
    "\n",
    "The blue dots represent the median profitability for each year. All the dots are above the green dotted line, which means that for every year, over 50% of movies are profitable.\n",
    "\n",
    "The red line represents the linear regression performed on the median dots, and the shaded area around the line indicates the confidence interval of this linear regression. We can see that the profitability of movies tends to decrease over the decades. This suggests that movies produced in recent years face greater difficulty achieving high profitability compared to those made several decades ago.\n",
    "\n",
    "The histogram above the plot shows the distribution of the samples used to create this plot. It appears almost constant, indicating that the samples are evenly distributed across the years.\n",
    "\n",
    "Finally, the histogram on the right side of the plot shows the distribution of profitability. It reveals that only a few movies are highly profitable, while most movies tend to have a revenue between 1 to 3 times their budget.\n",
    "\n",
    "![](visuals/failed_vs_success_by_decade.png)\n",
    "\n",
    "\n",
    "In the histogram above, we can see the number of failed and successful movies by decade. The histogram shows that the number of successful and failed movies increases every decade. This is because, as observed earlier, more movies were released over the years, leading to an increase in both successful and failed movies. This does not mean that movies are more or less successful now than they were before. The important aspect to consider is the gap between the number of successful and failed movies.\n",
    "\n",
    "By comparing this gap, we can observe that for every decade, there are more successful movies than failed ones. Notably, up to the year 1970, there appear to be more than twice as many successful movies as failed ones. This gap begins to decrease starting from the 1980s. Around 1990, there is a peak in the number of failed movies, bringing it closer to the number of successful movies, though it does not surpass it.\n",
    "\n",
    "For the past two decades, it seems that the proportion of failed movies is approximately one-third, while successful movies make up the remaining two-thirds.\n"
   ]
  },
  {
   "cell_type": "markdown",
   "id": "5f62ee94-d67a-451c-a880-0a21b8a9f5f8",
   "metadata": {
    "jp-MarkdownHeadingCollapsed": true
   },
   "source": [
    "## Hypothesis 1 : higher budget movies are a higher risk and are less likely to be profitable."
   ]
  },
  {
   "cell_type": "markdown",
   "id": "2c166cec-6a74-45a9-9ec2-b0ccf0015f53",
   "metadata": {},
   "source": [
    "![](visuals/median_budget_by_dec_year.png)\n",
    "\n",
    "In the two plots above, we can see the median movie budget over decades in one plot and per year over the last 20 years in the other.\n",
    "\n",
    "Over the decades, we observe that the median budget increases. This indicates that, over time, movies are more likely to have higher production budgets. This can be explained, firstly, by the advancement of technology, which has become more sophisticated and expensive, and movies increasingly rely on these technologies. Additionally, movies have become more successful, allowing studios to invest in higher budgets with greater confidence in their profitability. Furthermore, the last century was marked by wars that brought widespread poverty, leaving people with less disposable income to spend on entertainment. As the wars ended and poverty decreased, audiences had more money to spend on movies, generating higher profits for the film industry and enabling higher production budgets.\n",
    "\n",
    "Over the last 20 years, the median movie budget appears to have slightly decreased but remains mostly constant. This is likely due to advancements in technology, which have become more integrated into daily life. Modern tools can now be produced at lower costs than before, and technological advancements have also enabled faster and more efficient movie production, reducing the budget required to produce a film.\n",
    "\n",
    "\n",
    "![](visuals/median_success_rate_by_budget.png)\n",
    "\n",
    "In the two plots above, we can see the median success rate of movies as a function of the production budget. In the first plot, this comparison is shown for the entire dataset of movies, while in the right plot, we see the evolution of this comparison over the last 20 years.\n",
    "\n",
    "In both plots, we observe a trend of a higher success rate as the budget increases. This trend is even more pronounced over the last 20 years, where the line rises more steeply compared to previous decades. This trend can be explained in several ways.\n",
    "\n",
    "First, movies with higher budgets are more likely to feature famous actors and specialized equipment, leading to a better-quality final product. Additionally, famous actors can attract audiences who are eager to see their favorite actor or actress on screen.\n",
    "\n",
    "The production franchise also plays a role. Well-known franchises are more likely to have higher budgets due to their past successes and their ability to rely on a loyal audience that is more inclined to watch subsequent movies in the series.\n",
    "\n"
   ]
  },
  {
   "cell_type": "markdown",
   "id": "1c16ef8a-585a-404e-b9d5-b12e4dbf4869",
   "metadata": {},
   "source": [
    "## Hypothesis 2: Does movie runtime influence revenue?\n",
    "\n"
   ]
  },
  {
   "cell_type": "markdown",
   "id": "32a78c6d-a0bd-4e59-9f17-00e365ca70ae",
   "metadata": {},
   "source": [
    "![](visuals/nb_movie_per_runtime.png)\n",
    "\n",
    "Plot of number of movies within a certain range of runtimes. There’s a small group of much shorter films that are in the 0-30min range, which come mostly from the earlier years where technological and financial considerations limited runtimes of movies, and some that stretch well over two hours, but they’re relatively rare compared to the cluster in the middle. This suggests that “feature-length” typically centers around that hour-and-a-half sweet spot, with fewer productions choosing to deviate too far from it.\n",
    "\n",
    "![](visuals/runtime_distribution_per_decade.png)\n",
    "\n",
    "Early films in the 1910s and 1920s tended to be shorter, but by the mid-20th century, typical runtimes settled into a stable range around 90–100 minutes. Over the decades, the median runtime hasn’t shifted dramatically, suggesting that the “feature-length” standard reached a sweet spot and stayed there. Even so, there are always outliers—exceptionally long films appear in every era—but they remain the exception rather than the rule.\n",
    "\n",
    "![](visuals/runtime_distribution_per_month.png)\n",
    "\n",
    "These boxplots show that movie runtimes don’t change much by release month. The medians stay around 90–100 minutes year-round, and every month has its share of short and long films. While December’s median might be a bit higher, the overall pattern is pretty steady. In other words, a film’s release month doesn’t seem to influence how long it is.\n",
    "\n",
    "![](visuals/median_profit_by_runtime.png)\n",
    "\n",
    "The plot on the left suggests that across all movies, there isn’t a strong relationship between runtime and median profitability—the line’s basically flat. However, the plot on the right, focusing on the last 20 years, shows a positive trend, with longer movies tending to be more profitable on average. We can also consider that as time passed, higher budgets and marketing efforts often go to longer “event” films, which might explain their higher profitability. It’s not guaranteed that making a movie longer leads to bigger profits, but the data suggests a recent pattern where movies that run a bit longer may be benefiting from greater audience interest and investment."
   ]
  },
  {
   "cell_type": "markdown",
   "id": "b208f942-d3c3-48c5-a3b8-a4c1f9edce59",
   "metadata": {},
   "source": [
    "## Hypothesis 3: what is the most profitable release period?"
   ]
  },
  {
   "cell_type": "markdown",
   "id": "427118ff-bf6d-47ba-9577-003cf0996a31",
   "metadata": {},
   "source": [
    "![](visuals/profit_per_day.png)\n",
    "\n",
    "On this first plot of the third hypothesis, we compare the profitability of the films depending on their release day. The purpose there was to check if, for example, the pay day had an impact on the profit each movie make. It is an acceptable hypothesis to think that people are more inclined to go to the movie theater as the receive their pay than if it is the end of the month. But as we can observe on the plot, the result do not change that much from one day to another. Therefore, we can conclude that the day of release does not really have an impact on the profitability.\n",
    "\n",
    "![](visuals/nb_movie_per_month.png)\n",
    "\n",
    "Then, if the day of release does not have an impact on the profitability, maybe the month has. In this percpective, the second plot shows the number of movies that are released depending on the month. It is important to note that, on this plot, we took all the movies present on the dataset which have the date information and were released in the US. The result informs us that there are slightly more movies released in January, September and October. This can come from the events taking place during those months. We can for example think of the Christmas or the Halloween period which are usually ideal periods for their respective type of movies. But does it have an impact on the profitability or not ?\n",
    "\n",
    "![](visuals/profit_per_month.png)\n",
    "\n",
    "On the third plot, we check this hypothesis of the movie profitability being different depending on the release month. This time, the only films taken into account are the movies that contain the information about their profitability. We see that in June, the movie profitability seem a bit higher than during the other months. This result matches the beginning of the summer vacations in the US, which can explain this small growth. But otherwise, as for the first plot, the result given seem quite constant from one month to another. The variations do not seem relevant enough to permit us to draw conclusions.\n",
    "\n",
    "\n",
    "![](visuals/month_season_profit_releases.png)\n",
    "\n",
    "On this last plot, we have comparison of the proportion of films release and profit through the decades, by months. Moreover, on the four last plots, there is a recap not in term of month, but by season. It is interesting to not that the profit data was only available from the 1930s and after. As the number of films released before this year is not really big, that information is not so relevant. On the twelve first plots, we see the fluctuation of the two curves changing quite a lot depending on the month. For example, during January, we see that the profit curve is often below the release month curve. One explanation could be that there are, in overall, more moveis released during this month. There is therefore less profitable movies compared on the number of movies released. On the other hand, if you look at June or July, the number of movies released is smaller, but the profit made by their amount is much bigger. The reason could be that the number of blockbuster during this period is much bigger than for other months. Or, as discussed previously, because of the summer vacations taking place around this time, the profit being higher is not particularly a surprise.\n",
    "\n",
    "As for the seasonal plots, we find again that, with the decades, the profit compared to the number of released movies seem higher during summer. It follows the logic of summer movies. On the other hand, there has been a real switch during the fall season, certainly due to this profit augmentation during the summer.\n",
    "\n",
    "To summarize this plot, we clearly see that, through the decades, the number of movies released and their profit has changed a lot. Adapting to the current technologies, the evolution of social events like summer vacations or other holidays.\n"
   ]
  },
  {
   "cell_type": "markdown",
   "id": "63ba865e-861c-405d-80ad-d40417ce1c15",
   "metadata": {},
   "source": [
    "## Hypothesis 4: Some genres or themes are more popular and might draw more spectators"
   ]
  },
  {
   "cell_type": "markdown",
   "id": "87de1b43-a686-4fcc-ab2e-c2c341c96896",
   "metadata": {},
   "source": [
    "![](visuals/profit_representation_by_genre.png)\n",
    "\n",
    "These plots show how certain genres have changed in both profitability and their share of the market over time. For example, “Family”, \"Action\", and “Romantic” films generally became less profitable even though their representation increased as decades passed. “War” sees a downfall of both representation and profitability, perhaps because of the world's traumatising experience with war in the last century.  “LGBT” films, on the other hand, saw both their representation and profitability tick upwards. “Superhero” genres don’t have as clear patterns, but they also show shifts. Overall, it suggests that audience tastes and industry focus move over time, giving different genres periods of growth or decline.\n",
    "\n",
    "![](visuals/profit_represention_of_genre_last_20_years.png)\n",
    "\n",
    "Over the last two decades, \"Family\" and \"Romantic\" films, like was the trend over the last century, seem to have become slightly more profitable, even as their share of the market declined. \"War\" and \"Action\" films have seen a gradual drop in profitability without gaining much presence. \"Superhero\" genres show a mild upward trend in profitability, while also slowly gaining representation. Meanwhile, \"LGBT\" films show no clear profitability trend over time, and their representation remains fairly low and flat. Overall, the changes are subtle, but it’s clear that some genres are slowly drifting in terms of both profitability and how frequently they’re produced.\n",
    "\n",
    "![](visuals/heatmap_profit_genre_theme.png)\n",
    "\n",
    "This heatmap shows which combinations of genres and themes tend to bring in higher profits. Darker blues mark higher profitability. For example, “LGBT” movies with “Love” or “Identity” themes are very profitable, as are “Action” films touching on “Friendship”. Some of these profitable cells have few samples, so it might be luck rather than a broad trend. Overall, it suggests that certain thematic choices within a genre can pay off, but you need to be cautious when the sample size is small.\n",
    "\n",
    "![](visuals/profit_representation_by_theme.png)\n",
    "\n",
    "These plots show how certain themes have evolved in both profitability and how often they appear. For “Friendship,” profitability hasn’t changed much, but these films have grown more common. Themes like “Resilience” and “Identity” started off profitable but have trended downward over time, even though their representation shifted only a bit. “Deception” and “Love” themes saw their profitability fall as their prevalence decreased. “Family” films have stayed pretty stable on both fronts. Overall, it suggests that audience tastes and industry strategies around these themes have shifted, affecting both the financial returns and how frequently filmmakers choose them.\n",
    "\n",
    "![](visuals/profit_representation_by_theme_20_years.png)\n",
    "\n",
    "In the past two decades, most themes have gradually lost some profitability and become a bit less common. “Friendship” and “Deception,” for example, both saw their returns and share shrink over time. “Love” also followed this downward path in profitability. “Resilience” and “Identity” don’t show strong trends, but they aren’t notably improving either. The one standout is “Family,” which shows a mild upward trend in profitability and presence, suggesting that as other themes waned, audiences and filmmakers turned more toward family-centric stories.\n"
   ]
  },
  {
   "cell_type": "markdown",
   "id": "1037ad5f-f7a4-4e69-bc1f-9623d9ebff6b",
   "metadata": {},
   "source": [
    "<!-- ## Combined results\n",
    "# COMMENT AJOUTER UN PLOT ANIMÉ HTML? -->"
   ]
  },
  {
   "cell_type": "markdown",
   "id": "8ce4f88d-10f4-4d60-9665-a84847ca34e2",
   "metadata": {},
   "source": [
    "## Shortcomings of our analysis"
   ]
  },
  {
   "cell_type": "markdown",
   "id": "085f66c0-6994-4e99-a569-5366e2e2b36a",
   "metadata": {},
   "source": []
  },
  {
   "cell_type": "markdown",
   "id": "7a6177b7",
   "metadata": {},
   "source": [
    "On the three plots below, we decided to concentrate on six main genres to inspect on three different aspects : The mean budget, the mean runtime and the sample size. Finally, each of them is computed as the mean profitability compared to the release month, therefore the overall shape of the bubbles will follow the same pattern through the three of them. Let's analyse them now !\n",
    "\n",
    "![](visuals/29_1.png)\n",
    "\n",
    "On this first plot, the mean budget is analysed. We immediatly see a genre that, in terms of budget, stands out from the others. It is the superhero one, which is not that much of a surprise as these kind of films are made with a lot of special effects that higher the overall budget rapidly. But those are not necessarily the most profitable movies. Indeed, depending on the month of release, the most profitable genre can vary a lot. This depends of course on the mood of the season. During winter, we are more inclined to watch romantic or Christmas movies. Therefore, it is not a surprise for the war movies to not be the most profitable genre.\n",
    "\n",
    "![](visuals/29_2.png)\n",
    "\n",
    "The next plot informs about the different runtime depending on the genre. This time, the genre that seems like having the biggest runtime are the the war movies. Again, it is not particularly a surprise, as these productions usually include a big historical part that can, depending on the war theme, take quite a long time. But overall, the profitability of depending the genre follows the same pattern as in the previous plot as said before.\n",
    "\n",
    "![](visuals/29_3.png)\n",
    "\n",
    "And finally, we analyze the sample size that is available in the dataset. The genre which is represented the most is the action one. And as the plot shows it, their representation, compared to the other genres, is much bigger. It is not a big suprise as those kind of film tend to be more popular to a larger range of people. But, again, this does not imply that they are the most profitable ones. The action films are never in the top actually, whatever the month. This can be explained because in the huge number of action movies that are made, it would be almost impossible for all of them to be profitable. On the contrary, they are more keen to be pulled down by the many bad ones that exist !"
   ]
  },
  {
   "cell_type": "markdown",
   "id": "2d5fe6d1",
   "metadata": {},
   "source": []
  }
 ],
 "metadata": {
  "kernelspec": {
   "display_name": "Python [conda env:base] *",
   "language": "python",
   "name": "conda-base-py"
  },
  "language_info": {
   "codemirror_mode": {
    "name": "ipython",
    "version": 3
   },
   "file_extension": ".py",
   "mimetype": "text/x-python",
   "name": "python",
   "nbconvert_exporter": "python",
   "pygments_lexer": "ipython3",
   "version": "3.12.3"
  }
 },
 "nbformat": 4,
 "nbformat_minor": 5
}
