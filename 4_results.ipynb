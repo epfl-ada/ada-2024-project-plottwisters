{
 "cells": [
  {
   "cell_type": "markdown",
   "id": "49c2b3c3-c7ce-47f8-8468-7e297829fe1a",
   "metadata": {},
   "source": [
    "# RESULTS"
   ]
  },
  {
   "cell_type": "markdown",
   "id": "1345b25a-1552-4341-8a87-fac38dd7ed2f",
   "metadata": {},
   "source": [
    "## Does the analysis matter?"
   ]
  },
  {
   "cell_type": "markdown",
   "id": "5a75bb77-f0fa-404b-b387-61261ee9deaf",
   "metadata": {
    "jp-MarkdownHeadingCollapsed": true
   },
   "source": [
    "![](visuals/1.png)\n",
    "\n",
    "<!-- ![](visuals/2.png) -->\n",
    "\n",
    "![](visuals/3.png)\n",
    "\n",
    "![](visuals/4.png)\n",
    "\n",
    "<!-- ![](visuals/5.png) -->"
   ]
  },
  {
   "cell_type": "markdown",
   "id": "5f62ee94-d67a-451c-a880-0a21b8a9f5f8",
   "metadata": {
    "jp-MarkdownHeadingCollapsed": true
   },
   "source": [
    "## Hypothesis 1 : higher budget movies are a higher risk and are less likely to be profitable."
   ]
  },
  {
   "cell_type": "markdown",
   "id": "2c166cec-6a74-45a9-9ec2-b0ccf0015f53",
   "metadata": {},
   "source": [
    "![](visuals/6.png)\n",
    "\n",
    "<!-- ![](visuals/7.png) -->\n",
    "\n",
    "![](visuals/8.png)\n",
    "\n",
    "![](visuals/9.png)\n",
    "\n"
   ]
  },
  {
   "cell_type": "markdown",
   "id": "1c16ef8a-585a-404e-b9d5-b12e4dbf4869",
   "metadata": {},
   "source": [
    "## Hypothesis 2: Does movie runtime influence revenue?\n",
    "\n"
   ]
  },
  {
   "cell_type": "markdown",
   "id": "32a78c6d-a0bd-4e59-9f17-00e365ca70ae",
   "metadata": {},
   "source": [
    "![](visuals/10.png)\n",
    "\n",
    "Plot of number of movies within a certain range of runtimes. There’s a small group of much shorter films that are in the 0-30min range, which come mostly from the earlier years where technological and financial considerations limited runtimes of movies, and some that stretch well over two hours, but they’re relatively rare compared to the cluster in the middle. This suggests that “feature-length” typically centers around that hour-and-a-half sweet spot, with fewer productions choosing to deviate too far from it.\n",
    "\n",
    "![](visuals/11.png)\n",
    "\n",
    "Early films in the 1910s and 1920s tended to be shorter, but by the mid-20th century, typical runtimes settled into a stable range around 90–100 minutes. Over the decades, the median runtime hasn’t shifted dramatically, suggesting that the “feature-length” standard reached a sweet spot and stayed there. Even so, there are always outliers—exceptionally long films appear in every era—but they remain the exception rather than the rule.\n",
    "\n",
    "![](visuals/12.png)\n",
    "\n",
    "These boxplots show that movie runtimes don’t change much by release month. The medians stay around 90–100 minutes year-round, and every month has its share of short and long films. While December’s median might be a bit higher, the overall pattern is pretty steady. In other words, a film’s release month doesn’t seem to influence how long it is.\n",
    "\n",
    "![](visuals/13.png)\n",
    "\n",
    "The plot on the left suggests that across all movies, there isn’t a strong relationship between runtime and median profitability—the line’s basically flat. However, the plot on the right, focusing on the last 20 years, shows a positive trend, with longer movies tending to be more profitable on average. We can also consider that as time passed, higher budgets and marketing efforts often go to longer “event” films, which might explain their higher profitability. It’s not guaranteed that making a movie longer leads to bigger profits, but the data suggests a recent pattern where movies that run a bit longer may be benefiting from greater audience interest and investment."
   ]
  },
  {
   "cell_type": "markdown",
   "id": "b208f942-d3c3-48c5-a3b8-a4c1f9edce59",
   "metadata": {},
   "source": [
    "## Hypothesis 3: what is the most profitable release period?"
   ]
  },
  {
   "cell_type": "markdown",
   "id": "427118ff-bf6d-47ba-9577-003cf0996a31",
   "metadata": {},
   "source": [
    "![](visuals/14.png)\n",
    "\n",
    "![](visuals/15.png)\n",
    "\n",
    "![](visuals/16.png)\n",
    "\n",
    "<!-- ![](visuals/17.png) -->\n",
    "\n",
    "<!-- ![](visuals/18.png) -->\n",
    "\n",
    "![](visuals/19.png)\n",
    "\n",
    "\n"
   ]
  },
  {
   "cell_type": "markdown",
   "id": "63ba865e-861c-405d-80ad-d40417ce1c15",
   "metadata": {},
   "source": [
    "## Hypothesis 4: Some genres or themes are more popular and might draw more spectators"
   ]
  },
  {
   "cell_type": "markdown",
   "id": "87de1b43-a686-4fcc-ab2e-c2c341c96896",
   "metadata": {},
   "source": [
    "<!-- ![](visuals/20.png) -->\n",
    "\n",
    "<!-- ![](visuals/21.png) -->\n",
    "\n",
    "![](visuals/22.png)\n",
    "\n",
    "These plots show how certain genres have changed in both profitability and their share of the market over time. For example, “Family”, \"Action\", and “Romantic” films generally became less profitable even though their representation increased as decades passed. “War” sees a downfall of both representation and profitability, perhaps because of the world's traumatising experience with war in the last century.  “LGBT” films, on the other hand, saw both their representation and profitability tick upwards. “Superhero” genres don’t have as clear patterns, but they also show shifts. Overall, it suggests that audience tastes and industry focus move over time, giving different genres periods of growth or decline.\n",
    "\n",
    "![](visuals/23.png)\n",
    "\n",
    "Over the last two decades, \"Family\" and \"Romantic\" films, like was the trend over the last century, seem to have become slightly more profitable, even as their share of the market declined. \"War\" and \"Action\" films have seen a gradual drop in profitability without gaining much presence. \"Superhero\" genres show a mild upward trend in profitability, while also slowly gaining representation. Meanwhile, \"LGBT\" films show no clear profitability trend over time, and their representation remains fairly low and flat. Overall, the changes are subtle, but it’s clear that some genres are slowly drifting in terms of both profitability and how frequently they’re produced.\n",
    "\n",
    "![](visuals/24.png)\n",
    "\n",
    "This heatmap shows which combinations of genres and themes tend to bring in higher profits. Darker blues mark higher profitability. For example, “LGBT” movies with “Love” or “Identity” themes are very profitable, as are “Family” films touching on “Deception.” Some of these profitable cells have few samples, so it might be luck rather than a broad trend. Overall, it suggests that certain thematic choices within a genre can pay off, but you need to be cautious when the sample size is small.\n",
    "\n",
    "<!-- ![](visuals/25.png) -->\n",
    "\n",
    "<!-- ![](visuals/26.png) -->\n",
    "\n",
    "![](visuals/27.png)\n",
    "\n",
    "These plots show how certain themes have evolved in both profitability and how often they appear. For “Friendship,” profitability hasn’t changed much, but these films have grown more common. Themes like “Resilience” and “Identity” started off profitable but have trended downward over time, even though their representation shifted only a bit. “Deception” and “Love” themes saw their profitability fall as their prevalence decreased. “Family” films have stayed pretty stable on both fronts. Overall, it suggests that audience tastes and industry strategies around these themes have shifted, affecting both the financial returns and how frequently filmmakers choose them.\n",
    "\n",
    "![](visuals/28.png)\n",
    "\n",
    "In the past two decades, most themes have gradually lost some profitability and become a bit less common. “Friendship” and “Deception,” for example, both saw their returns and share shrink over time. “Love” also followed this downward path in profitability. “Resilience” and “Identity” don’t show strong trends, but they aren’t notably improving either. The one standout is “Family,” which shows a mild upward trend in profitability and presence, suggesting that as other themes waned, audiences and filmmakers turned more toward family-centric stories.\n"
   ]
  },
  {
   "cell_type": "markdown",
   "id": "1037ad5f-f7a4-4e69-bc1f-9623d9ebff6b",
   "metadata": {},
   "source": [
    "<!-- ## Combined results\n",
    "# COMMENT AJOUTER UN PLOT ANIMÉ HTML? -->"
   ]
  },
  {
   "cell_type": "markdown",
   "id": "8ce4f88d-10f4-4d60-9665-a84847ca34e2",
   "metadata": {},
   "source": [
    "## Shortcomings of our analysis"
   ]
  },
  {
   "cell_type": "markdown",
   "id": "085f66c0-6994-4e99-a569-5366e2e2b36a",
   "metadata": {},
   "source": [
    "There are more than actual useful results :-)"
   ]
  },
  {
   "cell_type": "code",
   "execution_count": null,
   "id": "846a29f1-7da6-4655-8bc3-9826d236ee55",
   "metadata": {},
   "outputs": [],
   "source": []
  }
 ],
 "metadata": {
  "kernelspec": {
   "display_name": "Python [conda env:base] *",
   "language": "python",
   "name": "conda-base-py"
  },
  "language_info": {
   "codemirror_mode": {
    "name": "ipython",
    "version": 3
   },
   "file_extension": ".py",
   "mimetype": "text/x-python",
   "name": "python",
   "nbconvert_exporter": "python",
   "pygments_lexer": "ipython3",
   "version": "3.12.3"
  }
 },
 "nbformat": 4,
 "nbformat_minor": 5
}
