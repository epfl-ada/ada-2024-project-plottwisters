{
 "cells": [
  {
   "cell_type": "markdown",
   "id": "280580ec-f16d-49aa-8afc-784850c1cdc5",
   "metadata": {},
   "source": [
    "**Q3**"
   ]
  },
  {
   "cell_type": "markdown",
   "id": "7215d7ae-f560-4af0-a804-e90d8fe2ce9f",
   "metadata": {},
   "source": [
    "Imports for this part:"
   ]
  },
  {
   "cell_type": "code",
   "execution_count": 1,
   "id": "c44e74e5-1272-4552-9e00-805e090be9d7",
   "metadata": {},
   "outputs": [],
   "source": [
    "import pandas as pd \n",
    "import numpy as np \n",
    "import scipy.stats as stats\n",
    "from scipy.stats import ttest_ind\n",
    "import seaborn as sns\n",
    "import matplotlib.pyplot as plt \n",
    "import plotly.graph_objects as go\n",
    "import ast\n",
    "from collections import Counter\n",
    "import plotly.express as px\n",
    "from sklearn.linear_model import LogisticRegression\n",
    "from sklearn.neighbors import NearestNeighbors\n",
    "from scipy.stats import ttest_rel\n",
    "#import re \n",
    "#from bs4 import BeautifulSoup \n",
    "#from datetime import datetime\n",
    "#from vaderSentiment.vaderSentiment import SentimentIntensityAnalyzer\n",
    "#import ast"
   ]
  },
  {
   "cell_type": "markdown",
   "id": "a2a19b9e-96f3-4df1-9e21-871ccd8035db",
   "metadata": {},
   "source": [
    "Get the dataset:"
   ]
  },
  {
   "cell_type": "code",
   "execution_count": 2,
   "id": "efa5adc1-ce0d-4481-a2ee-2707b0295b16",
   "metadata": {
    "scrolled": true
   },
   "outputs": [],
   "source": [
    "folder = \"generated/\"\n",
    "\n",
    "df_movies=pd.read_csv(folder + \"USE_THIS_DATASET.csv\", index_col = 'Wikipedia movie ID')\n",
    "df_movies['decade'] = (df_movies['Movie release year'] // 10) * 10"
   ]
  },
  {
   "cell_type": "markdown",
   "id": "8fa40f0a-9392-40b1-bd97-619322056195",
   "metadata": {},
   "source": [
    "Keep what is usefull for this part and save it to a csv file:"
   ]
  },
  {
   "cell_type": "code",
   "execution_count": 40,
   "id": "68d5ab88-c7d4-4b4c-a523-e23e1affcd0a",
   "metadata": {},
   "outputs": [],
   "source": [
    "# keep what is usefull for part 3\n",
    "df_3 = df_movies.copy()\n",
    "\n",
    "df_3 = df_3.drop(['Movie release month', 'Movie release date', 'Movie runtime', 'Movie languages', 'Compound Score'], axis=1)\n",
    "\n",
    "df_3 = df_3.dropna(subset=['Movie box office revenue','Movie release year'])\n",
    "\n",
    "df_3['Movie release year'] = df_3['Movie release year'].astype(int)\n",
    "\n",
    "# Convert string representations of lists into actual lists\n",
    "#df_3['Movie countries'] = df_3['Movie countries'].apply(ast.literal_eval)\n",
    "df_3['Movie genres'] = df_3['Movie genres'].apply(ast.literal_eval)\n",
    "\n",
    "#df_3 = df_3[df_3['Movie countries'].apply(lambda x: 'United States of America' in x)]"
   ]
  },
  {
   "cell_type": "code",
   "execution_count": 41,
   "id": "73372964-2354-423c-8e3d-b268615a60d3",
   "metadata": {},
   "outputs": [
    {
     "name": "stdout",
     "output_type": "stream",
     "text": [
      "Remaining empty strings per column:\n",
      "Movie name                  0\n",
      "Movie release year          0\n",
      "Movie box office revenue    0\n",
      "Movie countries             0\n",
      "Movie genres                0\n",
      "Summary                     0\n",
      "Sentiment                   0\n",
      "Theme                       0\n",
      "vote_average                0\n",
      "budget                      0\n",
      "decade                      0\n",
      "dtype: int64\n"
     ]
    }
   ],
   "source": [
    "# Verification: Check if there are any remaining empty strings\n",
    "print(\"Remaining empty strings per column:\")\n",
    "print((df_3 == '').sum())"
   ]
  },
  {
   "cell_type": "code",
   "execution_count": 42,
   "id": "9ed3773e-3106-4461-92d1-3b5c5ae71122",
   "metadata": {},
   "outputs": [],
   "source": [
    "#Get rid of Box office oulier\n",
    "threshold = df_3['Movie box office revenue'].quantile(0.99)\n",
    "df_3 = df_3[df_3['Movie box office revenue'] <= threshold]"
   ]
  },
  {
   "cell_type": "code",
   "execution_count": 43,
   "id": "e91fca82-dae8-45f1-b8ac-73696e70ffe7",
   "metadata": {},
   "outputs": [],
   "source": [
    "#Themes correction\n",
    "\n",
    "df_3['Theme'] = df_3['Theme'].str.lower()\n",
    "\n",
    "corrections = { \n",
    "    \"ransformation\": \"transformation\",\n",
    "    \"ransition\": \"transition\",\n",
    "    \"ptation\": \"temptation\",\n",
    "    \"ragedy\": \"tragedy\",\n",
    "    \"ranscendence\": \"transcendence\",\n",
    "    \"radition\": \"tradition\",\n",
    "    \"ransport\": \"transport\",\n",
    "    \"ransgression\": \"transgression\",\n",
    "    \"ransmutation\": \"transmutation\",\n",
    "    \"ransparency\": \"transparency\",\n",
    "    \"ransportation\": \"transportation\",\n",
    "    \"ransmigration\": \"transmigration\",\n",
    "    \"rture\": \"torture\",\n",
    "    \"rritory\": \"territory\",\n",
    "    \"rafficking\": \"trafficking\",\n",
    "    \"vriendschap\": \"friendship\",\n",
    "    \"vengeance\": \"revenge\" #grouping for analysis\n",
    "}\n",
    "\n",
    "# Function to correct themes\n",
    "def correct_theme(theme):\n",
    "    if pd.isna(theme):  # Handle NaN values\n",
    "        return theme\n",
    "    return corrections.get(theme, theme)  # Apply correction if it exists\n",
    "\n",
    "# Apply the correction to the 'Theme' column\n",
    "df_3['Corrected_Theme'] = df_3['Theme'].apply(correct_theme)"
   ]
  },
  {
   "cell_type": "code",
   "execution_count": 44,
   "id": "6d144d61-ec77-47c8-8628-f78e7ff704b6",
   "metadata": {},
   "outputs": [],
   "source": [
    "df_3 = df_3.drop(['Theme'], axis = 1) "
   ]
  },
  {
   "cell_type": "code",
   "execution_count": 45,
   "id": "5d68bbaa-02f6-4961-898c-ffd3c42853f8",
   "metadata": {},
   "outputs": [],
   "source": [
    "# Save to a csv file\n",
    "df_3.to_csv('df_3.csv')"
   ]
  },
  {
   "cell_type": "code",
   "execution_count": 8,
   "id": "b586a772-e0c9-48ed-9b7d-138dee16065b",
   "metadata": {},
   "outputs": [
    {
     "name": "stdout",
     "output_type": "stream",
     "text": [
      "Movie name                     0\n",
      "Movie release year             0\n",
      "Movie box office revenue       0\n",
      "Movie countries                0\n",
      "Movie genres                   0\n",
      "Summary                      155\n",
      "Sentiment                    155\n",
      "vote_average                1077\n",
      "budget                      4880\n",
      "decade                         0\n",
      "Corrected_Theme              167\n",
      "dtype: int64\n"
     ]
    }
   ],
   "source": [
    "# Check for missing values\n",
    "print(df_3.isna().sum())"
   ]
  },
  {
   "cell_type": "code",
   "execution_count": 9,
   "id": "e7d35b99-c32a-4f13-94ed-43f1d198e502",
   "metadata": {
    "jp-MarkdownHeadingCollapsed": true
   },
   "outputs": [
    {
     "name": "stdout",
     "output_type": "stream",
     "text": [
      "<class 'pandas.core.frame.DataFrame'>\n",
      "Index: 10827 entries, 975900 to 26482675\n",
      "Data columns (total 11 columns):\n",
      " #   Column                    Non-Null Count  Dtype  \n",
      "---  ------                    --------------  -----  \n",
      " 0   Movie name                10827 non-null  object \n",
      " 1   Movie release year        10827 non-null  int64  \n",
      " 2   Movie box office revenue  10827 non-null  float64\n",
      " 3   Movie countries           10827 non-null  object \n",
      " 4   Movie genres              10827 non-null  object \n",
      " 5   Summary                   10672 non-null  object \n",
      " 6   Sentiment                 10672 non-null  object \n",
      " 7   vote_average              9750 non-null   float64\n",
      " 8   budget                    5947 non-null   float64\n",
      " 9   decade                    10827 non-null  float64\n",
      " 10  Corrected_Theme           10660 non-null  object \n",
      "dtypes: float64(4), int64(1), object(6)\n",
      "memory usage: 1015.0+ KB\n"
     ]
    }
   ],
   "source": [
    "df_3.info()"
   ]
  },
  {
   "cell_type": "code",
   "execution_count": 10,
   "id": "26060900-f365-48fd-af34-b81dafd08d50",
   "metadata": {},
   "outputs": [],
   "source": [
    "# Useful functions\n",
    "\n",
    "# Function to calculate confidence intervals \n",
    "def calculate_ci(data, confidence=0.99):\n",
    "    # Calculate the standard error of the mean (SEM)\n",
    "    sem = stats.sem(data, nan_policy='omit')\n",
    "    # Calculate the margin of error\n",
    "    margin_of_error = sem * stats.t.ppf((1 + confidence) / 2., len(data)-1)\n",
    "    return margin_of_error"
   ]
  },
  {
   "cell_type": "code",
   "execution_count": 11,
   "id": "3b712337-90ad-444c-a2d3-9810f59b3e96",
   "metadata": {},
   "outputs": [],
   "source": [
    "# Useful general objects\n",
    "\n",
    "total_movies_per_year = df_3.groupby('Movie release year').size()\n",
    "\n",
    "box_office_per_year = df_3.groupby('Movie release year')['Movie box office revenue'].mean()\n",
    "\n",
    "# Calculate CI for total movies per year\n",
    "total_movies_ci_upper = total_movies_per_year + calculate_ci(total_movies_per_year)\n",
    "total_movies_ci_lower = total_movies_per_year - calculate_ci(total_movies_per_year)\n",
    "\n",
    "all_movies_revenue_stats = df_3['Movie box office revenue'].describe()"
   ]
  },
  {
   "cell_type": "markdown",
   "id": "69329835-2033-4cf2-b14e-caad1227176e",
   "metadata": {},
   "source": [
    "**LGBT related movies**"
   ]
  },
  {
   "cell_type": "code",
   "execution_count": null,
   "id": "38815e76-375b-4ca2-8c2c-5f4f3a134e16",
   "metadata": {},
   "outputs": [],
   "source": [
    "# List of LGBT-related genres\n",
    "lgbt_genres = [\n",
    "    'LGBT', 'Gay Interest', 'New Queer Cinema', 'Gay Themed', 'Queer Cinema', 'Gender Issues', 'Gay'\n",
    "]\n",
    "\n",
    "# Filter the movies with the LGBT-related genres\n",
    "lgbt_movies = df_3[df_3['Movie genres'].apply(lambda genres: any(g in genres for g in lgbt_genres))]\n",
    "\n",
    "#Get rid of Box office oulier\n",
    "#threshold = lgbt_movies['Movie box office revenue'].quantile(0.99)\n",
    "#lgbt_movies = lgbt_movies[lgbt_movies['Movie box office revenue'] <= threshold]\n",
    "\n",
    "# Group by release year and count movies\n",
    "lgbt_per_year = lgbt_movies.groupby('Movie release year').size()\n",
    "\n",
    "normalized_lgbt = lgbt_per_year / total_movies_per_year\n",
    "\n",
    "# Calculate CI for LGBT movies per year\n",
    "lgbt_movies_ci_upper = lgbt_per_year + calculate_ci(lgbt_per_year)\n",
    "lgbt_movies_ci_lower = lgbt_per_year - calculate_ci(lgbt_per_year)\n",
    "\n",
    "lgbt_movies.info()"
   ]
  },
  {
   "cell_type": "code",
   "execution_count": null,
   "id": "5d7a7f67-7fe9-4c34-b622-695ff43124c6",
   "metadata": {},
   "outputs": [],
   "source": [
    "# Save to a csv file\n",
    "lgbt_movies.to_csv('lgbt_movies.csv')"
   ]
  },
  {
   "cell_type": "code",
   "execution_count": null,
   "id": "d1b04027-4315-4c5a-890d-dd9ffc729985",
   "metadata": {},
   "outputs": [],
   "source": [
    "# Plot the number of LGBT-related movies released over time\n",
    "fig, ax1 = plt.subplots(figsize=(10, 6))\n",
    "\n",
    "# Plot total movies\n",
    "ax1.plot(total_movies_per_year.index, total_movies_per_year.values, color='gray', linestyle='--', label='Total Movies')\n",
    "#ax1.fill_between(total_movies_per_year.index, total_movies_ci_lower, total_movies_ci_upper, color='gray', alpha=0.2)\n",
    "ax1.set_xlabel('Release Year', fontsize=14)\n",
    "ax1.set_ylabel('Total Movies', fontsize=14, color='gray')\n",
    "ax1.tick_params(axis='y', labelcolor='gray')\n",
    "\n",
    "# Plot LGBT movies\n",
    "ax2 = ax1.twinx()\n",
    "ax2.plot(lgbt_per_year.index, lgbt_per_year.values, color='purple', linewidth=2, label='LGBT Movies')\n",
    "#ax2.fill_between(lgbt_per_year.index, lgbt_movies_ci_lower, lgbt_movies_ci_upper, color='purple', alpha=0.2)\n",
    "ax2.set_ylabel('LGBT Movies', fontsize=14, color='purple')\n",
    "ax2.tick_params(axis='y', labelcolor='purple')\n",
    "\n",
    "plt.title('Evolution of LGBT Movies vs Total Movies Over Time', fontsize=16)\n",
    "ax1.set_xlim(1960, 2010)\n",
    "ax1.grid(alpha=0.5)\n",
    "\n",
    "plt.tight_layout()\n",
    "plt.savefig('visuals/NbLGBTMovies_ReleaseYear.png')\n",
    "plt.show()"
   ]
  },
  {
   "cell_type": "markdown",
   "id": "d335d8db-ac2c-46be-977a-04c04c62dc9f",
   "metadata": {},
   "source": [
    "AIDS pandemic 1987–2000\n",
    "\n",
    "From 2000's same-sex marriage, vote in 2015 for the US"
   ]
  },
  {
   "cell_type": "code",
   "execution_count": null,
   "id": "6b2863e2-bcf1-45f8-b9b3-f1ad09c5c369",
   "metadata": {},
   "outputs": [],
   "source": [
    "# Smooth the normalized LGBT data using a rolling window (e.g., 3 years)\n",
    "normalized_lgbt_smooth = normalized_lgbt.rolling(window=3).mean()\n",
    "\n",
    "# Plot smoothed normalized LGBT data\n",
    "plt.figure(figsize=(10, 6))\n",
    "plt.plot(normalized_lgbt.index, normalized_lgbt_smooth.values, color='purple', linewidth=2, label='Smoothed Normalized LGBT Movies')\n",
    "plt.xlabel('Release Year', fontsize=14)\n",
    "plt.ylabel('Smoothed Normalized LGBT Movies', fontsize=14)\n",
    "plt.title('Smoothed Normalized LGBT Movies Over Time', fontsize=16)\n",
    "plt.grid(alpha=0.5)\n",
    "plt.tight_layout()\n",
    "plt.show()\n"
   ]
  },
  {
   "cell_type": "markdown",
   "id": "a1e2b5c7-9e4d-4aa1-8282-77ea93877808",
   "metadata": {},
   "source": [
    "Let's talk money:"
   ]
  },
  {
   "cell_type": "code",
   "execution_count": null,
   "id": "56b39808-e1fa-4449-82f5-d953556ae1b7",
   "metadata": {},
   "outputs": [],
   "source": [
    "print(\"\\nAll Movies Box Office Revenue Statistics:\")\n",
    "print(all_movies_revenue_stats)"
   ]
  },
  {
   "cell_type": "code",
   "execution_count": null,
   "id": "53526b4c-338a-4bf5-be7b-9e40d6b0b406",
   "metadata": {},
   "outputs": [],
   "source": [
    "lgbt_revenue_stats = lgbt_movies['Movie box office revenue'].describe()\n",
    "print(\"LGBT Movies Box Office Revenue Statistics:\")\n",
    "print(lgbt_revenue_stats)"
   ]
  },
  {
   "cell_type": "code",
   "execution_count": null,
   "id": "be968575-ec77-4bbf-8c48-14e7d184e4a5",
   "metadata": {},
   "outputs": [],
   "source": [
    "# Create a new column to classify movies\n",
    "df_3['LGBT Related'] = df_3['Movie genres'].apply(\n",
    "    lambda genres: any(g in genres for g in lgbt_genres)\n",
    ")\n",
    "\n",
    "# Create the box plot\n",
    "plt.figure(figsize=(10, 6))\n",
    "sns.boxplot(data=df_3, x='LGBT Related', y='Movie box office revenue', palette='Set2')\n",
    "plt.yscale('log')  # Use log scale if revenue values vary widely\n",
    "plt.title('Box Office Revenue Comparison: LGBT-Related vs All Movies', fontsize=16)\n",
    "plt.xlabel('Movie Type', fontsize=14)\n",
    "plt.ylabel('Box Office Revenue (Log Scale)', fontsize=14)\n",
    "plt.grid(alpha=0.5)\n",
    "plt.tight_layout()\n",
    "plt.show()"
   ]
  },
  {
   "cell_type": "code",
   "execution_count": null,
   "id": "b899740e-a6ad-47d7-8585-14a0bda60db8",
   "metadata": {},
   "outputs": [],
   "source": [
    "plt.figure(figsize=(10, 6))\n",
    "\n",
    "# KDE for all movies\n",
    "sns.kdeplot(df_3['Movie box office revenue'], label='All Movies', color='blue', fill=True, alpha=0.3)\n",
    "\n",
    "# KDE for LGBT-related movies\n",
    "sns.kdeplot(lgbt_movies['Movie box office revenue'], label='LGBT Movies', color='purple', fill=True, alpha=0.3)\n",
    "\n",
    "plt.xscale('log')  # Use log scale for better visualization\n",
    "plt.title('Revenue Distribution: LGBT Movies vs All Movies', fontsize=16)\n",
    "plt.xlabel('Box Office Revenue (Log Scale)', fontsize=14)\n",
    "plt.ylabel('Density', fontsize=14)\n",
    "plt.legend()\n",
    "plt.grid(alpha=0.5)\n",
    "plt.tight_layout()\n",
    "plt.show()\n"
   ]
  },
  {
   "cell_type": "code",
   "execution_count": null,
   "id": "c68054e7-5add-42a6-af2b-1913e5821a47",
   "metadata": {},
   "outputs": [],
   "source": [
    "# Revenue data\n",
    "lgbt_revenue = lgbt_movies['Movie box office revenue'].dropna()\n",
    "all_movies_revenue = df_3['Movie box office revenue'].dropna()\n",
    "\n",
    "# Perform T-test\n",
    "t_stat, p_value = ttest_ind(lgbt_revenue, all_movies_revenue, equal_var=False)\n",
    "print(f\"T-Statistic: {t_stat:.3f}, P-Value: {p_value:.3f}\")\n",
    "\n",
    "# Interpretation\n",
    "if p_value < 0.05:\n",
    "    print(\"The difference in box office revenues is statistically significant.\")\n",
    "else:\n",
    "    print(\"No significant difference in box office revenues.\")\n"
   ]
  },
  {
   "cell_type": "code",
   "execution_count": null,
   "id": "7f22b61a-223d-486c-9554-f4ac2ad7ce9d",
   "metadata": {},
   "outputs": [],
   "source": [
    "lgbt_box_office_per_year = lgbt_movies.groupby('Movie release year')['Movie box office revenue'].mean()\n",
    "\n",
    "# Plot the trend\n",
    "plt.figure(figsize=(10, 6))\n",
    "plt.plot(box_office_per_year.index, box_office_per_year.values, label='All Movies', color='blue')\n",
    "plt.plot(lgbt_box_office_per_year.index, lgbt_box_office_per_year.values, label='LGBT Movies', color='purple')\n",
    "plt.title('Average Box Office Revenue Over Time', fontsize=16)\n",
    "plt.xlabel('Release Year', fontsize=14)\n",
    "plt.ylabel('Average Box Office Revenue', fontsize=14)\n",
    "plt.xlim(1940, 2010)\n",
    "plt.legend()\n",
    "plt.grid(alpha=0.5)\n",
    "plt.tight_layout()\n",
    "plt.show()"
   ]
  },
  {
   "cell_type": "code",
   "execution_count": null,
   "id": "c5dd22ab-534d-4aba-b791-0a1b2d6a5c2b",
   "metadata": {},
   "outputs": [],
   "source": [
    "# Flatten the list of genres and filter out LGBT-related genres\n",
    "all_genres = [genre for genres in lgbt_movies['Movie genres'] for genre in genres if genre not in lgbt_genres]\n",
    "\n",
    "# Count occurrences of non-LGBT genres\n",
    "genre_counts = Counter(all_genres)\n",
    "\n",
    "# Extract the top 10 most common non-LGBT genres\n",
    "top_10_non_lgbt_genres = genre_counts.most_common(10)\n",
    "\n",
    "print(\"Top 10 Non-LGBT Genres in LGBT Movies:\")\n",
    "for genre, count in top_10_non_lgbt_genres:\n",
    "    print(f\"{genre}: {count}\")\n",
    "\n"
   ]
  },
  {
   "cell_type": "code",
   "execution_count": null,
   "id": "7c2cb4a0-64e2-4bfd-80ac-e4d0a92a2edc",
   "metadata": {},
   "outputs": [],
   "source": [
    "genres, counts = zip(*top_10_non_lgbt_genres)\n",
    "plt.figure(figsize=(10, 6))\n",
    "plt.bar(genres, counts, color='purple', alpha=0.7)\n",
    "plt.title('Top 10 Non-LGBT Genres in LGBT Movies', fontsize=16)\n",
    "plt.xlabel('Genres', fontsize=14)\n",
    "plt.ylabel('Count', fontsize=14)\n",
    "plt.xticks(rotation=45, ha='right')\n",
    "plt.tight_layout()\n",
    "plt.show()"
   ]
  },
  {
   "cell_type": "code",
   "execution_count": null,
   "id": "3a367e93-f38e-4b5e-bdc2-d3e17a6ce53b",
   "metadata": {},
   "outputs": [],
   "source": [
    "# Count movies by country for all movies\n",
    "all_countries = lgbt_movies['Movie countries'].explode().value_counts()\n",
    "\n",
    "# Compare top countries\n",
    "print(\"Top Countries for LGBT Movies:\")\n",
    "print(all_countries.head(10))\n"
   ]
  },
  {
   "cell_type": "code",
   "execution_count": null,
   "id": "1f5fa5be-4065-43d1-ad5f-e80d91ea15b5",
   "metadata": {},
   "outputs": [],
   "source": [
    "# Count non-LGBT genres in LGBT movies\n",
    "non_lgbt_genres = [genre for genres in lgbt_movies['Movie genres'] for genre in genres if genre not in lgbt_genres]\n",
    "non_lgbt_genre_counts = Counter(non_lgbt_genres)\n",
    "\n",
    "# Count all genres in all movies\n",
    "all_genres = [genre for genres in df_3['Movie genres'] for genre in genres]\n",
    "all_genre_counts = Counter(all_genres)\n",
    "\n",
    "# Top 10 non-LGBT genres in LGBT movies\n",
    "top_non_lgbt_genres = dict(non_lgbt_genre_counts.most_common(10))\n",
    "\n",
    "# Top 10 genres in all movies\n",
    "top_all_genres = dict(all_genre_counts.most_common(10))\n",
    "\n",
    "# Combine into a DataFrame for easier comparison\n",
    "comparison_df = pd.DataFrame({\n",
    "    'Non-LGBT Genres in LGBT Movies': top_non_lgbt_genres,\n",
    "    'Genres in All Movies': top_all_genres\n",
    "}).fillna(0)  # Fill missing values with 0\n",
    "\n",
    "\n",
    "comparison_df.plot(kind='bar', figsize=(12, 6), color=['purple', 'gray'], alpha=0.7)\n",
    "plt.title('Top Genres Comparison: Non-LGBT in LGBT Movies vs All Movies', fontsize=16)\n",
    "plt.xlabel('Genres', fontsize=14)\n",
    "plt.ylabel('Count', fontsize=14)\n",
    "plt.xticks(rotation=45, ha='right')\n",
    "plt.legend(loc='upper right', fontsize=12)\n",
    "plt.tight_layout()\n",
    "plt.show()"
   ]
  },
  {
   "cell_type": "code",
   "execution_count": null,
   "id": "8dccab37-ae22-46c5-83b4-de3640f9a726",
   "metadata": {},
   "outputs": [],
   "source": [
    "# Identify the top 3 non-LGBT genres\n",
    "top_3_non_lgbt_genres = [genre for genre, count in Counter(non_lgbt_genres).most_common(3)]\n",
    "print(\"Top 3 Non-LGBT Genres in LGBT Movies:\", top_3_non_lgbt_genres)\n",
    "\n",
    "# Step 3: Create a DataFrame to track genre occurrences over time\n",
    "# Initialize an empty DataFrame\n",
    "genre_trends = pd.DataFrame()\n",
    "\n",
    "# Loop through the top 3 genres and count occurrences per year\n",
    "for genre in top_3_non_lgbt_genres:\n",
    "    genre_trends[genre] = lgbt_movies.apply(\n",
    "        lambda row: genre in row['Movie genres'], axis=1\n",
    "    ).groupby(lgbt_movies['Movie release year']).sum()\n",
    "\n",
    "# Step 4: Plot the trends\n",
    "plt.figure(figsize=(12, 6))\n",
    "for genre in top_3_non_lgbt_genres:\n",
    "    plt.plot(genre_trends.index, genre_trends[genre], label=genre, linewidth=2)\n",
    "\n",
    "# Customize the plot\n",
    "plt.title('Evolution of Top 3 Non-LGBT Genres Associated with LGBT Movies Over Time', fontsize=16)\n",
    "plt.xlabel('Release Year', fontsize=14)\n",
    "plt.ylabel('Number of Movies', fontsize=14)\n",
    "plt.legend(title='Genres', fontsize=12)\n",
    "plt.grid(alpha=0.5)\n",
    "plt.xlim(1960, 2010)  # Adjust based on the range of years in your dataset\n",
    "plt.tight_layout()\n",
    "plt.show()"
   ]
  },
  {
   "cell_type": "code",
   "execution_count": null,
   "id": "76c3a3a2-7dfe-41d7-b34a-3e4647364a25",
   "metadata": {},
   "outputs": [],
   "source": [
    "### Pas marche !\n",
    "\n",
    "# Initialize an empty list to store the results\n",
    "data = []\n",
    "\n",
    "# Loop through each year and find the top 3 genres\n",
    "for year, group in lgbt_movies.groupby('Movie release year'):\n",
    "    # Flatten the genres for this year and filter out LGBT-related genres\n",
    "    genres_in_year = [\n",
    "        genre for genres in group['Movie genres'] for genre in genres if genre not in lgbt_genres\n",
    "    ]\n",
    "    # Count occurrences of each genre\n",
    "    genre_counts = Counter(genres_in_year)\n",
    "    # Get the top 3 genres\n",
    "    for genre, count in genre_counts.most_common(5):\n",
    "        data.append({'Year': year, 'Genre': genre, 'Count': count})\n",
    "\n",
    "# Convert the results into a DataFrame\n",
    "plot_data = pd.DataFrame(data)\n",
    "\n",
    "# Step 3: Create the dynamic bar chart using Plotly\n",
    "fig = px.bar(\n",
    "    plot_data,\n",
    "    x='Genre',\n",
    "    y='Count',\n",
    "    color='Genre',\n",
    "    animation_frame='Year',\n",
    "    title='Top 3 Non-LGBT Genres in LGBT Movies Over Time',\n",
    "    labels={'Count': 'Number of Movies', 'Genre': 'Genre'},\n",
    "    height=600\n",
    ")\n",
    "\n",
    "# Customize layout\n",
    "fig.update_layout(\n",
    "    xaxis=dict(title='Genre'),\n",
    "    yaxis=dict(title='Number of Movies'),\n",
    "    legend_title='Genre',\n",
    "    title_font_size=18,\n",
    "    title_x=0.5\n",
    ")\n",
    "\n",
    "# Show the interactive plot\n",
    "fig.show()"
   ]
  },
  {
   "cell_type": "code",
   "execution_count": null,
   "id": "f31fd38e-4ca0-488a-9cb5-8c626d822a5a",
   "metadata": {},
   "outputs": [],
   "source": [
    "# Identify outliers for LGBT movies\n",
    "lgbt_outliers = lgbt_movies[lgbt_movies['Movie box office revenue'] > lgbt_movies['Movie box office revenue'].quantile(0.95)]\n",
    "print(\"Outliers in LGBT Movies Revenue:\")\n",
    "print(lgbt_outliers[['Movie name', 'Movie box office revenue', 'Movie release year']])\n",
    "\n",
    "# Identify outliers for all movies\n",
    "# all_outliers = df_3[df_3['Movie box office revenue'] > df_3['Movie box office revenue'].quantile(0.99)]\n",
    "# print(\"\\nOutliers in All Movies Revenue:\")\n",
    "# print(all_outliers[['Movie name', 'Movie box office revenue', 'Movie release year']])\n",
    "\n",
    "### Need to link outliers to plot for LGBT-related movies i.e Lawrence of Arabia in 1963 and Cat on a Hot Tin Roof in 1958 only movies in these years!\n"
   ]
  },
  {
   "cell_type": "code",
   "execution_count": null,
   "id": "41c51e2a-1c31-4f08-ba85-b41e154db034",
   "metadata": {},
   "outputs": [],
   "source": [
    "\n",
    "lgbt_1958 = lgbt_movies[lgbt_movies['Movie release year'] == 1958]\n",
    "lgbt_1958\n",
    "\n",
    "lgbt_1962 = lgbt_movies[lgbt_movies['Movie release year'] == 1962]\n",
    "lgbt_1962"
   ]
  },
  {
   "cell_type": "markdown",
   "id": "a4cc621a-d26b-4a26-85c3-7d0a943892e1",
   "metadata": {},
   "source": [
    "**War-related movies**"
   ]
  },
  {
   "cell_type": "code",
   "execution_count": 12,
   "id": "c8f1ed1b-e339-463f-bd15-ebf02e5e2238",
   "metadata": {},
   "outputs": [
    {
     "name": "stdout",
     "output_type": "stream",
     "text": [
      "<class 'pandas.core.frame.DataFrame'>\n",
      "Index: 539 entries, 171005 to 1142326\n",
      "Data columns (total 12 columns):\n",
      " #   Column                    Non-Null Count  Dtype  \n",
      "---  ------                    --------------  -----  \n",
      " 0   Movie name                539 non-null    object \n",
      " 1   Movie release year        539 non-null    int64  \n",
      " 2   Movie box office revenue  539 non-null    float64\n",
      " 3   Movie countries           539 non-null    object \n",
      " 4   Movie genres              539 non-null    object \n",
      " 5   Summary                   532 non-null    object \n",
      " 6   Sentiment                 532 non-null    object \n",
      " 7   vote_average              488 non-null    float64\n",
      " 8   budget                    311 non-null    float64\n",
      " 9   decade                    539 non-null    float64\n",
      " 10  Corrected_Theme           529 non-null    object \n",
      " 11  War Related               539 non-null    bool   \n",
      "dtypes: bool(1), float64(4), int64(1), object(6)\n",
      "memory usage: 51.1+ KB\n"
     ]
    }
   ],
   "source": [
    "#War related movies\n",
    "\n",
    "# List of genres related to LGBT themes\n",
    "war_genres = [\n",
    "    'War film', 'Combat films', 'Anti-War film', 'Gulf War', 'Cold War', 'Nuclear warfare', 'War effort', 'Anti-war'\n",
    "]\n",
    "\n",
    "# Create a binary column: 1 for war-related movies, 0 for non-war movies\n",
    "df_3['War Related'] = df_3['Movie genres'].apply(lambda genres: any(g in genres for g in war_genres))\n",
    "\n",
    "war_movies = df_3[df_3['Movie genres'].apply(lambda genres: any(g in genres for g in war_genres))]\n",
    "\n",
    "war_movies.info()"
   ]
  },
  {
   "cell_type": "code",
   "execution_count": 13,
   "id": "ef0c72c4-6503-45e4-9233-f4f8d52edb52",
   "metadata": {},
   "outputs": [],
   "source": [
    "# Save to a csv file\n",
    "war_movies.to_csv('war_movies.csv')"
   ]
  },
  {
   "cell_type": "code",
   "execution_count": null,
   "id": "25a58da0-1e62-4d1c-a5c6-25033fe8a548",
   "metadata": {},
   "outputs": [],
   "source": [
    "# Group by release year and count movies\n",
    "war_per_year = war_movies.groupby('Movie release year').size()\n",
    "\n",
    "\n",
    "# Plot the number of War-related movies released over time\n",
    "fig, ax1 = plt.subplots(figsize=(10, 6))\n",
    "\n",
    "# Plot total movies\n",
    "ax1.plot(total_movies_per_year.index, total_movies_per_year.values, color='gray', linestyle='--', label='Total Movies')\n",
    "ax1.set_xlabel('Release Year', fontsize=14)\n",
    "ax1.set_ylabel('Total Movies', fontsize=14, color='gray')\n",
    "ax1.tick_params(axis='y', labelcolor='gray')\n",
    "\n",
    "# Plot LGBT movies\n",
    "ax2 = ax1.twinx()\n",
    "ax2.plot(war_per_year.index, war_per_year.values, color='purple', linewidth=2, label='LGBT Movies')\n",
    "ax2.set_ylabel('War Movies', fontsize=14, color='purple')\n",
    "ax2.tick_params(axis='y', labelcolor='purple')\n",
    "\n",
    "plt.title('Evolution of War Movies vs Total Movies Over Time', fontsize=16)\n",
    "ax1.set_xlim(1920, 2010)\n",
    "ax1.grid(alpha=0.5)\n",
    "\n",
    "plt.tight_layout()\n",
    "plt.savefig('visuals/NbWarMovies_ReleaseYear.png')\n",
    "plt.show()"
   ]
  },
  {
   "cell_type": "code",
   "execution_count": null,
   "id": "9d2e16df-6190-4b72-ad07-3a16cfd4c9e6",
   "metadata": {},
   "outputs": [],
   "source": [
    "# Group by year and calculate average box office revenue for war movies\n",
    "war_revenue_per_year = war_movies.groupby('Movie release year')['Movie box office revenue'].mean()\n",
    "\n",
    "# Group by year and calculate average box office revenue for all movies\n",
    "all_revenue_per_year = df_3.groupby('Movie release year')['Movie box office revenue'].mean()\n",
    "\n",
    "# Plot the data\n",
    "plt.figure(figsize=(12, 6))\n",
    "plt.plot(war_revenue_per_year.index, war_revenue_per_year.values, label='War Movies', color='red', linewidth=2)\n",
    "plt.plot(all_revenue_per_year.index, all_revenue_per_year.values, label='All Movies', color='gray', linestyle='--', linewidth=2)\n",
    "plt.title('Average Box Office Revenue: War Movies vs All Movies', fontsize=16)\n",
    "plt.xlabel('Release Year', fontsize=14)\n",
    "plt.ylabel('Average Box Office Revenue ($)', fontsize=14)\n",
    "plt.xlim(1920, 2010)\n",
    "plt.legend(fontsize=12)\n",
    "plt.grid(alpha=0.5)\n",
    "plt.tight_layout()\n",
    "plt.show()\n"
   ]
  },
  {
   "cell_type": "code",
   "execution_count": null,
   "id": "f83730fe-d716-4463-a1e3-eabe757d957c",
   "metadata": {},
   "outputs": [],
   "source": [
    "# Example of annotating World War II and Vietnam War\n",
    "plt.figure(figsize=(12, 6))\n",
    "plt.plot(war_revenue_per_year.index, war_revenue_per_year.values, label='War Movies', color='red', linewidth=2)\n",
    "\n",
    "# Annotate World War II (1939-1945)\n",
    "plt.axvspan(1939, 1945, color='gray', alpha=0.3, label='World War II')\n",
    "plt.text(1942, max(war_revenue_per_year) * 0.9, 'WWII', color='black', fontsize=12)\n",
    "\n",
    "# Annotate Vietnam War (1955-1975)\n",
    "plt.axvspan(1955, 1975, color='blue', alpha=0.1, label='Vietnam War')\n",
    "plt.text(1965, max(war_revenue_per_year) * 0.8, 'Vietnam War', color='black', fontsize=12)\n",
    "\n",
    "plt.title('Average Box Office Revenue of War Movies with Historical Events', fontsize=16)\n",
    "plt.xlabel('Release Year', fontsize=14)\n",
    "plt.ylabel('Average Revenue ($)', fontsize=14)\n",
    "plt.legend(fontsize=12)\n",
    "plt.grid(alpha=0.5)\n",
    "plt.tight_layout()\n",
    "plt.show()\n"
   ]
  },
  {
   "cell_type": "code",
   "execution_count": null,
   "id": "e414907a-6a60-4c47-a91b-6026b07f18bc",
   "metadata": {},
   "outputs": [],
   "source": [
    "# Extract box office revenue\n",
    "war_revenue = war_movies['Movie box office revenue'].dropna()\n",
    "all_revenue = df_3['Movie box office revenue'].dropna()\n",
    "\n",
    "# Perform a T-Test\n",
    "t_stat, p_value = ttest_ind(war_revenue, all_revenue, equal_var=False)\n",
    "print(f\"T-Statistic: {t_stat:.2f}, P-Value: {p_value:.4f}\")\n",
    "\n",
    "# Interpret results\n",
    "if p_value < 0.05:\n",
    "    print(\"The difference in revenue is statistically significant.\")\n",
    "else:\n",
    "    print(\"No statistically significant difference in revenue.\")"
   ]
  },
  {
   "cell_type": "code",
   "execution_count": 15,
   "id": "1a6b1f49-da33-4b68-aaad-9de7b9bdb870",
   "metadata": {},
   "outputs": [
    {
     "name": "stderr",
     "output_type": "stream",
     "text": [
      "C:\\Users\\elsap\\AppData\\Local\\Temp\\ipykernel_8972\\1113496485.py:3: FutureWarning: \n",
      "\n",
      "Passing `palette` without assigning `hue` is deprecated and will be removed in v0.14.0. Assign the `x` variable to `hue` and set `legend=False` for the same effect.\n",
      "\n",
      "  sns.boxplot(data=df_3, x='War Related', y='Movie box office revenue', palette='Set2')\n"
     ]
    },
    {
     "data": {
      "image/png": "[encoded data removed]",
      "text/plain": [
       "<Figure size 1000x600 with 1 Axes>"
      ]
     },
     "metadata": {},
     "output_type": "display_data"
    }
   ],
   "source": [
    "# Create box plot\n",
    "plt.figure(figsize=(10, 6))\n",
    "sns.boxplot(data=df_3, x='War Related', y='Movie box office revenue', palette='Set2')\n",
    "plt.yscale('log')  # Use log scale to handle outliers\n",
    "plt.title('Box Office Revenue: War Movies vs All Movies', fontsize=16)\n",
    "plt.xlabel('Movie Type', fontsize=14)\n",
    "plt.ylabel('Box Office Revenue (Log Scale)', fontsize=14)\n",
    "plt.grid(alpha=0.5)\n",
    "plt.tight_layout()\n",
    "plt.show()"
   ]
  },
  {
   "cell_type": "code",
   "execution_count": null,
   "id": "c1e7e0e8-42f3-4f25-8237-99f10daee47e",
   "metadata": {},
   "outputs": [],
   "source": [
    "# Step 2: Initialize a dictionary to store genre counts over time\n",
    "genre_trends = {genre: [] for genre in war_genres}\n",
    "years = sorted(war_movies['Movie release year'].unique())\n",
    "\n",
    "# Step 3: Count occurrences of each war genre for each year\n",
    "for year in years:\n",
    "    # Filter war movies for the current year\n",
    "    movies_in_year = war_movies[war_movies['Movie release year'] == year]\n",
    "    \n",
    "    # Flatten the genre list for the year and count war-related genres\n",
    "    genres_in_year = [\n",
    "        genre for genres in movies_in_year['Movie genres'] for genre in genres if genre in war_genres\n",
    "    ]\n",
    "    year_counts = Counter(genres_in_year)\n",
    "    \n",
    "    # Store counts for each genre\n",
    "    for genre in war_genres:\n",
    "        genre_trends[genre].append(year_counts.get(genre, 0))\n",
    "\n",
    "# Step 4: Create a DataFrame for visualization\n",
    "genre_trends_df = pd.DataFrame(genre_trends, index=years)\n",
    "\n",
    "# Step 5: Create an interactive stacked area chart with Plotly\n",
    "fig = go.Figure()\n",
    "\n",
    "# Add each genre as a trace\n",
    "for genre in war_genres:\n",
    "    fig.add_trace(go.Scatter(\n",
    "        x=genre_trends_df.index,\n",
    "        y=genre_trends_df[genre],\n",
    "        mode='lines',\n",
    "        stackgroup='one',  # Stacked area chart\n",
    "        name=genre\n",
    "    ))\n",
    "\n",
    "# Customize layout\n",
    "fig.update_layout(\n",
    "    title='Interactive Repartition of War Genres Over Time',\n",
    "    xaxis=dict(title='Release Year'),\n",
    "    yaxis=dict(title='Number of Movies'),\n",
    "    legend=dict(title='War Genres'),\n",
    "    hovermode='x unified',\n",
    "    template='plotly_white'\n",
    ")\n",
    "\n",
    "# Show the interactive plot\n",
    "fig.show()"
   ]
  },
  {
   "cell_type": "code",
   "execution_count": null,
   "id": "282aeaec-5bde-4710-b57a-42c3fcdc8151",
   "metadata": {},
   "outputs": [],
   "source": [
    "#Hero-related movies\n",
    "\n",
    "# List of genres related to LGBT themes\n",
    "hero_genres = [\n",
    "    'Superhero', 'Superhero movie'\n",
    "]\n",
    "\n",
    "hero_movies = df_3[df_3['Movie genres'].apply(lambda genres: any(g in genres for g in hero_genres))]\n",
    "\n",
    "hero_movies.info()"
   ]
  },
  {
   "cell_type": "code",
   "execution_count": null,
   "id": "3adc5334-9616-4499-9d85-c97dbfea2b8c",
   "metadata": {},
   "outputs": [],
   "source": [
    "# Group by release year and count movies\n",
    "heros_per_year = hero_movies.groupby('Movie release year').size()\n",
    "\n",
    "# Plot the data\n",
    "plt.figure(figsize=(10, 6))\n",
    "plt.plot(heros_per_year.index, heros_per_year.values, linestyle='-', color='purple')\n",
    "plt.title('Number of Superhero Movies Over Time', fontsize=16)\n",
    "plt.xlabel('Release Year', fontsize=14)\n",
    "plt.ylabel('Number of Movies', fontsize=14)\n",
    "plt.xlim(1970, 2010)\n",
    "plt.grid(alpha=0.5)\n",
    "plt.tight_layout()\n",
    "plt.show()"
   ]
  },
  {
   "cell_type": "code",
   "execution_count": null,
   "id": "d5095082-da4f-404b-8652-2b5113ccefcd",
   "metadata": {},
   "outputs": [],
   "source": [
    "war_no_hero_movies = df_3[df_3['Movie genres'].apply(\n",
    "    lambda genres: any(g in genres for g in war_genres) and not any(g in genres for g in hero_genres))\n",
    "]\n",
    "\n",
    "war_no_hero_movies.info()"
   ]
  },
  {
   "cell_type": "code",
   "execution_count": null,
   "id": "38d01e27-f738-4ee9-a81c-193e3f607a49",
   "metadata": {},
   "outputs": [],
   "source": [
    "# Group by release year and count movies\n",
    "war_no_hero_per_year = war_no_hero_movies.groupby('Movie release year').size()\n",
    "\n",
    "# Plot the data\n",
    "plt.figure(figsize=(10, 6))\n",
    "plt.plot(war_no_hero_per_year.index, war_no_hero_per_year.values, linestyle='-', color='purple')\n",
    "plt.title('Number of War Movies without Superhero Over Time', fontsize=16)\n",
    "plt.xlabel('Release Year', fontsize=14)\n",
    "plt.ylabel('Number of Movies', fontsize=14)\n",
    "plt.xlim(1920, 2010)\n",
    "plt.grid(alpha=0.5)\n",
    "plt.tight_layout()\n",
    "plt.show()"
   ]
  },
  {
   "cell_type": "code",
   "execution_count": null,
   "id": "f8da5b66-26db-44fa-b48d-5b7c4eeed3d6",
   "metadata": {},
   "outputs": [],
   "source": [
    "# Check theme distribution\n",
    "war_no_hero_theme_counts = war_no_hero_movies['Corrected_Theme'].value_counts()\n",
    "\n",
    "# Plot the most common themes\n",
    "war_no_hero_theme_counts.head(10).plot(kind='bar', color='green', figsize=(10, 6))\n",
    "plt.title('Most Common Themes in War-Related Movies', fontsize=16)\n",
    "plt.xlabel('Themes', fontsize=14)\n",
    "plt.ylabel('Frequency', fontsize=14)\n",
    "plt.xticks(rotation=45)\n",
    "plt.tight_layout()\n",
    "plt.show()"
   ]
  },
  {
   "cell_type": "code",
   "execution_count": null,
   "id": "4678c7d3-6905-477f-b402-330cbe1ac3e9",
   "metadata": {},
   "outputs": [],
   "source": [
    "# Combine data into a single DataFrame for easier plotting\n",
    "box_office_data = [\n",
    "    (lgbt_movies['Movie box office revenue'].dropna(), 'LGBT'),\n",
    "    (war_movies['Movie box office revenue'].dropna(), 'War'),\n",
    "    (hero_movies['Movie box office revenue'].dropna(), 'Superhero')\n",
    "]\n",
    "\n",
    "# Create a DataFrame for plotting\n",
    "box_office_df = pd.concat([pd.DataFrame({'Revenue': data[0], 'Category': data[1]}) for data in box_office_data])\n",
    "\n",
    "# Plot violin plot\n",
    "plt.figure(figsize=(12, 6))\n",
    "sns.violinplot(x='Revenue', y='Category', data=box_office_df, palette='muted')\n",
    "plt.title('Box Office Revenue Distribution by Category', fontsize=16)\n",
    "plt.xlabel('Revenue (USD)', fontsize=14)\n",
    "plt.ylabel('Category', fontsize=14)\n",
    "plt.tight_layout()\n",
    "plt.show()"
   ]
  },
  {
   "cell_type": "code",
   "execution_count": null,
   "id": "696171c9-559f-496c-842a-5042633ea50d",
   "metadata": {},
   "outputs": [],
   "source": [
    "# Plot histograms for each category\n",
    "plt.figure(figsize=(12, 6))\n",
    "sns.histplot(lgbt_movies['Movie box office revenue'].dropna(), label='LGBT', color='purple', kde=True, bins=30)\n",
    "sns.histplot(war_movies['Movie box office revenue'].dropna(), label='War', color='blue', kde=True, bins=30)\n",
    "sns.histplot(hero_movies['Movie box office revenue'].dropna(), label='Superhero', color='green', kde=True, bins=30)\n",
    "plt.title('Box Office Revenue Distribution by Category', fontsize=16)\n",
    "plt.xlabel('Revenue (USD)', fontsize=14)\n",
    "plt.ylabel('Frequency', fontsize=14)\n",
    "plt.legend()\n",
    "plt.tight_layout()\n",
    "plt.show()\n"
   ]
  },
  {
   "cell_type": "code",
   "execution_count": null,
   "id": "89c393c5-3da0-475c-9be2-2fb994853bf3",
   "metadata": {},
   "outputs": [],
   "source": [
    "# Calculate mean revenues\n",
    "mean_revenues = {\n",
    "    #'LGBT': lgbt_movies['Movie box office revenue'].mean(),\n",
    "    'War': war_movies['Movie box office revenue'].mean(),\n",
    "    'Superhero': hero_movies['Movie box office revenue'].mean()\n",
    "}\n",
    "\n",
    "# Plot bar chart\n",
    "plt.figure(figsize=(10, 6))\n",
    "plt.bar(list(mean_revenues.keys()), list(mean_revenues.values()), color=['blue', 'green'])\n",
    "plt.title('Mean Box Office Revenue by Category', fontsize=16)\n",
    "plt.xlabel('Category', fontsize=14)\n",
    "plt.ylabel('Mean Revenue (USD)', fontsize=14)\n",
    "plt.tight_layout()\n",
    "plt.show()\n",
    "\n"
   ]
  },
  {
   "cell_type": "code",
   "execution_count": null,
   "id": "b4af1a1e-6ccf-4350-b0fb-f646212c03bd",
   "metadata": {},
   "outputs": [],
   "source": [
    "plt.figure(figsize=(12, 6))\n",
    "#plt.scatter(lgbt_movies['Movie release year'], lgbt_movies['Movie box office revenue'], color='purple', label='LGBT', alpha=0.6)\n",
    "plt.scatter(war_movies['Movie release year'], war_movies['Movie box office revenue'], color='blue', label='War', alpha=0.6)\n",
    "plt.scatter(hero_movies['Movie release year'], hero_movies['Movie box office revenue'], color='green', label='Superhero', alpha=0.6)\n",
    "plt.title('Box Office Revenue vs. Release Year', fontsize=16)\n",
    "plt.xlabel('Release Year', fontsize=14)\n",
    "plt.ylabel('Revenue (USD)', fontsize=14)\n",
    "plt.legend()\n",
    "plt.grid(alpha=0.5)\n",
    "plt.tight_layout()\n",
    "plt.show()\n"
   ]
  },
  {
   "cell_type": "code",
   "execution_count": null,
   "id": "96f03ef1-8269-4d4c-a698-425a58bb8abd",
   "metadata": {},
   "outputs": [],
   "source": [
    "# Prepare box office data for the subsets\n",
    "box_office_data = [\n",
    "    #lgbt_movies['Movie box office revenue'].dropna().values,\n",
    "    war_movies['Movie box office revenue'].dropna().values,\n",
    "    hero_movies['Movie box office revenue'].dropna().values\n",
    "]\n",
    "\n",
    "# Ensure all data is numeric and non-empty\n",
    "filtered_data = [data for data in box_office_data if len(data) > 0]\n",
    "labels = [ 'War', 'Superhero'][:len(filtered_data)]  # Adjust labels dynamically\n",
    "\n",
    "# Plot boxplot\n",
    "plt.figure(figsize=(12, 6))\n",
    "sns.boxplot(data=filtered_data, orient='h', palette='Set2')\n",
    "plt.yticks(range(len(labels)), labels)  # Dynamically adjust labels\n",
    "plt.title('Box Office Revenue Comparison', fontsize=16)\n",
    "plt.xlabel('Revenue (USD)', fontsize=14)\n",
    "plt.tight_layout()\n",
    "plt.show()\n"
   ]
  },
  {
   "cell_type": "markdown",
   "id": "e4d59b7d-89c3-4aff-afb6-ae1bc166b285",
   "metadata": {},
   "source": [
    "Exploratory analysis\n"
   ]
  },
  {
   "cell_type": "code",
   "execution_count": null,
   "id": "142aebe4-ac69-4039-8ff8-25cc4d913856",
   "metadata": {},
   "outputs": [],
   "source": [
    "# Check theme distribution\n",
    "lgbt_theme_counts = lgbt_movies['Corrected_Theme'].value_counts()\n",
    "\n",
    "# Plot the most common themes\n",
    "lgbt_theme_counts.head(10).plot(kind='bar', color='green', figsize=(10, 6))\n",
    "plt.title('Most Common Themes in LGBT-Related Movies', fontsize=16)\n",
    "plt.xlabel('Themes', fontsize=14)\n",
    "plt.ylabel('Frequency', fontsize=14)\n",
    "plt.xticks(rotation=45)\n",
    "plt.tight_layout()\n",
    "plt.show()"
   ]
  },
  {
   "cell_type": "code",
   "execution_count": null,
   "id": "9337a18a-f39a-43c2-b89d-27c98a3c7edb",
   "metadata": {},
   "outputs": [],
   "source": [
    "from scipy.stats import f_oneway, ttest_ind\n",
    "\n",
    "# Compare average box office revenue across subsets\n",
    "anova_result = f_oneway(\n",
    "    lgbt_movies['Movie box office revenue'].dropna(),\n",
    "    war_movies['Movie box office revenue'].dropna(),\n",
    "    hero_movies['Movie box office revenue'].dropna()\n",
    ")\n",
    "print(f\"ANOVA result (p-value): {anova_result.pvalue}\")\n",
    "\n",
    "# Pairwise t-test between LGBT and superhero movies\n",
    "t_test_result = ttest_ind(\n",
    "    lgbt_movies['Movie box office revenue'].dropna(),\n",
    "    hero_movies['Movie box office revenue'].dropna()\n",
    ")\n",
    "print(f\"T-test result (p-value): {t_test_result.pvalue}\")\n"
   ]
  },
  {
   "cell_type": "code",
   "execution_count": null,
   "id": "3df03e1b-4042-4c39-8546-55eb1c695184",
   "metadata": {},
   "outputs": [],
   "source": [
    "# Heatmap of average sentiment vs box office revenue\n",
    "sentiment_revenue = df_3.groupby('Sentiment')['Movie box office revenue'].mean()\n",
    "\n",
    "plt.figure(figsize=(8, 5))\n",
    "sns.barplot(x=sentiment_revenue.index, y=sentiment_revenue.values, palette='coolwarm')\n",
    "plt.title('Average Box Office Revenue by Sentiment', fontsize=16)\n",
    "plt.xlabel('Sentiment', fontsize=14)\n",
    "plt.ylabel('Average Revenue', fontsize=14)\n",
    "plt.tight_layout()\n",
    "plt.show()\n"
   ]
  },
  {
   "cell_type": "code",
   "execution_count": null,
   "id": "cca3fcb5-536e-4d14-899d-083337d44e95",
   "metadata": {},
   "outputs": [],
   "source": [
    "# Check for missing or zero ratings in the 'vote_average' column\n",
    "print(lgbt_movies['vote_average'].isna().sum())  # Count of missing values\n",
    "print((lgbt_movies['vote_average'] == 0).sum())  # Count of zero ratings\n",
    "\n",
    "# Filter out rows with missing or zero ratings\n",
    "lgbt_movies_filtered = lgbt_movies[(lgbt_movies['vote_average'] > 0) & (lgbt_movies['vote_average'].notna())]"
   ]
  },
  {
   "cell_type": "code",
   "execution_count": null,
   "id": "77414f46-ce4d-4f82-ad3e-a9ddf270d758",
   "metadata": {},
   "outputs": [],
   "source": [
    "# Group by release year and calculate mean box office revenue and ratings\n",
    "lgbt_success_over_time = lgbt_movies_filtered.groupby('Movie release year').agg(\n",
    "    avg_revenue=('Movie box office revenue', 'mean'),\n",
    "    avg_rating=('vote_average', 'mean')\n",
    ").reset_index()\n",
    "\n",
    "# Plot average box office revenue and ratings over time\n",
    "plt.figure(figsize=(12, 6))\n",
    "\n",
    "# Plotting average revenue\n",
    "plt.plot(lgbt_success_over_time['Movie release year'], lgbt_success_over_time['avg_revenue'], label='Average Box Office Revenue', color='purple')\n",
    "\n",
    "# Plotting average ratings\n",
    "plt.plot(lgbt_success_over_time['Movie release year'], lgbt_success_over_time['avg_rating'], label='Average Viewer Rating', color='blue')\n",
    "\n",
    "# Titles and labels\n",
    "plt.title('LGBT Movies Success Over Time', fontsize=16)\n",
    "plt.xlabel('Release Year', fontsize=14)\n",
    "plt.ylabel('Average Value', fontsize=14)\n",
    "\n",
    "# Add legend\n",
    "plt.legend()\n",
    "\n",
    "# Grid for better readability\n",
    "plt.grid(alpha=0.5)\n",
    "\n",
    "# Display the plot\n",
    "plt.tight_layout()\n",
    "plt.show()\n"
   ]
  },
  {
   "cell_type": "code",
   "execution_count": null,
   "id": "ef7fb111-8ce4-4d11-9922-dba0e3ef8eb3",
   "metadata": {},
   "outputs": [],
   "source": [
    "lgbt_movies[lgbt_movies['Movie box office revenue'] > 200000000]"
   ]
  },
  {
   "cell_type": "code",
   "execution_count": null,
   "id": "f86d91d5-95ec-46c5-8c79-13fca4fb6b59",
   "metadata": {},
   "outputs": [],
   "source": [
    "# Flatten list of genres while excluding LGBT-related ones\n",
    "other_genres = lgbt_movies['Movie genres'].apply(eval).explode()\n",
    "non_lgbt_genres = other_genres[~other_genres.isin(lgbt_genres)]\n",
    "genre_counts = Counter(non_lgbt_genres)\n",
    "\n",
    "# Display the 10 most common genres associated with LGBT movies\n",
    "print(genre_counts.most_common(10))"
   ]
  },
  {
   "cell_type": "code",
   "execution_count": null,
   "id": "20414aee-04a5-4d4e-a873-dfbdf630b471",
   "metadata": {},
   "outputs": [],
   "source": [
    "# Step 1: Count theme frequencies\n",
    "theme_counts = lgbt_movies['Corrected_Theme'].value_counts()\n",
    "\n",
    "# Step 2: Display the top 10 themes\n",
    "print(theme_counts.head(10))\n"
   ]
  },
  {
   "cell_type": "code",
   "execution_count": null,
   "id": "1d2142dd-d4b2-427b-922c-5b9ab2e115f7",
   "metadata": {},
   "outputs": [],
   "source": [
    "# Step 1: Group by release year and sentiment, normalize to get proportions\n",
    "sentiment_over_time = lgbt_movies.groupby(['Movie release year', 'Sentiment']).size().unstack(fill_value=0)\n",
    "sentiment_proportions = sentiment_over_time.div(sentiment_over_time.sum(axis=1), axis=0)\n",
    "\n",
    "# Step 2: Create the stacked area plot\n",
    "plt.figure(figsize=(12, 6))\n",
    "plt.stackplot(\n",
    "    sentiment_proportions.index,  # Years\n",
    "    sentiment_proportions['positive'], \n",
    "    sentiment_proportions['neutral'], \n",
    "    sentiment_proportions['negative'], \n",
    "    labels=['Positive', 'Neutral', 'Negative'], \n",
    "    colors=['green', 'gray', 'red']\n",
    ")\n",
    "\n",
    "# Add titles and labels\n",
    "plt.title('Sentiment Proportions in LGBT Movies Over Time', fontsize=16)\n",
    "plt.xlabel('Release Year', fontsize=14)\n",
    "plt.ylabel('Proportion', fontsize=14)\n",
    "plt.legend(loc='upper left')\n",
    "plt.grid(alpha=0.5)\n",
    "plt.tight_layout()\n",
    "plt.show()\n"
   ]
  },
  {
   "cell_type": "code",
   "execution_count": null,
   "id": "c7aad30e-0b7e-4cab-953e-d11f9fed0c1c",
   "metadata": {},
   "outputs": [],
   "source": [
    "# Step 2: Create the stacked bar chart\n",
    "plt.figure(figsize=(12, 6))\n",
    "\n",
    "# Create stacked bars\n",
    "bar_width = 0.8\n",
    "years = sentiment_proportions.index\n",
    "positive = sentiment_proportions['positive']\n",
    "neutral = sentiment_proportions['neutral']\n",
    "negative = sentiment_proportions['negative']\n",
    "\n",
    "plt.bar(years, positive, label='Positive', color='green', width=bar_width)\n",
    "plt.bar(years, neutral, bottom=positive, label='Neutral', color='gray', width=bar_width)\n",
    "plt.bar(years, negative, bottom=positive + neutral, label='Negative', color='red', width=bar_width)\n",
    "\n",
    "# Add titles and labels\n",
    "plt.title('Sentiment Proportions in LGBT Movies Over Time', fontsize=16)\n",
    "plt.xlabel('Release Year', fontsize=14)\n",
    "plt.ylabel('Proportion', fontsize=14)\n",
    "plt.legend(loc='upper left')\n",
    "plt.grid(alpha=0.5)\n",
    "plt.tight_layout()\n",
    "plt.show()"
   ]
  },
  {
   "cell_type": "code",
   "execution_count": null,
   "id": "cb5c3ae1-1985-451b-82eb-ab723b566b6e",
   "metadata": {},
   "outputs": [],
   "source": [
    "# Count the total number of movies per year\n",
    "lgbt_movies_per_year = lgbt_movies.groupby('Movie release year').size()"
   ]
  },
  {
   "cell_type": "code",
   "execution_count": null,
   "id": "aff92336-afb3-4847-8900-48ef25ce3b65",
   "metadata": {},
   "outputs": [],
   "source": [
    "fig, ax1 = plt.subplots(figsize=(12, 6))\n",
    "\n",
    "# Primary plot: Stacked area for sentiment proportions\n",
    "ax1.stackplot(\n",
    "    sentiment_proportions.index, \n",
    "    sentiment_proportions['positive'], \n",
    "    sentiment_proportions['neutral'], \n",
    "    sentiment_proportions['negative'], \n",
    "    labels=['Positive', 'Neutral', 'Negative'], \n",
    "    colors=['green', 'gray', 'red']\n",
    ")\n",
    "ax1.set_xlabel('Release Year', fontsize=14)\n",
    "ax1.set_ylabel('Proportion', fontsize=14)\n",
    "ax1.set_title('Sentiment Proportions in LGBT Movies Over Time', fontsize=16)\n",
    "ax1.legend(loc='upper left')\n",
    "ax1.grid(alpha=0.5)\n",
    "\n",
    "# Secondary y-axis: Number of movies per year\n",
    "ax2 = ax1.twinx()\n",
    "ax2.plot(movies_per_year.index, movies_per_year.values, color='blue', label='Number of Movies')\n",
    "ax2.set_ylabel('Number of Movies', fontsize=14)\n",
    "ax2.legend(loc='upper right')\n",
    "\n",
    "plt.tight_layout()\n",
    "plt.show()\n"
   ]
  },
  {
   "cell_type": "code",
   "execution_count": null,
   "id": "fb0634a8-40d9-416b-86a1-123f719010d1",
   "metadata": {},
   "outputs": [],
   "source": [
    "# Highlight years with low movie counts\n",
    "low_data_threshold = 5\n",
    "limited_data_years = movies_per_year[movies_per_year < low_data_threshold].index\n",
    "print(f\"Years with limited data: {limited_data_years.tolist()}\")\n"
   ]
  },
  {
   "cell_type": "code",
   "execution_count": null,
   "id": "e63390c1-945a-470f-b89a-3566c093c1ea",
   "metadata": {},
   "outputs": [],
   "source": [
    "# Calculate standard deviation for error bars\n",
    "sentiment_std = lgbt_movies.groupby(['Movie release year', 'Sentiment']).size().unstack(fill_value=0).std(axis=1)\n",
    "\n",
    "# Example: Adding error bars to a bar chart\n",
    "plt.bar(\n",
    "    sentiment_proportions.index, \n",
    "    sentiment_proportions['positive'], \n",
    "    yerr=sentiment_std, \n",
    "    label='Positive', \n",
    "    color='green'\n",
    ")"
   ]
  },
  {
   "cell_type": "code",
   "execution_count": null,
   "id": "b528297a-9002-4bbe-a1ba-74dcae752386",
   "metadata": {},
   "outputs": [],
   "source": [
    "sentiment_proportions.reset_index().plot.scatter(x='Movie release year', y='positive', c='green', label='Positive')\n"
   ]
  },
  {
   "cell_type": "markdown",
   "id": "65b4350d-2a1f-48d1-bc7a-d7b754f9763d",
   "metadata": {},
   "source": [
    "**War movies**"
   ]
  },
  {
   "cell_type": "code",
   "execution_count": null,
   "id": "6c6df73c-100d-4ea4-b632-68d239556272",
   "metadata": {},
   "outputs": [],
   "source": [
    "print(f\"Number of War Movies: {len(war_movies)}\")\n",
    "war_movies.info()"
   ]
  },
  {
   "cell_type": "code",
   "execution_count": null,
   "id": "e874bc8a-fde8-4442-8ec5-afda044d54d1",
   "metadata": {},
   "outputs": [],
   "source": [
    "# Summary statistics for box office revenue and viewer ratings\n",
    "print(war_movies[['Movie box office revenue', 'vote_average']].describe())\n",
    "\n",
    "# Check for missing values\n",
    "print(war_movies.isna().sum())"
   ]
  },
  {
   "cell_type": "code",
   "execution_count": null,
   "id": "d1a2c120-dbff-4256-adbc-2da75ba9b752",
   "metadata": {},
   "outputs": [],
   "source": [
    "# Group by release year\n",
    "war_movies_trends = war_movies.groupby('Movie release year').agg(\n",
    "    num_movies=('Movie name', 'count'),\n",
    "    avg_revenue=('Movie box office revenue', 'mean'),\n",
    "    avg_rating=('vote_average', 'mean')\n",
    ").reset_index()\n",
    "\n",
    "# Display the first few rows\n",
    "print(war_movies_trends.head())\n"
   ]
  },
  {
   "cell_type": "code",
   "execution_count": null,
   "id": "92cb4628-efe6-4e7d-83bc-19647b8a3266",
   "metadata": {},
   "outputs": [],
   "source": [
    "# Split genres and count occurrences of non-war genres\n",
    "from collections import Counter\n",
    "\n",
    "# Flatten the list of genres while excluding war-related genres\n",
    "other_genres = war_movies['Movie genres'].apply(eval).explode()\n",
    "non_war_genres = other_genres[~other_genres.isin(war_genres)]\n",
    "genre_counts = Counter(non_war_genres)\n",
    "\n",
    "# Display the top 10 most common genres\n",
    "print(genre_counts.most_common(10))\n"
   ]
  },
  {
   "cell_type": "code",
   "execution_count": null,
   "id": "bc4443c2-8f00-4d22-94e8-35a3489748c3",
   "metadata": {},
   "outputs": [],
   "source": [
    "# Count theme occurrences\n",
    "war_theme_counts = war_movies['Corrected_Theme'].value_counts()\n",
    "\n",
    "# Display the top 10 themes\n",
    "print(war_theme_counts.head(10))\n"
   ]
  },
  {
   "cell_type": "code",
   "execution_count": null,
   "id": "480f5b3f-40f5-4f9d-9b95-475c387fe9ee",
   "metadata": {},
   "outputs": [],
   "source": [
    "# Group by sentiment and count occurrences\n",
    "sentiment_counts = war_movies['Sentiment'].value_counts()\n",
    "\n",
    "# Display the sentiment counts\n",
    "print(sentiment_counts)\n"
   ]
  },
  {
   "cell_type": "code",
   "execution_count": null,
   "id": "37a20760-e851-40df-b7d5-aebd0764beac",
   "metadata": {},
   "outputs": [],
   "source": [
    "# Define a function to assign historical periods\n",
    "def assign_historical_period(year):\n",
    "    if year < 1914:\n",
    "        return 'Pre-WWI'\n",
    "    elif 1914 <= year <= 1939:\n",
    "        return 'WWI and Interwar'\n",
    "    elif 1939 <= year <= 1955:\n",
    "        return 'WWII and Post-War'\n",
    "    elif 1955 <= year <= 1990:\n",
    "        return 'Vietnam War and Cold War'\n",
    "    else:\n",
    "        return 'Post-Cold War'\n",
    "\n",
    "# Apply the function to the release year column\n",
    "war_movies['Historical Period'] = war_movies['Movie release year'].apply(assign_historical_period)\n",
    "\n",
    "# Verify the distribution of movies across periods\n",
    "print(war_movies['Historical Period'].value_counts())\n"
   ]
  },
  {
   "cell_type": "code",
   "execution_count": null,
   "id": "919345de-c749-41c5-9cfa-974e372fbffb",
   "metadata": {},
   "outputs": [],
   "source": [
    "# Group by historical period and theme\n",
    "themes_by_period = war_movies.groupby(['Historical Period', 'Corrected_Theme']).size().unstack(fill_value=0)\n",
    "\n",
    "# Display the top themes for each period\n",
    "print(themes_by_period.head())\n"
   ]
  },
  {
   "cell_type": "code",
   "execution_count": null,
   "id": "802baf9f-02b6-4715-8040-ff73033afbfe",
   "metadata": {},
   "outputs": [],
   "source": [
    "# Top 5 themes for each historical period\n",
    "for period in themes_by_period.index:\n",
    "    top_themes = themes_by_period.loc[period].sort_values(ascending=False).head(5)\n",
    "    print(f\"Top themes in {period}:\")\n",
    "    print(top_themes)\n",
    "    print()\n"
   ]
  },
  {
   "cell_type": "code",
   "execution_count": null,
   "id": "3c1b5592-1a57-4a12-9941-90c8ddad447b",
   "metadata": {},
   "outputs": [],
   "source": [
    "# Select top themes (e.g., top 10 overall themes)\n",
    "top_themes = war_movies['Corrected_Theme'].value_counts().head(10).index\n",
    "themes_by_period_filtered = themes_by_period[top_themes]\n",
    "\n",
    "# Plot a stacked bar chart\n",
    "themes_by_period_filtered.plot(kind='bar', stacked=True, figsize=(12, 6), colormap='tab20')\n",
    "plt.title('Themes in War Movies Across Historical Periods', fontsize=16)\n",
    "plt.xlabel('Historical Period', fontsize=14)\n",
    "plt.ylabel('Number of Movies', fontsize=14)\n",
    "plt.legend(title='Theme', bbox_to_anchor=(1.05, 1), loc='upper left')\n",
    "plt.tight_layout()\n",
    "plt.show()"
   ]
  },
  {
   "cell_type": "code",
   "execution_count": null,
   "id": "9f677812-66b4-4b2d-93b0-29d751116a25",
   "metadata": {},
   "outputs": [],
   "source": [
    "# Normalize the counts to show proportions\n",
    "themes_by_period_normalized = themes_by_period.div(themes_by_period.sum(axis=1), axis=0)\n",
    "\n",
    "# Plot a heatmap\n",
    "plt.figure(figsize=(12, 6))\n",
    "sns.heatmap(themes_by_period_normalized[top_themes], annot=True, fmt='.2f', cmap='Blues', cbar_kws={'label': 'Proportion'})\n",
    "plt.title('Theme Proportions in War Movies Across Historical Periods', fontsize=16)\n",
    "plt.xlabel('Theme', fontsize=14)\n",
    "plt.ylabel('Historical Period', fontsize=14)\n",
    "plt.tight_layout()\n",
    "plt.show()"
   ]
  },
  {
   "cell_type": "markdown",
   "id": "f6d0547d-e615-40ab-b137-e641d894d95e",
   "metadata": {},
   "source": [
    "**Matched study**"
   ]
  },
  {
   "cell_type": "code",
   "execution_count": 25,
   "id": "7ebd12c7-4848-4d6a-9600-aa28e93c646f",
   "metadata": {},
   "outputs": [
    {
     "name": "stdout",
     "output_type": "stream",
     "text": [
      "Number of movies after dropping missing budgets: 5947\n"
     ]
    }
   ],
   "source": [
    "# Drop rows with missing budget data\n",
    "df_3 = df_3.dropna(subset=['budget'])\n",
    "\n",
    "# Verification: Check the number of remaining movies\n",
    "print(f\"Number of movies after dropping missing budgets: {len(df_3)}\")"
   ]
  },
  {
   "cell_type": "code",
   "execution_count": 26,
   "id": "56f53f3e-3e1b-4cdb-9434-8cd47ed319ae",
   "metadata": {},
   "outputs": [
    {
     "name": "stdout",
     "output_type": "stream",
     "text": [
      "Sample of one-hot encoded 'Movie countries':\n",
      "                           Absurdism  Acid western  Action  Action Comedy  \\\n",
      "Wikipedia movie ID                                                          \n",
      "3217                False      False         False    True          False   \n",
      "3746                False      False         False   False          False   \n",
      "3837                False      False         False   False          False   \n",
      "\n",
      "                    Action Thrillers  Action/Adventure  Addiction Drama  \\\n",
      "Wikipedia movie ID                                                        \n",
      "3217                           False              True            False   \n",
      "3746                           False             False            False   \n",
      "3837                           False             False            False   \n",
      "\n",
      "                    Adult  Adventure  ...  Vampire movies  War film  \\\n",
      "Wikipedia movie ID                    ...                             \n",
      "3217                False      False  ...           False     False   \n",
      "3746                False      False  ...           False     False   \n",
      "3837                False      False  ...           False     False   \n",
      "\n",
      "                    Werewolf fiction  Western  Whodunit  \\\n",
      "Wikipedia movie ID                                        \n",
      "3217                           False    False     False   \n",
      "3746                           False    False     False   \n",
      "3837                           False     True     False   \n",
      "\n",
      "                    Women in prison films  Workplace Comedy  World cinema  \\\n",
      "Wikipedia movie ID                                                          \n",
      "3217                                False             False         False   \n",
      "3746                                False             False         False   \n",
      "3837                                False             False         False   \n",
      "\n",
      "                    Wuxia  Zombie Film  \n",
      "Wikipedia movie ID                      \n",
      "3217                False         True  \n",
      "3746                False        False  \n",
      "3837                False        False  \n",
      "\n",
      "[3 rows x 305 columns]\n",
      "\n",
      "Shape of dataset after encoding countries: (5947, 407)\n"
     ]
    }
   ],
   "source": [
    "# One-hot encode 'Movie countries'\n",
    "df_encoded_countries = pd.get_dummies(df_3['Movie countries'].explode()).groupby(level=0).max()\n",
    "\n",
    "# Add the encoded countries back to the dataset\n",
    "df_3 = pd.concat([df_3, df_encoded_countries], axis=1)\n",
    "\n",
    "# One-hot encode 'Movie genres'\n",
    "df_encoded_genres = pd.get_dummies(df_3['Movie genres'].explode()).groupby(level=0).max()\n",
    "\n",
    "# Add encoded genres back to the dataset\n",
    "df_3 = pd.concat([df_3, df_encoded_genres], axis=1)\n",
    "\n",
    "# Verification: Check the columns added for one-hot encoding\n",
    "print(\"Sample of one-hot encoded 'Movie countries':\")\n",
    "print(df_encoded_genres.head(3))\n",
    "\n",
    "# Verification: Confirm the shape of the dataset after adding new columns\n",
    "print(\"\\nShape of dataset after encoding countries:\", df_3.shape)"
   ]
  },
  {
   "cell_type": "code",
   "execution_count": 27,
   "id": "0a6d3eb2-cd26-4c50-bf27-4e1edd8fd905",
   "metadata": {},
   "outputs": [
    {
     "name": "stdout",
     "output_type": "stream",
     "text": [
      "Total columns: 407\n",
      "['Movie name', 'Movie release year', 'Movie box office revenue', 'Movie countries', 'Movie genres', 'Summary', 'Sentiment', 'vote_average', 'budget', 'decade', 'Corrected_Theme', '', 'Algeria', 'Argentina', 'Aruba', 'Australia', 'Austria', 'Bahamas', 'Belgium', 'Brazil', 'Bulgaria', 'Burkina Faso', 'Canada', 'Chile', 'China', 'Colombia', 'Costa Rica', 'Czech Republic', 'Denmark', 'Egypt', 'England', 'Estonia', 'Finland', 'France', 'Germany', 'Greece', 'Hong Kong', 'Hungary', 'Iceland', 'India', 'Indonesia', 'Iran', 'Ireland', 'Isle of Man', 'Israel', 'Italy', 'Japan', 'Kingdom of Great Britain', 'Kingdom of Italy', 'Korea', 'Lebanon', 'Libya', 'Luxembourg', 'Malaysia', 'Mali', 'Malta', 'Mandatory Palestine', 'Mexico', 'Monaco', 'Morocco', 'Netherlands', 'New Zealand', 'Nigeria', 'Norway', 'Pakistan', 'Palestinian territories', 'Panama', 'Peru', 'Philippines', 'Poland', 'Portugal', 'Qatar', 'Romania', 'Russia', 'Scotland', 'Serbia', 'Serbia and Montenegro', 'Singapore', 'Slovak Republic', 'Slovakia', 'Slovenia', 'Socialist Federal Republic of Yugoslavia', 'South Africa', 'South Korea', 'Soviet Union', 'Spain', 'Sweden', 'Switzerland', 'Taiwan', 'Thailand', 'Tunisia', 'Turkey', 'Ukraine', 'United Arab Emirates', 'United Kingdom', 'United States of America', 'Uruguay', 'Vietnam', 'Weimar Republic', 'West Germany', 'Yugoslavia', 'Zimbabwe', '', 'Absurdism', 'Acid western', 'Action', 'Action Comedy', 'Action Thrillers', 'Action/Adventure', 'Addiction Drama', 'Adult', 'Adventure', 'Adventure Comedy', 'Airplanes and airports', 'Albino bias', 'Alien Film', 'Alien invasion', 'Americana', 'Animal Picture', 'Animals', 'Animated Musical', 'Animated cartoon', 'Animation', 'Anime', 'Anthology', 'Anthropology', 'Anti-war', 'Anti-war film', 'Apocalyptic and post-apocalyptic fiction', 'Archives and records', 'Art film', 'Auto racing', 'Avant-garde', 'B-movie', 'Backstage Musical', 'Baseball', 'Beach Film', 'Biker Film', 'Biographical film', 'Biography', 'Biopic [feature]', 'Black comedy', 'Black-and-white', 'Blaxploitation', 'Bloopers & Candid Camera', 'Bollywood', 'Boxing', 'British Empire Film', 'British New Wave', 'Buddy cop', 'Buddy film', 'Business', 'Camp', 'Caper story', 'Cavalry Film', 'Chase Movie', 'Childhood Drama', \"Children's\", \"Children's Fantasy\", \"Children's/Family\", 'Chinese Movies', 'Christian film', 'Christmas movie', 'Clay animation', 'Cold War', 'Combat Films', 'Comedy', 'Comedy Thriller', 'Comedy Western', 'Comedy film', 'Comedy horror', 'Comedy of Errors', 'Comedy of manners', 'Comedy-drama', 'Coming of age', 'Coming-of-age film', 'Computer Animation', 'Concert film', 'Conspiracy fiction', 'Costume Adventure', 'Costume Horror', 'Costume drama', 'Courtroom Comedy', 'Courtroom Drama', 'Creature Film', 'Crime', 'Crime Comedy', 'Crime Drama', 'Crime Fiction', 'Crime Thriller', 'Cult', 'Culture & Society', 'Cyberpunk', 'Dance', 'Demonic child', 'Detective', 'Detective fiction', 'Disaster', 'Docudrama', 'Documentary', 'Dogme 95', 'Domestic Comedy', 'Doomsday film', 'Drama', 'Dystopia', 'Educational', 'Ensemble Film', 'Environmental Science', 'Epic', 'Epic Western', 'Erotic Drama', 'Erotic thriller', 'Erotica', 'Escape Film', 'Essay Film', 'Existentialism', 'Experimental film', 'Extreme Sports', 'Fairy tale', 'Family Drama', 'Family Film', 'Family-Oriented Adventure', 'Fantasy', 'Fantasy Adventure', 'Fantasy Comedy', 'Fantasy Drama', 'Female buddy film', 'Feminist Film', 'Fictional film', 'Filipino Movies', 'Film', 'Film & Television History', 'Film adaptation', 'Film clef', 'Film noir', 'Foreign legion', 'Future noir', 'Gangster Film', 'Gay', 'Gay Interest', 'Gay Themed', 'Giallo', 'Glamorized Spy Film', 'Goat gland', 'Gothic Film', 'Graphic & Applied Arts', 'Gross out', 'Gross-out film', 'Gulf War', 'Hagiography', 'Hardcore pornography', 'Haunted House Film', 'Heaven-Can-Wait Fantasies', 'Heavenly Comedy', 'Heist', 'Hip hop movies', 'Historical Documentaries', 'Historical Epic', 'Historical drama', 'Historical fiction', 'History', 'Holiday Film', 'Horror', 'Horror Comedy', 'Horse racing', 'Humour', 'Hybrid Western', 'Illnesses & Disabilities', 'Indian Western', 'Indie', 'Inspirational Drama', 'Inventions & Innovations', 'Japanese Movies', 'Jukebox musical', 'Jungle Film', 'Juvenile Delinquency Film', 'Kafkaesque', 'Kitchen sink realism', 'LGBT', 'Latino', 'Law & Crime', 'Legal drama', 'Libraries and librarians', 'Live action', 'Malayalam Cinema', 'Marriage Drama', 'Martial Arts Film', 'Master Criminal Films', 'Media Satire', 'Medical fiction', 'Melodrama', 'Mockumentary', 'Mondo film', 'Monster', 'Monster movie', 'Movies About Gladiators', 'Mumblecore', 'Music', 'Musical', 'Musical Drama', 'Musical comedy', 'Mystery', 'Mythological Fantasy', 'Natural disaster', 'Natural horror films', 'Nature', 'Neo-noir', 'New Hollywood', 'Ninja movie', 'Northern', 'Operetta', 'Outlaw', 'Outlaw biker film', 'Parkour in popular culture', 'Parody', 'Period Horror', 'Period piece', 'Plague', 'Point of view shot', 'Political cinema', 'Political drama', 'Political satire', 'Political thriller', 'Pornographic movie', 'Pornography', 'Pre-Code', 'Prison', 'Prison film', 'Private military company', 'Propaganda film', 'Psycho-biddy', 'Psychological horror', 'Psychological thriller', 'Punk rock', 'Reboot', 'Religious Film', 'Remake', 'Revisionist Fairy Tale', 'Revisionist Western', 'Road movie', 'Road-Horror', 'Roadshow theatrical release', 'Rockumentary', 'Romance Film', 'Romantic comedy', 'Romantic drama', 'Romantic fantasy', 'Samurai cinema', 'Satire', 'School story', 'Sci-Fi Adventure', 'Sci-Fi Horror', 'Sci-Fi Thriller', 'Science Fiction', 'Science fiction Western', 'Screwball comedy', 'Sex comedy', 'Sexploitation', 'Short Film', 'Silent film', 'Slapstick', 'Slasher', 'Slice of life story', 'Social issues', 'Social problem film', 'Softcore Porn', 'Space opera', 'Space western', 'Spaghetti Western', 'Splatter film', 'Sports', 'Spy', 'Stand-up comedy', 'Star vehicle', 'Steampunk', 'Stoner film', 'Stop motion', 'Superhero', 'Superhero movie', 'Supermarionation', 'Supernatural', 'Surrealism', 'Suspense', 'Swashbuckler films', 'Sword and Sandal', 'Sword and sorcery', 'Sword and sorcery films', 'Tamil cinema', 'Teen', 'Television movie', 'The Netherlands in World War II', 'Therimin music', 'Thriller', 'Time travel', 'Tollywood', 'Tragedy', 'Tragicomedy', 'Vampire movies', 'War film', 'Werewolf fiction', 'Western', 'Whodunit', 'Women in prison films', 'Workplace Comedy', 'World cinema', 'Wuxia', 'Zombie Film']\n"
     ]
    }
   ],
   "source": [
    "# Print all column names\n",
    "all_columns = df_3.columns.tolist()\n",
    "print(f\"Total columns: {len(all_columns)}\")\n",
    "print(all_columns)"
   ]
  },
  {
   "cell_type": "code",
   "execution_count": null,
   "id": "3e674d42-6b62-4aa4-94e3-c623516255ad",
   "metadata": {},
   "outputs": [],
   "source": [
    "# Select matching variables\n",
    "matching_vars = (\n",
    "    ['Movie release year', 'budget'] + \n",
    "    list(df_encoded_countries.columns) +  # Add country columns\n",
    "    list(df_encoded_genres.columns)       # Add genre columns\n",
    ")\n",
    "\n",
    "# Create a dataset with only the matching variables and the target column\n",
    "matching_data = df_3[matching_vars + ['War Related']]\n"
   ]
  },
  {
   "cell_type": "code",
   "execution_count": null,
   "id": "32d9cb64-e197-4c05-b5b5-60d8c30f2450",
   "metadata": {},
   "outputs": [],
   "source": [
    "# Separate features (X) and target (y)\n",
    "X = matching_data.drop(columns=['War Related'])\n",
    "y = matching_data['War Related']\n",
    "\n",
    "# Train logistic regression to compute propensity scores\n",
    "logreg = LogisticRegression(max_iter=1000)\n",
    "matching_data['propensity_score'] = logreg.fit(X, y).predict_proba(X)[:, 1]\n",
    "\n",
    "# Check the range of propensity scores\n",
    "print(matching_data['propensity_score'].describe())"
   ]
  },
  {
   "cell_type": "code",
   "execution_count": null,
   "id": "b5dc5477-89f7-4663-bb5d-fcfa9f9d76d0",
   "metadata": {},
   "outputs": [],
   "source": [
    "# Split the data into war-related (treated) and non-war (control) movies\n",
    "treated = matching_data[matching_data['War Related'] == 1]\n",
    "control = matching_data[matching_data['War Related'] == 0]\n",
    "\n",
    "# Perform nearest neighbor matching\n",
    "nn = NearestNeighbors(n_neighbors=1)\n",
    "nn.fit(control[['propensity_score']])\n",
    "distances, indices = nn.kneighbors(treated[['propensity_score']])\n",
    "\n",
    "# Get matched control samples\n",
    "matched_control = control.iloc[indices.flatten()].reset_index()\n",
    "matched_treated = treated.reset_index()\n",
    "\n",
    "# Combine the matched pairs into one dataset\n",
    "matched_data = pd.concat([matched_treated, matched_control], axis=1, ignore_index=False)"
   ]
  },
  {
   "cell_type": "code",
   "execution_count": null,
   "id": "efd2a9fe-2944-4471-a529-188172f583f2",
   "metadata": {},
   "outputs": [],
   "source": [
    "matched_data"
   ]
  },
  {
   "cell_type": "code",
   "execution_count": null,
   "id": "b282661b-3463-404e-9502-554e6230b436",
   "metadata": {},
   "outputs": [],
   "source": [
    "# Example: Compare budgets\n",
    "sns.histplot(treated['budget'], color='red', label='War Movies (Before Matching)', kde=True, stat='density')\n",
    "sns.histplot(matched_control['budget'], color='blue', label='Non-War Matches (After Matching)', kde=True, stat='density')\n",
    "plt.title('Budget Distribution Before and After Matching')\n",
    "plt.legend()\n",
    "plt.show()"
   ]
  },
  {
   "cell_type": "code",
   "execution_count": null,
   "id": "5141a95d-1aa3-42f1-a2c5-9ee0522c1008",
   "metadata": {},
   "outputs": [],
   "source": [
    "print(matched_data.columns)\n"
   ]
  },
  {
   "cell_type": "code",
   "execution_count": null,
   "id": "a07f2712-fc35-4085-9046-8cac61ac6be6",
   "metadata": {},
   "outputs": [],
   "source": [
    "# Remove rows with NaN values in the revenue columns\n",
    "matched_data_clean = matched_data.dropna(subset=['Movie box office revenue_x', 'Movie box office revenue_y'])\n",
    "\n",
    "# Confirm the number of valid rows\n",
    "print(f\"Number of matched pairs after dropping NaN values: {len(matched_data_clean)}\")\n"
   ]
  },
  {
   "cell_type": "code",
   "execution_count": null,
   "id": "303dbaea-cf7f-47c5-a044-92f5730e46be",
   "metadata": {},
   "outputs": [],
   "source": [
    "# Compare box office revenue between matched pairs\n",
    "t_stat, p_value = ttest_rel(\n",
    "    matched_treated['Movie box office revenue'], \n",
    "    matched_control['Movie box office revenue']\n",
    ")\n",
    "\n",
    "print(f\"T-Statistic: {t_stat:.2f}, P-Value: {p_value:.4f}\")\n",
    "\n",
    "# Interpret results\n",
    "if p_value < 0.05:\n",
    "    print(\"The difference in box office revenue is statistically significant.\")\n",
    "else:\n",
    "    print(\"No statistically significant difference in box office revenue.\")"
   ]
  },
  {
   "cell_type": "code",
   "execution_count": null,
   "id": "b34bdef4-0f66-426d-afb2-96bfb2a0bb43",
   "metadata": {},
   "outputs": [],
   "source": [
    "matched_treated['Movie box office revenue']\n"
   ]
  },
  {
   "cell_type": "code",
   "execution_count": null,
   "id": "758906ba-3edc-4e32-b0a7-e1e3098ad367",
   "metadata": {},
   "outputs": [],
   "source": [
    "matched_treated = matched_treated.merge(\n",
    "    df_3[['Movie box office revenue']],\n",
    "    left_index=True,\n",
    "    right_index=True\n",
    ")\n",
    "\n",
    "matched_control = matched_control.merge(\n",
    "    df_3[['Movie box office revenue']],\n",
    "    left_index=True,\n",
    "    right_index=True\n",
    ")\n"
   ]
  },
  {
   "cell_type": "code",
   "execution_count": null,
   "id": "55288b81-eff0-4f1a-84c6-6ee122e461f0",
   "metadata": {},
   "outputs": [],
   "source": []
  }
 ],
 "metadata": {
  "kernelspec": {
   "display_name": "Python 3 (ipykernel)",
   "language": "python",
   "name": "python3"
  },
  "language_info": {
   "codemirror_mode": {
    "name": "ipython",
    "version": 3
   },
   "file_extension": ".py",
   "mimetype": "text/x-python",
   "name": "python",
   "nbconvert_exporter": "python",
   "pygments_lexer": "ipython3",
   "version": "3.13.1"
  }
 },
 "nbformat": 4,
 "nbformat_minor": 5
}
