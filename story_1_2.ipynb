{
 "cells": [
  {
   "cell_type": "markdown",
   "id": "8010a3ae-3b5d-4215-98e3-6929d298f014",
   "metadata": {},
   "source": [
    "# 1. Timing is Everything !"
   ]
  },
  {
   "cell_type": "code",
   "execution_count": 9,
   "id": "3570266d-fc2e-4db4-86db-d7e107a48954",
   "metadata": {},
   "outputs": [],
   "source": [
    "import pandas as pd \n",
    "import numpy as np \n",
    "import re \n",
    "import seaborn as sns\n",
    "import matplotlib.pyplot as plt \n",
    "from bs4 import BeautifulSoup \n",
    "from datetime import datetime\n",
    "from vaderSentiment.vaderSentiment import SentimentIntensityAnalyzer\n",
    "import plotly.express as px\n"
   ]
  },
  {
   "cell_type": "code",
   "execution_count": 117,
   "id": "e5bbe231-54e3-408e-877b-1a6f02333895",
   "metadata": {},
   "outputs": [
    {
     "data": {
      "text/html": [
       "<div>\n",
       "<style scoped>\n",
       "    .dataframe tbody tr th:only-of-type {\n",
       "        vertical-align: middle;\n",
       "    }\n",
       "\n",
       "    .dataframe tbody tr th {\n",
       "        vertical-align: top;\n",
       "    }\n",
       "\n",
       "    .dataframe thead th {\n",
       "        text-align: right;\n",
       "    }\n",
       "</style>\n",
       "<table border=\"1\" class=\"dataframe\">\n",
       "  <thead>\n",
       "    <tr style=\"text-align: right;\">\n",
       "      <th></th>\n",
       "      <th>Movie name</th>\n",
       "      <th>Movie release month</th>\n",
       "      <th>Movie release year</th>\n",
       "      <th>Movie release date</th>\n",
       "      <th>Movie box office revenue</th>\n",
       "      <th>Movie runtime</th>\n",
       "      <th>Movie languages</th>\n",
       "      <th>Movie countries</th>\n",
       "      <th>Movie genres</th>\n",
       "      <th>Summary</th>\n",
       "      <th>Sentiment</th>\n",
       "      <th>Compound Score</th>\n",
       "      <th>Theme</th>\n",
       "      <th>vote_average</th>\n",
       "      <th>budget</th>\n",
       "    </tr>\n",
       "    <tr>\n",
       "      <th>Wikipedia movie ID</th>\n",
       "      <th></th>\n",
       "      <th></th>\n",
       "      <th></th>\n",
       "      <th></th>\n",
       "      <th></th>\n",
       "      <th></th>\n",
       "      <th></th>\n",
       "      <th></th>\n",
       "      <th></th>\n",
       "      <th></th>\n",
       "      <th></th>\n",
       "      <th></th>\n",
       "      <th></th>\n",
       "      <th></th>\n",
       "      <th></th>\n",
       "    </tr>\n",
       "  </thead>\n",
       "  <tbody>\n",
       "    <tr>\n",
       "      <th>6673398</th>\n",
       "      <td>A Tale of Two Mice</td>\n",
       "      <td>6.0</td>\n",
       "      <td>1945.0</td>\n",
       "      <td>1945-06-30</td>\n",
       "      <td>NaN</td>\n",
       "      <td>NaN</td>\n",
       "      <td>['']</td>\n",
       "      <td>['United States of America']</td>\n",
       "      <td>['Short Film', 'Family Film', 'Animation']</td>\n",
       "      <td>Babbit sends Catstello to get some cheese from...</td>\n",
       "      <td>negative</td>\n",
       "      <td>-0.8842</td>\n",
       "      <td>Rebellion</td>\n",
       "      <td>5.300</td>\n",
       "      <td>NaN</td>\n",
       "    </tr>\n",
       "    <tr>\n",
       "      <th>3991118</th>\n",
       "      <td>Evdokia</td>\n",
       "      <td>10.0</td>\n",
       "      <td>1971.0</td>\n",
       "      <td>1971-10-08</td>\n",
       "      <td>NaN</td>\n",
       "      <td>97.0</td>\n",
       "      <td>['Greek']</td>\n",
       "      <td>['Greece']</td>\n",
       "      <td>['Drama']</td>\n",
       "      <td>A prostitute (Evdokia) meets a sergeant (Yorgo...</td>\n",
       "      <td>negative</td>\n",
       "      <td>-0.1779</td>\n",
       "      <td>Love</td>\n",
       "      <td>7.235</td>\n",
       "      <td>NaN</td>\n",
       "    </tr>\n",
       "    <tr>\n",
       "      <th>4163034</th>\n",
       "      <td>Maximum Risk</td>\n",
       "      <td>9.0</td>\n",
       "      <td>1996.0</td>\n",
       "      <td>1996-09-13</td>\n",
       "      <td>1.033119e+08</td>\n",
       "      <td>100.0</td>\n",
       "      <td>['English']</td>\n",
       "      <td>['United States of America']</td>\n",
       "      <td>['Thriller', 'Action/Adventure', 'Action Thril...</td>\n",
       "      <td>Alain Moreau  is a cop in Nice, France. Alain ...</td>\n",
       "      <td>negative</td>\n",
       "      <td>-0.8381</td>\n",
       "      <td>Revenge</td>\n",
       "      <td>5.718</td>\n",
       "      <td>4.995500e+07</td>\n",
       "    </tr>\n",
       "    <tr>\n",
       "      <th>23146878</th>\n",
       "      <td>Curse of the Zodiac</td>\n",
       "      <td>5.0</td>\n",
       "      <td>2007.0</td>\n",
       "      <td>2007-05-15</td>\n",
       "      <td>NaN</td>\n",
       "      <td>82.0</td>\n",
       "      <td>['English']</td>\n",
       "      <td>['United States of America']</td>\n",
       "      <td>['Crime Fiction', 'Thriller', 'Horror', 'Myste...</td>\n",
       "      <td>The Zodiac Killer  terrorizes the San Francisc...</td>\n",
       "      <td>negative</td>\n",
       "      <td>-0.9485</td>\n",
       "      <td>Mystery</td>\n",
       "      <td>1.179</td>\n",
       "      <td>NaN</td>\n",
       "    </tr>\n",
       "    <tr>\n",
       "      <th>22643258</th>\n",
       "      <td>Oorlog en vrede</td>\n",
       "      <td>10.0</td>\n",
       "      <td>1918.0</td>\n",
       "      <td>1918-10-11</td>\n",
       "      <td>NaN</td>\n",
       "      <td>100.0</td>\n",
       "      <td>['']</td>\n",
       "      <td>['Netherlands']</td>\n",
       "      <td>['Silent film', 'Drama', 'Black-and-white', 'W...</td>\n",
       "      <td>NaN</td>\n",
       "      <td>NaN</td>\n",
       "      <td>NaN</td>\n",
       "      <td>NaN</td>\n",
       "      <td>NaN</td>\n",
       "      <td>NaN</td>\n",
       "    </tr>\n",
       "  </tbody>\n",
       "</table>\n",
       "</div>"
      ],
      "text/plain": [
       "                             Movie name  Movie release month  \\\n",
       "Wikipedia movie ID                                             \n",
       "6673398              A Tale of Two Mice                  6.0   \n",
       "3991118                         Evdokia                 10.0   \n",
       "4163034                    Maximum Risk                  9.0   \n",
       "23146878            Curse of the Zodiac                  5.0   \n",
       "22643258                Oorlog en vrede                 10.0   \n",
       "\n",
       "                    Movie release year Movie release date  \\\n",
       "Wikipedia movie ID                                          \n",
       "6673398                         1945.0         1945-06-30   \n",
       "3991118                         1971.0         1971-10-08   \n",
       "4163034                         1996.0         1996-09-13   \n",
       "23146878                        2007.0         2007-05-15   \n",
       "22643258                        1918.0         1918-10-11   \n",
       "\n",
       "                    Movie box office revenue  Movie runtime Movie languages  \\\n",
       "Wikipedia movie ID                                                            \n",
       "6673398                                  NaN            NaN            ['']   \n",
       "3991118                                  NaN           97.0       ['Greek']   \n",
       "4163034                         1.033119e+08          100.0     ['English']   \n",
       "23146878                                 NaN           82.0     ['English']   \n",
       "22643258                                 NaN          100.0            ['']   \n",
       "\n",
       "                                 Movie countries  \\\n",
       "Wikipedia movie ID                                 \n",
       "6673398             ['United States of America']   \n",
       "3991118                               ['Greece']   \n",
       "4163034             ['United States of America']   \n",
       "23146878            ['United States of America']   \n",
       "22643258                         ['Netherlands']   \n",
       "\n",
       "                                                         Movie genres  \\\n",
       "Wikipedia movie ID                                                      \n",
       "6673398                    ['Short Film', 'Family Film', 'Animation']   \n",
       "3991118                                                     ['Drama']   \n",
       "4163034             ['Thriller', 'Action/Adventure', 'Action Thril...   \n",
       "23146878            ['Crime Fiction', 'Thriller', 'Horror', 'Myste...   \n",
       "22643258            ['Silent film', 'Drama', 'Black-and-white', 'W...   \n",
       "\n",
       "                                                              Summary  \\\n",
       "Wikipedia movie ID                                                      \n",
       "6673398             Babbit sends Catstello to get some cheese from...   \n",
       "3991118             A prostitute (Evdokia) meets a sergeant (Yorgo...   \n",
       "4163034             Alain Moreau  is a cop in Nice, France. Alain ...   \n",
       "23146878            The Zodiac Killer  terrorizes the San Francisc...   \n",
       "22643258                                                          NaN   \n",
       "\n",
       "                   Sentiment  Compound Score      Theme  vote_average  \\\n",
       "Wikipedia movie ID                                                      \n",
       "6673398             negative         -0.8842  Rebellion         5.300   \n",
       "3991118             negative         -0.1779       Love         7.235   \n",
       "4163034             negative         -0.8381    Revenge         5.718   \n",
       "23146878            negative         -0.9485    Mystery         1.179   \n",
       "22643258                 NaN             NaN        NaN           NaN   \n",
       "\n",
       "                          budget  \n",
       "Wikipedia movie ID                \n",
       "6673398                      NaN  \n",
       "3991118                      NaN  \n",
       "4163034             4.995500e+07  \n",
       "23146878                     NaN  \n",
       "22643258                     NaN  "
      ]
     },
     "execution_count": 117,
     "metadata": {},
     "output_type": "execute_result"
    }
   ],
   "source": [
    "folder = \"generated/\"\n",
    "\n",
    "df_movies=pd.read_csv(folder + \"USE_THIS_DATASET.csv\", index_col = 'Wikipedia movie ID')\n",
    "df_movies.sample(5)"
   ]
  },
  {
   "cell_type": "code",
   "execution_count": 119,
   "id": "efdbcbc5-1e73-41ab-ab24-ceb69566d726",
   "metadata": {},
   "outputs": [
    {
     "data": {
      "text/plain": [
       "19378"
      ]
     },
     "execution_count": 119,
     "metadata": {},
     "output_type": "execute_result"
    }
   ],
   "source": []
  },
  {
   "cell_type": "markdown",
   "id": "1a375aa0-2c9b-41bc-9737-c02c57922ca8",
   "metadata": {},
   "source": [
    "## What Drives Movie Success: Genres, Themes, or Release Timing?\n",
    "\n",
    "To guide her analysis effectively, Annabel considers which factors contribute most to a movie’s success. Taking the perspective of a producer focused solely on maximizing revenue, she chooses to evaluate success based on profitability, measured as the ratio of box office revenue to production budget. This approach reflects financial success regardless of audience appreciation, which isn’t always a reliable indicator in today’s market (as seen with recent Star Wars episodes). \n",
    "\n",
    "Note: We assume that the dataset is representative of the movie industry in terms of genre distribution, meaning no specific genre is disproportionately underrepresented in any given year. However, the overall number of movies in the dataset may not be evenly distributed across time, as older movies (e.g., from 100 years ago) are less likely to be included compared to more recent releases, which does not mean there were lesser movies in the past.\n",
    "\n",
    "After merging data from multiple sources, Annabel is left with movie records spanning over 100 years. She wonders whether including such old data is meaningful and won't harm her analysis, given how much society has evolved over time. Factors like movie runtimes, peak release months, popular genres, and dominant themes may have changed significantly. For example, early films often had shorter runtimes due to technological limitations, while genres like superhero movies only gained popularity in recent decades. \n",
    "\n",
    "In an attempt to find out, "
   ]
  },
  {
   "cell_type": "markdown",
   "id": "b7c01544-88b9-41c1-af1b-87a819ed62da",
   "metadata": {},
   "source": [
    "### Did the most profitables genres change over time?\n",
    "X-axis: Year (historical range)\n",
    "Y-axis: Movie genre\n",
    "Color Intensity: Average profitability -> I hope not take last decade only???\n",
    "\n"
   ]
  },
  {
   "cell_type": "code",
   "execution_count": null,
   "id": "09b87218-e709-44a1-adfc-7a4f22d82923",
   "metadata": {},
   "outputs": [],
   "source": []
  },
  {
   "cell_type": "markdown",
   "id": "e6dd23de-45e4-424f-b659-063f4f34486e",
   "metadata": {},
   "source": [
    "### Did most represented genres change Over Time?\n",
    "One circle with # above 5%, and lineplot for most popular themes\n",
    "OR \n",
    "X-axis: Year\n",
    "Y-axis: Total #movies Revenue\n",
    "Area Sections: Different genres (stacked)\n",
    "Insight: See how genres gained or lost market share over the years."
   ]
  },
  {
   "cell_type": "code",
   "execution_count": null,
   "id": "0e519742-b315-4d02-9e0f-03b79d523aec",
   "metadata": {},
   "outputs": [],
   "source": []
  },
  {
   "cell_type": "markdown",
   "id": "0a7538bb-8331-4066-a644-8a2903580760",
   "metadata": {},
   "source": [
    "### Profitability vs. Release Month -- change through time?:\n",
    "X-axis: Month\n",
    "Y-axis: Profitability\n",
    "rolling over years\n",
    "\n",
    "X-axis: Year\n",
    "Y-axis: Profitability\n",
    "boxplot\n",
    "\n",
    "Insight: Check if profitability spikes around specific calendar dates over time?.\n",
    "**OR**\n",
    "each year, plot boxplot of average profitability -> propensity score matching\n",
    "Trend of Average Profitability Over Time. \n",
    "\n",
    "**OR**\n",
    "Heatmap of Av Profitability by Decade and Month\n",
    "X-axis: Month\n",
    "Y-axis: Decades (e.g., 1980s, 1990s, 2000s, 2010s)\n",
    "Color Intensity: Average revenue or profitability\n",
    "\n",
    "**OR**\n",
    "7. Violin Plot of Revenue by Season Across Decades\n",
    "X-axis: Seasons (Winter, Spring, Summer, Fall)\n",
    "Y-axis: Revenue or profitability\n",
    "Facet By: Decade\n",
    "Insight: Compare the distribution and density of revenue across seasons for each decade to spot shifts in audience preferences."
   ]
  },
  {
   "cell_type": "code",
   "execution_count": null,
   "id": "a36cff55-c564-47a5-8659-764cce22e404",
   "metadata": {},
   "outputs": [],
   "source": []
  },
  {
   "cell_type": "markdown",
   "id": "995be795-b9c6-4e41-b4e2-7f2a3b46c388",
   "metadata": {},
   "source": [
    "### profitability distribution : why do all this analysis to optimize? Does it really matter?\n",
    "X-axis: Profitability (Box Office / Budget)\n",
    "Y-axis: Frequency (number of movies)\n",
    "Conclusion: Some movies very profitable, others not. We want high profitability. What would influence it?\n",
    "\n"
   ]
  },
  {
   "cell_type": "code",
   "execution_count": null,
   "id": "8146eced-c801-43d1-84a2-0be7576dec15",
   "metadata": {},
   "outputs": [],
   "source": []
  },
  {
   "cell_type": "markdown",
   "id": "4ff307b6-f328-4833-852d-b31d1a89b873",
   "metadata": {},
   "source": [
    "### Profitability vs. Budget: are higher budget movies more profitable?\n",
    "X-axis: Budget (log scale if needed)\n",
    "Y-axis: Profitability (Box Office / Budget)\n",
    "Conclusion: Reveal if profitability correlates with budget or is genre-dependent. \n",
    "\n"
   ]
  },
  {
   "cell_type": "code",
   "execution_count": null,
   "id": "e3274c31-96c8-48b0-9536-dfa9c26f1071",
   "metadata": {},
   "outputs": [],
   "source": []
  },
  {
   "cell_type": "markdown",
   "id": "de5e5b88-ce30-44dd-9e0c-2c4c5567120c",
   "metadata": {},
   "source": [
    "### A first hypothesis to test is that genres and themes tend to have more successful movies, regardless when they release.\n",
    "\n",
    "boxplot profitability / genre x \n",
    "\n",
    "boxplot profitability / themes x \n",
    "\n",
    "#clearly ... most popular, however, is it due to them releasing at a specific time? \n",
    "\n",
    "X-axis: Release month \n",
    "Y-axis: Movie genre (theme)\n",
    "Color Intensity: Average profitability \n",
    "\n",
    "\n"
   ]
  },
  {
   "cell_type": "code",
   "execution_count": null,
   "id": "f397b327-a6df-49d9-adc8-3b2e89a83893",
   "metadata": {},
   "outputs": [],
   "source": []
  },
  {
   "cell_type": "markdown",
   "id": "b185b260-2c23-40f8-a4ba-439a1fab36db",
   "metadata": {},
   "source": [
    "### which months most movies of a certain theme/genre release : do the industry follow the standards?\n",
    "X-axis: Release month \n",
    "Y-axis: Movie genre (theme)\n",
    "Color Intensity: #\n",
    "\n",
    ". Word Clouds\n",
    "Create word clouds from movie themes or keywords found in plot summaries, sized by average profitability. This helps visualize which themes are more associated with profitable movies.\n",
    "\n"
   ]
  },
  {
   "cell_type": "code",
   "execution_count": null,
   "id": "eba7c9e2-5ed6-427c-bb39-44c85c05c797",
   "metadata": {},
   "outputs": [],
   "source": []
  },
  {
   "cell_type": "markdown",
   "id": "7f9e1e5b-644b-4493-bb97-4d07c2cf527c",
   "metadata": {},
   "source": [
    "###  theme-genre combinations are more successful. For instance, “heroic” themes might work well in action films but not in romantic comedies.\n",
    "X-axis: Movie genre\n",
    "Y-axis: Dominant theme keywords\n",
    "Color Intensity: Average profitability\n",
    "\n",
    ". Word Clouds\n",
    "Create word clouds from movie themes or keywords found in plot summaries, sized by average profitability. This helps visualize which themes are more associated with profitable movies.\n",
    "\n"
   ]
  },
  {
   "cell_type": "code",
   "execution_count": null,
   "id": "b25ce37f-9e31-4771-bf10-89dae14f2ecd",
   "metadata": {},
   "outputs": [],
   "source": []
  },
  {
   "cell_type": "markdown",
   "id": "96976609-141c-4354-8f3a-47a666b01e3f",
   "metadata": {},
   "source": [
    "### Profitability vs. Movie Length (Runtime):\n",
    "**#runtime changed over time**\n",
    "year - av runtime plot boxplot\n",
    "\n",
    "X-axis: Runtime (in minutes) \n",
    "Y-axis: Profitability\n",
    "Insight: Determine if movie length influences profitability and whether longer films perform better.\n",
    "\n",
    "\n"
   ]
  },
  {
   "cell_type": "code",
   "execution_count": null,
   "id": "87493b88-e4d0-484d-b2ca-23a8a7892028",
   "metadata": {},
   "outputs": [],
   "source": []
  },
  {
   "cell_type": "markdown",
   "id": "9a733b6a-a37c-4006-a334-8e992bc12356",
   "metadata": {},
   "source": [
    "### Combine the results Bubble Charts\n",
    "Bubble Chart of Profitability by Budget and Runtime:\n",
    "X-axis: Budget\n",
    "Y-axis: Runtime\n",
    "Bubble Size: Profitability (Box Office / Budget)\n",
    "Bubble Color: Movie genre or theme\n",
    "Insight: See if a sweet spot exists where budget and runtime balance for maximum profitability.\n",
    "\n",
    "\n"
   ]
  },
  {
   "cell_type": "code",
   "execution_count": null,
   "id": "f9543edb-3ef2-4a61-8768-a0e9120faea6",
   "metadata": {},
   "outputs": [],
   "source": []
  },
  {
   "cell_type": "markdown",
   "id": "92a00978-8f77-47a0-8c16-4acfda5dbc8f",
   "metadata": {},
   "source": [
    "### WHich is most important??? Decision Trees & Feature Importance (Machine Learning)\n",
    "Train a decision tree or regression model with features like budget, release month, genre, theme, runtime, and year to predict profitability.\n",
    "Visualize the resulting feature importance chart showing which factors influence profitability the most.\n"
   ]
  },
  {
   "cell_type": "code",
   "execution_count": null,
   "id": "ce8b7b3d-d9cb-40a3-b8ab-111674644b28",
   "metadata": {},
   "outputs": [],
   "source": []
  },
  {
   "cell_type": "code",
   "execution_count": null,
   "id": "b2b50b55-05a0-4745-b9cf-718f01748abd",
   "metadata": {},
   "outputs": [],
   "source": [
    "#What about movies translated in multiple languages?"
   ]
  },
  {
   "cell_type": "code",
   "execution_count": null,
   "id": "cf9596e3-b9a0-46ed-87f1-bd4c8772b7a0",
   "metadata": {},
   "outputs": [],
   "source": []
  }
 ],
 "metadata": {
  "kernelspec": {
   "display_name": "Python [conda env:base] *",
   "language": "python",
   "name": "conda-base-py"
  },
  "language_info": {
   "codemirror_mode": {
    "name": "ipython",
    "version": 3
   },
   "file_extension": ".py",
   "mimetype": "text/x-python",
   "name": "python",
   "nbconvert_exporter": "python",
   "pygments_lexer": "ipython3",
   "version": "3.12.3"
  }
 },
 "nbformat": 4,
 "nbformat_minor": 5
}
