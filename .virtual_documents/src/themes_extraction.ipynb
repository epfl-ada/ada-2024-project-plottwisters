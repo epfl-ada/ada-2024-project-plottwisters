


folder = "../generated/"
df_movies=pd.read_csv(folder + "cleaned_data.csv",index_col = 'Wikipedia movie ID')





#We decided to use a ChatGPT API which allows us to extract one single theme from each movie summary. The prompt we give to the algorithm to extract the theme is : 
#"Label the movie's theme with a single word based on its plot : ". Then, we clean the results to get rid of all the unwanted characters and store everything in the movie dataframe.

openai.api_key ="secret :-)"

def chatgpt(message):
    #time.sleep(0.1)
    completion = openai.chat.completions.create(model="gpt-4o-mini",messages=[{"role": "user","content": message,},],)
    print(completion.choices[0].message.content)
    return completion.choices[0].message.content



dfs = np.array_split(df_movies, 10)

df1, df2, df3, df4, df5, df6, df7, df8, df9, df10 = dfs


pre = "Label the movie's theme with a single word based on its plot : "
test = df1.sample(10)
test['Theme'] = test['Summary'].apply(lambda x: chatgpt(pre + x) if pd.notna(x) else np.nan)
test['Theme'] = test['Theme'].astype('object')



#df['column_with_chars'] = df['column_with_chars'].str.replace(r'["*]', '', regex=True)

#df = df[~df['column_with_chars'].str.startswith('theme:')]
test.head(10)





test.to_csv('temporary/df1.csv')
