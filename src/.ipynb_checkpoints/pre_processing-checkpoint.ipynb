{
 "cells": [
  {
   "cell_type": "markdown",
   "id": "462088b3-07a8-434a-b985-508eea1a4e30",
   "metadata": {},
   "source": [
    "# 1. IMPORTS"
   ]
  },
  {
   "cell_type": "markdown",
   "id": "ef5ecd07-dbb9-46c9-a0c9-b0a3d3311383",
   "metadata": {},
   "source": [
    "## 1.1 Libraries"
   ]
  },
  {
   "cell_type": "code",
   "execution_count": 139,
   "id": "8051d418-22b0-42e7-a15b-139a5b7a1229",
   "metadata": {},
   "outputs": [],
   "source": [
    "import pandas as pd\n",
    "import numpy as np\n",
    "import re\n",
    "import matplotlib.pyplot as plt\n",
    "from bs4 import BeautifulSoup \n",
    "from datetime import datetime"
   ]
  },
  {
   "cell_type": "markdown",
   "id": "687aff3f-7022-4c93-a47e-cde2d9657c2a",
   "metadata": {},
   "source": [
    "## 1.2 Raw data"
   ]
  },
  {
   "cell_type": "code",
   "execution_count": null,
   "id": "78963047-f0eb-4e1b-b451-408d07e363a6",
   "metadata": {},
   "outputs": [],
   "source": [
    "DATA_FOLDER = 'data/'\n",
    "CHARACTER_METADATA_DATASET = DATA_FOLDER+\"character.metadata.tsv\"\n",
    "MOVIE_METADATA_DATASET = DATA_FOLDER+\"movie.metadata.tsv\"\n",
    "EVENT_CODE = DATA_FOLDER+\"data_events.txt\"\n",
    "PLOT_SUMMARIES = DATA_FOLDER+\"plot_summaries.txt\"\n",
    "\n",
    "column_names_character = [\n",
    "    'Wikipedia movie ID',\n",
    "    'Freebase movie ID',\n",
    "    'Movie release date',\n",
    "    'Character name',\n",
    "    'Actor date of birth',\n",
    "    'Actor gender',\n",
    "    'Actor height (in meters)',\n",
    "    'Actor ethnicity (Freebase ID)',\n",
    "    'Actor name',\n",
    "    'Actor age at movie release',\n",
    "    'Freebase character/actor map ID',\n",
    "    'Freebase character ID',\n",
    "    'Freebase actor ID'\n",
    "]\n",
    "\n",
    "column_names_movie = [\n",
    "    'Wikipedia movie ID',\n",
    "    'Freebase movie ID',\n",
    "    'Movie name',\n",
    "    'Movie release date',\n",
    "    'Movie box office revenue',\n",
    "    'Movie runtime',\n",
    "    'Movie languages',\n",
    "    'Movie countries',\n",
    "    'Movie genres'\n",
    "]\n",
    "df_character=pd.read_csv(CHARACTER_METADATA_DATASET, sep='\\t', names = column_names_character)\n",
    "df_movie=pd.read_csv(MOVIE_METADATA_DATASET, sep='\\t', names = column_names_movie)\n",
    "with open(EVENT_CODE, encoding='utf-8') as file:\n",
    "    html_code = file.read()\n",
    "\n"
   ]
  },
  {
   "cell_type": "markdown",
   "id": "bdcc36a2-de39-436f-945a-ba52b674541d",
   "metadata": {},
   "source": [
    "# 2. DATA SELECTION"
   ]
  },
  {
   "cell_type": "code",
   "execution_count": null,
   "id": "efa38cf0-bd38-48e6-b4f6-c67a11c67930",
   "metadata": {},
   "outputs": [],
   "source": [
    "# Columns we will use for our project\n",
    "df = df_movie[['Wikipedia movie ID', 'Movie name', 'Movie release date','Movie box office revenue','Movie runtime','Movie languages','Movie countries','Movie genres']] # and themes to add\n",
    "df.set_index('Wikipedia movie ID', inplace=True)\n",
    "\n",
    "df.head(5)"
   ]
  },
  {
   "cell_type": "code",
   "execution_count": null,
   "id": "65005001-cb08-46cb-9cde-8473bd59c207",
   "metadata": {},
   "outputs": [],
   "source": [
    "is_unique = df.index.is_unique\n",
    "print(\"Is the index unique?\", is_unique)"
   ]
  },
  {
   "cell_type": "code",
   "execution_count": null,
   "id": "538577ed-0bc6-4b7a-894b-1a68adbcfe8b",
   "metadata": {},
   "outputs": [],
   "source": [
    "df.dtypes\n",
    "df.info()"
   ]
  },
  {
   "cell_type": "markdown",
   "id": "9062de3d-fc18-40fd-a261-bdc871622334",
   "metadata": {},
   "source": [
    "# 3. DATA HANDLING"
   ]
  },
  {
   "cell_type": "markdown",
   "id": "cf359d14-c512-4aa6-9679-4e9bf2ffd9cf",
   "metadata": {},
   "source": [
    "## 3.1 Prepare dates"
   ]
  },
  {
   "cell_type": "code",
   "execution_count": null,
   "id": "f82785a8-b8f1-4aba-8a02-96ef9a6a3504",
   "metadata": {},
   "outputs": [],
   "source": [
    "#Issue: Many movies lack a complete release date (day and month), and some are missing a release date entirely.\n",
    "#Solution: Create two new columns—one for the \"year\" and another for the full \"year-month-day\" format, with NaN values for missing information.\n",
    "\n",
    "df_treated = df.copy()\n",
    "df_treated['Movie release year'] = df_treated['Movie release date'].str[:4].astype('Int32') #7k nans\n",
    "\n",
    "\n",
    "cols = list(df_treated.columns)\n",
    "cols.insert(1, cols.pop(cols.index('Movie release year')))\n",
    "df_treated = df_treated[cols]\n",
    "\n",
    "df_treated['Movie release date'] = pd.to_datetime(df_treated['Movie release date'], errors='coerce') #42k nans\n",
    "df_treated['Movie release month'] = df_treated['Movie release date'].dt.strftime('%m').astype('Int32')\n",
    "\n",
    "print(df_treated['Movie release date'].isna().sum())\n",
    "print(df_treated['Movie release year'].isna().sum())\n",
    "print(df_treated['Movie release month'].isna().sum())\n",
    "\n",
    "cols = list(df_treated.columns)\n",
    "cols.insert(1, cols.pop(cols.index('Movie release month')))\n",
    "df_treated = df_treated[cols]\n",
    "df_treated.head(5) "
   ]
  },
  {
   "cell_type": "code",
   "execution_count": null,
   "id": "98c86a58-26ef-4182-9c2e-59451db57fdc",
   "metadata": {},
   "outputs": [],
   "source": [
    "df_treated.shape"
   ]
  },
  {
   "cell_type": "code",
   "execution_count": null,
   "id": "2856e73f-4ed9-4777-8341-939864ee3fc6",
   "metadata": {},
   "outputs": [],
   "source": [
    "df_treated.dtypes\n"
   ]
  },
  {
   "cell_type": "markdown",
   "id": "8e47c7ca-a4f9-411a-a018-786332d95d74",
   "metadata": {},
   "source": [
    "## 3.2 Preprare box office"
   ]
  },
  {
   "cell_type": "code",
   "execution_count": null,
   "id": "18c39f24-8700-446a-8028-87bf9c30fea8",
   "metadata": {},
   "outputs": [],
   "source": [
    "df_plot = df_treated.dropna(subset=['Movie release year', 'Movie box office revenue'])\n",
    "average_revenue_per_year = df_plot.groupby('Movie release year')['Movie box office revenue'].mean()\n",
    "plt.figure(figsize=(10, 6))\n",
    "plt.plot(average_revenue_per_year[1:].index, average_revenue_per_year[1:].values)\n",
    "plt.xlabel(\"Movie Release Year\")\n",
    "plt.ylabel(\"Average Box Office Revenue\")\n",
    "plt.title(\"Average Box Office Revenue by Movie Release Year\")\n",
    "plt.show()\n"
   ]
  },
  {
   "cell_type": "code",
   "execution_count": null,
   "id": "0dce554a-2cc5-49fe-8c57-7003020b5979",
   "metadata": {},
   "outputs": [],
   "source": [
    "#Box office values are difficult to compare across different years due to inflation and varying years of measurement.\n",
    "#Adjust all (USD) box office revenues that are not NaN to 2024 values using known US inflation rates, enabling consistent comparisons.\n",
    "inflation_data = {\n",
    "    1914: 1.3, 1915: 0.9, 1916: 7.7, 1917: 17.8, 1918: 17.3, \n",
    "    1919: 15.2, 1920: 15.6, 1921: -10.9, 1922: -6.2, 1923: 1.8, \n",
    "    1924: 0.4, 1925: 2.4, 1926: 0.9, 1927: -1.9, 1928: -1.2, \n",
    "    1929: 0.0, 1930: -2.7, 1931: -8.9, 1932: -10.3, 1933: -5.2, \n",
    "    1934: 3.5, 1935: 2.6, 1936: 1.0, 1937: 3.7, 1938: -2.0, \n",
    "    1939: -1.3, 1940: 0.7, 1941: 5.1, 1942: 10.9, 1943: 6.0, \n",
    "    1944: 1.6, 1945: 2.3, 1946: 8.5, 1947: 14.4, 1948: 7.7, \n",
    "    1949: -1.0, 1950: 1.1, 1951: 7.9, 1952: 2.3, 1953: 0.8, \n",
    "    1954: 0.3, 1955: -0.3, 1956: 1.5, 1957: 3.3, 1958: 2.7, \n",
    "    1959: 1.08, 1960: 1.5, 1961: 1.1, 1962: 1.2, 1963: 1.2, \n",
    "    1964: 1.3, 1965: 1.6, 1966: 3.0, 1967: 2.8, 1968: 4.3, \n",
    "    1969: 5.5, 1970: 5.8, 1971: 4.3, 1972: 3.3, 1973: 6.2, \n",
    "    1974: 11.1, 1975: 9.1, 1976: 5.7, 1977: 6.5, 1978: 7.6, \n",
    "    1979: 11.3, 1980: 13.5, 1981: 10.3, 1982: 6.1, 1983: 3.2, \n",
    "    1984: 4.3, 1985: 3.5, 1986: 1.9, 1987: 3.7, 1988: 4.1, \n",
    "    1989: 4.8, 1990: 5.4, 1991: 4.2, 1992: 3.0, 1993: 3.0, \n",
    "    1994: 2.6, 1995: 2.8, 1996: 2.9, 1997: 2.3, 1998: 1.6, \n",
    "    1999: 2.2, 2000: 3.4, 2001: 2.8, 2002: 1.6, 2003: 2.3, \n",
    "    2004: 2.7, 2005: 3.4, 2006: 3.2, 2007: 2.9, 2008: 3.8, \n",
    "    2009: -0.4, 2010: 1.6, 2011: 3.2, 2012: 2.1, 2013: 1.5, \n",
    "    2014: 1.6, 2015: 0.1, 2016: 1.3, 2017: 2.1, 2018: 2.4, \n",
    "    2019: 1.8, 2020: 1.2, 2021: 4.7, 2022: 8.0, 2023: 4.1, 2024: 3.2\n",
    "}\n",
    "\n",
    "#source : minesota website\n",
    "\n",
    "def adjust_for_inflation(year, amount, inflation_data):\n",
    "    \"\"\"\n",
    "    Adjusts the given amount from the provided year to 2024 based on annual inflation rates.\n",
    "\n",
    "    Parameters:\n",
    "    year (int): The starting year.\n",
    "    amount (float): The amount to be adjusted.\n",
    "    inflation_data (dict): A dictionary with years as keys and inflation rates as values.\n",
    "\n",
    "    Returns:\n",
    "    float: The inflation-adjusted amount for 2024.\n",
    "    \"\"\"\n",
    "    adjusted_value = amount\n",
    "    \n",
    "    for y in range(year, 2024):\n",
    "        if y in inflation_data:\n",
    "            inflation_rate = inflation_data[y]\n",
    "            # Adjust for inflation for each year\n",
    "            adjusted_value *= (1 + inflation_rate / 100)\n",
    "    return adjusted_value\n",
    "\n",
    "\n",
    "for i in range(len(df_treated)):\n",
    "    if pd.notna(df_treated.iloc[i]['Movie release year']) and pd.notna(df_treated.iloc[i]['Movie box office revenue']):\n",
    "        release_year = df_treated['Movie release year'].iloc[i]\n",
    "        \n",
    "        adjusted_revenue = adjust_for_inflation(release_year, df_treated.iloc[i]['Movie box office revenue'], inflation_data)\n",
    "        \n",
    "        df_treated.iloc[i, df_treated.columns.get_loc('Movie box office revenue')] = adjusted_revenue\n",
    " \n",
    "df_treated.head(5)"
   ]
  },
  {
   "cell_type": "code",
   "execution_count": null,
   "id": "bbe13086-f8e2-4f71-9df0-88407a704c3c",
   "metadata": {},
   "outputs": [],
   "source": [
    "df_treated.shape"
   ]
  },
  {
   "cell_type": "markdown",
   "id": "d1156658-c975-44ab-b9a2-c67af5f00ac6",
   "metadata": {},
   "source": [
    "## 3.3 Prepare languages"
   ]
  },
  {
   "cell_type": "code",
   "execution_count": null,
   "id": "8679578f-1420-429c-81a2-b779a1737ece",
   "metadata": {},
   "outputs": [],
   "source": [
    "#Issue: These columns contain irregular characters and formatting (e.g., `\"/m/02h40lc\": \"English Language\"`).\n",
    "#Solution: Remove special characters and standardize the entries, providing each movie with a clean list of languages, countries, and genres. When the list is empty it means there is no data available.  \n",
    "def cleaner(value):\n",
    "    # Remove `{` and `}`\n",
    "    value = re.sub(r'[{}]', '', value)\n",
    "    \n",
    "    # Extract values after ':' that are in between double quotes\n",
    "    matches = re.findall(r'\":\\s*\"([^\"]+)\"', value)\n",
    "    \n",
    "    # List of words to remove from each match\n",
    "    words_to_remove = [\" Language\", \" language\", \" languages\", \" Languages\",\"\\\\u00e0 \"]\n",
    "    \n",
    "    # Remove unwanted words from each match\n",
    "    if matches:\n",
    "        for word in words_to_remove:\n",
    "            matches = [match.replace(word, \"\") for match in matches]\n",
    "        return ', '.join(matches)\n",
    "    \n",
    "    return value\n",
    "\n",
    "def remove_unicode_escapes(value):\n",
    "    # Remove any Unicode escape sequences like \\uXXXX\n",
    "    return re.sub(r'\\\\u[0-9a-fA-F]{4}', '', value)\n",
    "\n",
    "    \n",
    "df_treated['Movie languages'] = df_treated['Movie languages'].apply(cleaner)\n",
    "df_treated['Movie languages'] = df_treated['Movie languages'].apply(remove_unicode_escapes)\n",
    "\n",
    "df_treated.head(5)\n",
    "\n"
   ]
  },
  {
   "cell_type": "code",
   "execution_count": null,
   "id": "9f9d3102-4817-4f43-9554-a6b2c61fb370",
   "metadata": {},
   "outputs": [],
   "source": [
    "df_treated['Movie languages'] = df_treated['Movie languages'].apply(lambda x: x.split(', '))\n",
    "df_treated.head(5)"
   ]
  },
  {
   "cell_type": "markdown",
   "id": "d73e60c1-a897-444b-8834-4f32dfe945f3",
   "metadata": {},
   "source": [
    "## 3.4 Prepare genres"
   ]
  },
  {
   "cell_type": "code",
   "execution_count": null,
   "id": "ebbf7100-717d-4fbb-b7f4-85563ffbdd9f",
   "metadata": {},
   "outputs": [],
   "source": [
    "#same as for languages\n",
    "df_treated['Movie genres'] = df_treated['Movie genres'].apply(cleaner)"
   ]
  },
  {
   "cell_type": "code",
   "execution_count": null,
   "id": "2de11b7e-0c44-4ede-92db-42840572b2a8",
   "metadata": {},
   "outputs": [],
   "source": [
    "df_treated['Movie genres'] = df_treated['Movie genres'].apply(lambda x: x.split(', '))\n",
    "df_treated.head(5)"
   ]
  },
  {
   "cell_type": "markdown",
   "id": "0058ac72-5c94-4aa0-b960-62c0a82000e6",
   "metadata": {},
   "source": [
    "## 3.5 Prepare countries"
   ]
  },
  {
   "cell_type": "code",
   "execution_count": null,
   "id": "a0c0c646-4cee-471f-86fc-6395e1d49b94",
   "metadata": {},
   "outputs": [],
   "source": [
    "#same as for languages\n",
    "df_treated['Movie countries'] = df_treated['Movie countries'].apply(cleaner)\n"
   ]
  },
  {
   "cell_type": "code",
   "execution_count": null,
   "id": "af44f827-b8af-4c46-a167-46bf4086b884",
   "metadata": {},
   "outputs": [],
   "source": [
    "df_treated['Movie countries'] = df_treated['Movie countries'].apply(lambda x: x.split(', '))\n",
    "df_treated.head(5)"
   ]
  },
  {
   "cell_type": "markdown",
   "id": "61492a7c",
   "metadata": {},
   "source": [
    "## 3.6 Remove unrealistic values"
   ]
  },
  {
   "cell_type": "code",
   "execution_count": null,
   "id": "8a458400-9f14-4233-9b1b-fc0762be8421",
   "metadata": {},
   "outputs": [],
   "source": [
    "# Get the movie names of the long movies\n",
    "is_long_movie = df_treated['Movie runtime'] > 10000\n",
    "long_movies = df_treated.loc[df_treated[is_long_movie].index]\n",
    "long_movies"
   ]
  },
  {
   "cell_type": "code",
   "execution_count": null,
   "id": "adc6dbb1-27c4-4129-be46-8c567ed618f4",
   "metadata": {},
   "outputs": [],
   "source": [
    "# Get the movie names of movies under a second\n",
    "is_short_movie = df_treated['Movie runtime'] < 0.0166667\n",
    "\n",
    "short_movies = df_treated.loc[df_treated[is_short_movie].index]\n",
    "short_movies"
   ]
  },
  {
   "cell_type": "code",
   "execution_count": null,
   "id": "c2af47d4-68ec-4b16-8468-0bad232dc4f4",
   "metadata": {},
   "outputs": [],
   "source": [
    "highest_runtimes = df_treated['Movie runtime'].nlargest(10)\n",
    "print(\"10 highest Movie runtime values:\\n\", highest_runtimes)\n",
    "\n",
    "lowest_runtimes = df_treated['Movie runtime'].nsmallest(10)\n",
    "print(\"10 lowest Movie runtime values:\\n\", lowest_runtimes)\n",
    "\n",
    "lowest_years = df_treated['Movie release year'].nsmallest(10)\n",
    "print(\"10 lowest Years values:\\n\", lowest_years)"
   ]
  },
  {
   "cell_type": "code",
   "execution_count": null,
   "id": "8616332d-4cdc-4fa6-b34b-e0c4529f13fe",
   "metadata": {},
   "outputs": [],
   "source": [
    "# One film of 18k hours and one of 0sec -> remove them because incorrect data\n",
    "# Many films of under a minute because they're from 1890-1910\n",
    "\n",
    "# Define minimum and maximum thresholds for reasonable movie runtimes\n",
    "min_runtime = 0.01  \n",
    "max_runtime = 10000 \n",
    "\n",
    "\n",
    "short_movie_indices = df_treated[df_treated['Movie runtime'] < 0.0166667].index\n",
    "df_treated = df_treated.drop(index=short_movie_indices)\n",
    "long_movie_indices = df_treated[df_treated['Movie runtime'] > 10000].index\n",
    "df_treated = df_treated.drop(index=long_movie_indices)\n",
    "\n",
    "#one movie during the Middle Ages\n",
    "indices = df_treated[df_treated['Movie release year'] == 1010].index\n",
    "df_treated = df_treated.drop(index=indices)\n"
   ]
  },
  {
   "cell_type": "code",
   "execution_count": null,
   "id": "20fdbdfd-850a-4198-b523-0a40382a5009",
   "metadata": {},
   "outputs": [],
   "source": [
    "df_treated.shape"
   ]
  },
  {
   "cell_type": "markdown",
   "id": "f77d939c-343e-4672-9bf6-61bb82d1ba33",
   "metadata": {},
   "source": [
    "## 3.7 USA events dataset"
   ]
  },
  {
   "cell_type": "code",
   "execution_count": null,
   "id": "b2ab049d-de4a-4241-b064-ead0c36735ee",
   "metadata": {},
   "outputs": [],
   "source": [
    "#https://www.timetoast.com/timelines/us-history-in-the-20th-century\n",
    "soup = BeautifulSoup(html_code, 'html.parser')"
   ]
  },
  {
   "cell_type": "code",
   "execution_count": null,
   "id": "13a5abfd-720d-4625-bc92-e9e8b165b92b",
   "metadata": {},
   "outputs": [],
   "source": [
    "dates = []\n",
    "titles = []\n",
    "descriptions = []\n",
    "\n",
    "entries = soup.find_all('li', class_='list-timeline__item')\n",
    "\n",
    "for entry in entries:\n",
    "    date_div = entry.find('div', class_='timeline-item__date')\n",
    "    date = date_div.time.get_text(strip=True) if date_div and date_div.time else np.nan\n",
    "    dates.append(date)\n",
    "    \n",
    "    title_tag = entry.find('h1', class_='timeline-item__title')\n",
    "    title = title_tag.get_text(strip=True) if title_tag else np.nan\n",
    "    titles.append(title)\n",
    "    \n",
    "    body_div = entry.find('div', class_='timeline-item__body')\n",
    "    body = body_div.get_text(strip=True) if body_div else np.nan\n",
    "    descriptions.append(body)\n"
   ]
  },
  {
   "cell_type": "code",
   "execution_count": null,
   "id": "49776704-568a-4ae3-ac8b-402de6537524",
   "metadata": {},
   "outputs": [],
   "source": [
    "df_event = pd.DataFrame({'Date': dates,'Title': titles,'Description': descriptions})\n",
    "df_event['Date'] = pd.to_datetime(df_event['Date'], format=\"%b %d, %Y\")"
   ]
  },
  {
   "cell_type": "code",
   "execution_count": null,
   "id": "d1b76708-fd6a-4e6c-a351-ca0c19a0ea31",
   "metadata": {},
   "outputs": [],
   "source": [
    "df_event.head(5)"
   ]
  },
  {
   "cell_type": "markdown",
   "id": "225023ad-d388-4755-b6bf-b7fde89d5cc3",
   "metadata": {},
   "source": [
    "# 4. EXPORT CLEAN DATASETS"
   ]
  },
  {
   "cell_type": "code",
   "execution_count": null,
   "id": "d67c368c-c57a-4f29-a3e8-37c253378ff8",
   "metadata": {},
   "outputs": [],
   "source": [
    "df_treated.to_csv('temporary/cleaned_data.csv', index=True, encoding='utf-8')"
   ]
  },
  {
   "cell_type": "code",
   "execution_count": null,
   "id": "41fa7850",
   "metadata": {},
   "outputs": [],
   "source": [
    "df_event.to_csv('temporary/usa_historical_events.csv',index = False)"
   ]
  },
  {
   "cell_type": "code",
   "execution_count": null,
   "id": "6735e988-177e-40a1-89e3-70add25a3713",
   "metadata": {},
   "outputs": [],
   "source": []
  },
  {
   "cell_type": "code",
   "execution_count": null,
   "id": "438149e9-17c2-4300-ba13-aaa75b0ba8d6",
   "metadata": {},
   "outputs": [],
   "source": []
  },
  {
   "cell_type": "code",
   "execution_count": null,
   "id": "e5c6e7c0-22d8-4bab-84d6-f3b771d91d72",
   "metadata": {},
   "outputs": [],
   "source": []
  }
 ],
 "metadata": {
  "kernelspec": {
   "display_name": "Python [conda env:base] *",
   "language": "python",
   "name": "conda-base-py"
  },
  "language_info": {
   "codemirror_mode": {
    "name": "ipython",
    "version": 3
   },
   "file_extension": ".py",
   "mimetype": "text/x-python",
   "name": "python",
   "nbconvert_exporter": "python",
   "pygments_lexer": "ipython3",
   "version": "3.12.3"
  }
 },
 "nbformat": 4,
 "nbformat_minor": 5
}
