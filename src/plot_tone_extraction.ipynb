{
 "cells": [
  {
   "cell_type": "markdown",
   "id": "d7f6286a-f761-4872-880f-64baac48fb5a",
   "metadata": {},
   "source": [
    "# 1. IMPORTS"
   ]
  },
  {
   "cell_type": "markdown",
   "id": "b20b5fb2-78bc-4cb0-94e2-92eaab7d09bd",
   "metadata": {},
   "source": [
    "## 1.1 Libraries"
   ]
  },
  {
   "cell_type": "code",
   "execution_count": 37,
   "id": "d607a5e3-af66-4813-a6b4-67969dbe68a9",
   "metadata": {},
   "outputs": [],
   "source": [
    "import pandas as pd\n",
    "import numpy as np\n",
    "import re\n",
    "import matplotlib.pyplot as plt\n",
    "from datetime import datetime\n",
    "from vaderSentiment.vaderSentiment import SentimentIntensityAnalyzer"
   ]
  },
  {
   "cell_type": "markdown",
   "id": "4293d265-f958-47c9-90fc-80102d1da805",
   "metadata": {},
   "source": [
    "## 1.2 Data"
   ]
  },
  {
   "cell_type": "code",
   "execution_count": 53,
   "id": "594013cb-9cb7-4298-978b-61c32df4cefc",
   "metadata": {},
   "outputs": [],
   "source": [
    "folder = \"../temporary/\"\n",
    "\n",
    "df_events=pd.read_csv(folder + \"usa_historical_events.csv\")\n",
    "df_treated=pd.read_csv(folder + \"cleaned_data.csv\",index_col = 'Wikipedia movie ID')\n",
    "\n",
    "PLOT_SUMMARIES = \"../data/plot_summaries.txt\"\n",
    "\n",
    "with open(PLOT_SUMMARIES, 'r', encoding='utf-8') as file:\n",
    "    plot_summaries = file.readlines()"
   ]
  },
  {
   "cell_type": "markdown",
   "id": "ac0c9cc5-0a40-4b4b-ac44-ca0128223f93",
   "metadata": {},
   "source": [
    "# 2. PLOT TONE SCORE"
   ]
  },
  {
   "cell_type": "code",
   "execution_count": 55,
   "id": "31597f61-6a4a-4e47-97fe-2221bfb099c3",
   "metadata": {},
   "outputs": [],
   "source": [
    "# For this, we use the \"VADER sentiment analysis\" library which contains a dictionary. Each of the words inside are associated to a polarity score depending on how positive or negative they are. One total \n",
    "#score is computed per summary, and then it is normalized and takes a value between -1 and +1 to categorize the text as positive, negative or neutral. \n",
    "\n",
    "analyzer = SentimentIntensityAnalyzer()\n",
    "\n",
    "def get_sentiment(text):\n",
    "    score = analyzer.polarity_scores(text)\n",
    "    compound_score = score['compound']\n",
    "    if compound_score >= 0.1:\n",
    "        sentiment = 'positive'\n",
    "    elif compound_score <= -0.1:\n",
    "        sentiment = 'negative'\n",
    "    else:\n",
    "        sentiment = 'neutral'\n",
    "    return sentiment, compound_score"
   ]
  },
  {
   "cell_type": "code",
   "execution_count": 57,
   "id": "659e1799-b217-4d9d-96d7-ae0f22aab01e",
   "metadata": {},
   "outputs": [
    {
     "data": {
      "text/html": [
       "<div>\n",
       "<style scoped>\n",
       "    .dataframe tbody tr th:only-of-type {\n",
       "        vertical-align: middle;\n",
       "    }\n",
       "\n",
       "    .dataframe tbody tr th {\n",
       "        vertical-align: top;\n",
       "    }\n",
       "\n",
       "    .dataframe thead th {\n",
       "        text-align: right;\n",
       "    }\n",
       "</style>\n",
       "<table border=\"1\" class=\"dataframe\">\n",
       "  <thead>\n",
       "    <tr style=\"text-align: right;\">\n",
       "      <th></th>\n",
       "      <th>Summary</th>\n",
       "      <th>Sentiment</th>\n",
       "      <th>Compound Score</th>\n",
       "    </tr>\n",
       "    <tr>\n",
       "      <th>ID</th>\n",
       "      <th></th>\n",
       "      <th></th>\n",
       "      <th></th>\n",
       "    </tr>\n",
       "  </thead>\n",
       "  <tbody>\n",
       "    <tr>\n",
       "      <th>23890098</th>\n",
       "      <td>Shlykov, a hard-working taxi driver and Lyosha...</td>\n",
       "      <td>neutral</td>\n",
       "      <td>0.0083</td>\n",
       "    </tr>\n",
       "    <tr>\n",
       "      <th>31186339</th>\n",
       "      <td>The nation of Panem consists of a wealthy Capi...</td>\n",
       "      <td>negative</td>\n",
       "      <td>-0.9941</td>\n",
       "    </tr>\n",
       "    <tr>\n",
       "      <th>20663735</th>\n",
       "      <td>Poovalli Induchoodan  is sentenced for six yea...</td>\n",
       "      <td>negative</td>\n",
       "      <td>-0.9867</td>\n",
       "    </tr>\n",
       "    <tr>\n",
       "      <th>2231378</th>\n",
       "      <td>The Lemon Drop Kid , a New York City swindler,...</td>\n",
       "      <td>negative</td>\n",
       "      <td>-0.6127</td>\n",
       "    </tr>\n",
       "    <tr>\n",
       "      <th>595909</th>\n",
       "      <td>Seventh-day Adventist Church pastor Michael Ch...</td>\n",
       "      <td>negative</td>\n",
       "      <td>-0.9538</td>\n",
       "    </tr>\n",
       "    <tr>\n",
       "      <th>5272176</th>\n",
       "      <td>The president is on his way to give a speech. ...</td>\n",
       "      <td>negative</td>\n",
       "      <td>-0.9946</td>\n",
       "    </tr>\n",
       "    <tr>\n",
       "      <th>1952976</th>\n",
       "      <td>{{plot}} The film opens in 1974, as a young gi...</td>\n",
       "      <td>negative</td>\n",
       "      <td>-0.7904</td>\n",
       "    </tr>\n",
       "    <tr>\n",
       "      <th>24225279</th>\n",
       "      <td>The story begins with Hannah, a young Jewish t...</td>\n",
       "      <td>negative</td>\n",
       "      <td>-0.5064</td>\n",
       "    </tr>\n",
       "    <tr>\n",
       "      <th>2462689</th>\n",
       "      <td>Infuriated at being told to write one final co...</td>\n",
       "      <td>negative</td>\n",
       "      <td>-0.9898</td>\n",
       "    </tr>\n",
       "    <tr>\n",
       "      <th>20532852</th>\n",
       "      <td>A line of people  drool at the window of the s...</td>\n",
       "      <td>negative</td>\n",
       "      <td>-0.8176</td>\n",
       "    </tr>\n",
       "  </tbody>\n",
       "</table>\n",
       "</div>"
      ],
      "text/plain": [
       "                                                    Summary Sentiment  \\\n",
       "ID                                                                      \n",
       "23890098  Shlykov, a hard-working taxi driver and Lyosha...   neutral   \n",
       "31186339  The nation of Panem consists of a wealthy Capi...  negative   \n",
       "20663735  Poovalli Induchoodan  is sentenced for six yea...  negative   \n",
       "2231378   The Lemon Drop Kid , a New York City swindler,...  negative   \n",
       "595909    Seventh-day Adventist Church pastor Michael Ch...  negative   \n",
       "5272176   The president is on his way to give a speech. ...  negative   \n",
       "1952976   {{plot}} The film opens in 1974, as a young gi...  negative   \n",
       "24225279  The story begins with Hannah, a young Jewish t...  negative   \n",
       "2462689   Infuriated at being told to write one final co...  negative   \n",
       "20532852  A line of people  drool at the window of the s...  negative   \n",
       "\n",
       "          Compound Score  \n",
       "ID                        \n",
       "23890098          0.0083  \n",
       "31186339         -0.9941  \n",
       "20663735         -0.9867  \n",
       "2231378          -0.6127  \n",
       "595909           -0.9538  \n",
       "5272176          -0.9946  \n",
       "1952976          -0.7904  \n",
       "24225279         -0.5064  \n",
       "2462689          -0.9898  \n",
       "20532852         -0.8176  "
      ]
     },
     "execution_count": 57,
     "metadata": {},
     "output_type": "execute_result"
    }
   ],
   "source": [
    "data = []\n",
    "\n",
    "for line in plot_summaries:\n",
    "    parts = line.strip().split('\\t', 1) # Split each line by the tab character\n",
    "    if len(parts) == 2:\n",
    "        movie_id, summary = parts\n",
    "        sentiment, compound_score = get_sentiment(summary)\n",
    "        data.append([movie_id, summary, sentiment, compound_score])\n",
    "\n",
    "df_sent = pd.DataFrame(data, columns=['ID', 'Summary', 'Sentiment', 'Compound Score'])\n",
    "df_sent = df_sent.set_index('ID')\n",
    "\n",
    "df_sent.head(10)"
   ]
  },
  {
   "cell_type": "code",
   "execution_count": 58,
   "id": "ad260de9-ffd9-439c-a3c0-1c18d8b49970",
   "metadata": {},
   "outputs": [],
   "source": [
    "df_sent.index = df_sent.index.astype('int64')\n",
    "df_merged = pd.merge(df_treated, df_sent, left_index=True, right_index=True, how='left')"
   ]
  },
  {
   "cell_type": "code",
   "execution_count": 62,
   "id": "18844441-0ced-4f64-843f-d70560bb9147",
   "metadata": {},
   "outputs": [
    {
     "ename": "NameError",
     "evalue": "name 'df_event' is not defined",
     "output_type": "error",
     "traceback": [
      "\u001b[1;31m---------------------------------------------------------------------------\u001b[0m",
      "\u001b[1;31mNameError\u001b[0m                                 Traceback (most recent call last)",
      "Cell \u001b[1;32mIn[62], line 1\u001b[0m\n\u001b[1;32m----> 1\u001b[0m df_event[[\u001b[38;5;124m'\u001b[39m\u001b[38;5;124mSentiment\u001b[39m\u001b[38;5;124m'\u001b[39m, \u001b[38;5;124m'\u001b[39m\u001b[38;5;124mCompound Score\u001b[39m\u001b[38;5;124m'\u001b[39m]] \u001b[38;5;241m=\u001b[39m df_event\u001b[38;5;241m.\u001b[39mapply(\n\u001b[0;32m      2\u001b[0m     \u001b[38;5;28;01mlambda\u001b[39;00m row: pd\u001b[38;5;241m.\u001b[39mSeries(get_sentiment(row[\u001b[38;5;124m'\u001b[39m\u001b[38;5;124mDescription\u001b[39m\u001b[38;5;124m'\u001b[39m])) \u001b[38;5;28;01mif\u001b[39;00m pd\u001b[38;5;241m.\u001b[39mnotna(row[\u001b[38;5;124m'\u001b[39m\u001b[38;5;124mDescription\u001b[39m\u001b[38;5;124m'\u001b[39m]) \u001b[38;5;28;01melse\u001b[39;00m pd\u001b[38;5;241m.\u001b[39mSeries(get_sentiment(row[\u001b[38;5;124m'\u001b[39m\u001b[38;5;124mTitle\u001b[39m\u001b[38;5;124m'\u001b[39m])),\n\u001b[0;32m      3\u001b[0m     axis\u001b[38;5;241m=\u001b[39m\u001b[38;5;241m1\u001b[39m)\n",
      "\u001b[1;31mNameError\u001b[0m: name 'df_event' is not defined"
     ]
    }
   ],
   "source": [
    "df_event[['Sentiment', 'Compound Score']] = df_event.apply(\n",
    "    lambda row: pd.Series(get_sentiment(row['Description'])) if pd.notna(row['Description']) else pd.Series(get_sentiment(row['Title'])),\n",
    "    axis=1)"
   ]
  },
  {
   "cell_type": "code",
   "execution_count": null,
   "id": "98ed5138-2508-4d19-b061-0edf8a9b1c59",
   "metadata": {},
   "outputs": [],
   "source": [
    "df_merged.head(10)"
   ]
  },
  {
   "cell_type": "code",
   "execution_count": null,
   "id": "d0fa56f1-0692-43ea-84aa-bd39f3e59ce9",
   "metadata": {},
   "outputs": [],
   "source": [
    "df_event.head(10)"
   ]
  },
  {
   "cell_type": "markdown",
   "id": "0fbc69c8-bc24-416d-ad60-9dfffab31778",
   "metadata": {},
   "source": [
    "# 3. EXPORT CLEAN DATASETS"
   ]
  },
  {
   "cell_type": "code",
   "execution_count": null,
   "id": "9212f112-e270-48df-bec3-ebd69795725e",
   "metadata": {},
   "outputs": [],
   "source": [
    "df_merged.to_csv('../generated/cleaned_data.csv', index=True, encoding='utf-8')"
   ]
  },
  {
   "cell_type": "code",
   "execution_count": null,
   "id": "031109f6-43bf-4f7f-bbc9-38447e83de91",
   "metadata": {},
   "outputs": [],
   "source": [
    "df_event.to_csv('../generated/usa_historical_events.csv',index = False)"
   ]
  },
  {
   "cell_type": "code",
   "execution_count": null,
   "id": "9f6ff58a-b5f0-42e6-b704-e77531f2a226",
   "metadata": {},
   "outputs": [],
   "source": []
  }
 ],
 "metadata": {
  "kernelspec": {
   "display_name": "Python [conda env:base] *",
   "language": "python",
   "name": "conda-base-py"
  },
  "language_info": {
   "codemirror_mode": {
    "name": "ipython",
    "version": 3
   },
   "file_extension": ".py",
   "mimetype": "text/x-python",
   "name": "python",
   "nbconvert_exporter": "python",
   "pygments_lexer": "ipython3",
   "version": "3.12.3"
  }
 },
 "nbformat": 4,
 "nbformat_minor": 5
}
